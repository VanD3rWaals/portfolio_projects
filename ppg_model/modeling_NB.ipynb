{
 "cells": [
  {
   "cell_type": "code",
   "execution_count": 1,
   "id": "ef1f2589",
   "metadata": {},
   "outputs": [],
   "source": [
    "import pandas as pd\n",
    "import numpy as np\n",
    "import seaborn as sns\n",
    "\n",
    "from sklearn.model_selection import train_test_split\n",
    "from sklearn.preprocessing import StandardScaler\n",
    "\n",
    "import tensorflow as tf\n",
    "\n",
    "%matplotlib inline"
   ]
  },
  {
   "cell_type": "code",
   "execution_count": 2,
   "id": "f2a64b95",
   "metadata": {},
   "outputs": [
    {
     "name": "stdout",
     "output_type": "stream",
     "text": [
      "Num GPUs Available:  1\n"
     ]
    }
   ],
   "source": [
    "#check to make sure gpu is seen\n",
    "print(\"Num GPUs Available: \", len(tf.config.list_physical_devices('GPU')))"
   ]
  },
  {
   "cell_type": "code",
   "execution_count": 30,
   "id": "3b4a22cf",
   "metadata": {},
   "outputs": [
    {
     "data": {
      "text/html": [
       "<div>\n",
       "<style scoped>\n",
       "    .dataframe tbody tr th:only-of-type {\n",
       "        vertical-align: middle;\n",
       "    }\n",
       "\n",
       "    .dataframe tbody tr th {\n",
       "        vertical-align: top;\n",
       "    }\n",
       "\n",
       "    .dataframe thead th {\n",
       "        text-align: right;\n",
       "    }\n",
       "</style>\n",
       "<table border=\"1\" class=\"dataframe\">\n",
       "  <thead>\n",
       "    <tr style=\"text-align: right;\">\n",
       "      <th></th>\n",
       "      <th>time_stamp[sec]</th>\n",
       "      <th>user_id</th>\n",
       "      <th>activity_label</th>\n",
       "      <th>gt_heart_rate[BPM]</th>\n",
       "      <th>skin_temp[C]</th>\n",
       "      <th>EDA[microS]</th>\n",
       "      <th>fft_N</th>\n",
       "      <th>fft_xf</th>\n",
       "      <th>BVP_powerSpect</th>\n",
       "      <th>ACC0_powerSpect</th>\n",
       "      <th>ACC1_powerSpect</th>\n",
       "      <th>ACC2_powerSpect</th>\n",
       "    </tr>\n",
       "  </thead>\n",
       "  <tbody>\n",
       "    <tr>\n",
       "      <th>0</th>\n",
       "      <td>8.0</td>\n",
       "      <td>S1</td>\n",
       "      <td>0.0</td>\n",
       "      <td>49.611369</td>\n",
       "      <td>32.148125</td>\n",
       "      <td>4.716872</td>\n",
       "      <td>512</td>\n",
       "      <td>[0.0, 0.125, 0.25, 0.375, 0.5, 0.625, 0.75, 0....</td>\n",
       "      <td>[3.3845378816808207, 3.38976858233557, 3.52446...</td>\n",
       "      <td>[2.562674132862977, 0.11143156956661938, -0.52...</td>\n",
       "      <td>[1.1527868740280884, 0.49716310471656544, 0.12...</td>\n",
       "      <td>[2.033443262692457, 0.9587489502954717, -0.741...</td>\n",
       "    </tr>\n",
       "    <tr>\n",
       "      <th>1</th>\n",
       "      <td>10.0</td>\n",
       "      <td>S1</td>\n",
       "      <td>0.0</td>\n",
       "      <td>50.323992</td>\n",
       "      <td>32.148788</td>\n",
       "      <td>4.728222</td>\n",
       "      <td>512</td>\n",
       "      <td>[0.0, 0.124755859375, 0.24951171875, 0.3742675...</td>\n",
       "      <td>[3.808383411435166, 4.4141701914009355, 3.0151...</td>\n",
       "      <td>[2.6222823617278266, 0.18563611962841808, -0.4...</td>\n",
       "      <td>[1.1803303061912271, 0.4308321382652773, 0.210...</td>\n",
       "      <td>[1.7456387682027168, 0.8206843400998957, 0.449...</td>\n",
       "    </tr>\n",
       "    <tr>\n",
       "      <th>2</th>\n",
       "      <td>12.0</td>\n",
       "      <td>S1</td>\n",
       "      <td>0.0</td>\n",
       "      <td>52.708336</td>\n",
       "      <td>32.14697</td>\n",
       "      <td>4.739054</td>\n",
       "      <td>512</td>\n",
       "      <td>[0.0, 0.124755859375, 0.24951171875, 0.3742675...</td>\n",
       "      <td>[0.7342695069401706, 4.209209912863593, 3.5781...</td>\n",
       "      <td>[2.6734746500403324, -0.24896037304427496, -0....</td>\n",
       "      <td>[1.2779290837408603, 0.41187321007690075, 0.01...</td>\n",
       "      <td>[1.3509071508955937, -0.19744507193934496, -0....</td>\n",
       "    </tr>\n",
       "    <tr>\n",
       "      <th>3</th>\n",
       "      <td>14.0</td>\n",
       "      <td>S1</td>\n",
       "      <td>0.0</td>\n",
       "      <td>55.640794</td>\n",
       "      <td>32.144545</td>\n",
       "      <td>4.78867</td>\n",
       "      <td>512</td>\n",
       "      <td>[0.0, 0.124755859375, 0.24951171875, 0.3742675...</td>\n",
       "      <td>[2.770051706946417, 4.174047012599668, 2.65538...</td>\n",
       "      <td>[2.5951888190615753, 0.8157803941949502, 0.627...</td>\n",
       "      <td>[1.5922120167574618, 1.0553402247077845, 0.721...</td>\n",
       "      <td>[1.3871223788226001, 0.037125024476421804, -0....</td>\n",
       "    </tr>\n",
       "    <tr>\n",
       "      <th>4</th>\n",
       "      <td>16.0</td>\n",
       "      <td>S1</td>\n",
       "      <td>0.0</td>\n",
       "      <td>57.658406</td>\n",
       "      <td>32.143939</td>\n",
       "      <td>4.83025</td>\n",
       "      <td>512</td>\n",
       "      <td>[0.0, 0.124755859375, 0.24951171875, 0.3742675...</td>\n",
       "      <td>[4.333172257340451, 4.684529918870272, 4.49636...</td>\n",
       "      <td>[2.502046403655502, 1.1114429814184918, 0.3677...</td>\n",
       "      <td>[1.5711258620389141, 1.2133099373393048, 0.999...</td>\n",
       "      <td>[1.7460670246045409, 0.8034598015137145, 0.323...</td>\n",
       "    </tr>\n",
       "  </tbody>\n",
       "</table>\n",
       "</div>"
      ],
      "text/plain": [
       "  time_stamp[sec] user_id activity_label gt_heart_rate[BPM] skin_temp[C]  \\\n",
       "0             8.0      S1            0.0          49.611369    32.148125   \n",
       "1            10.0      S1            0.0          50.323992    32.148788   \n",
       "2            12.0      S1            0.0          52.708336     32.14697   \n",
       "3            14.0      S1            0.0          55.640794    32.144545   \n",
       "4            16.0      S1            0.0          57.658406    32.143939   \n",
       "\n",
       "  EDA[microS] fft_N                                             fft_xf  \\\n",
       "0    4.716872   512  [0.0, 0.125, 0.25, 0.375, 0.5, 0.625, 0.75, 0....   \n",
       "1    4.728222   512  [0.0, 0.124755859375, 0.24951171875, 0.3742675...   \n",
       "2    4.739054   512  [0.0, 0.124755859375, 0.24951171875, 0.3742675...   \n",
       "3     4.78867   512  [0.0, 0.124755859375, 0.24951171875, 0.3742675...   \n",
       "4     4.83025   512  [0.0, 0.124755859375, 0.24951171875, 0.3742675...   \n",
       "\n",
       "                                      BVP_powerSpect  \\\n",
       "0  [3.3845378816808207, 3.38976858233557, 3.52446...   \n",
       "1  [3.808383411435166, 4.4141701914009355, 3.0151...   \n",
       "2  [0.7342695069401706, 4.209209912863593, 3.5781...   \n",
       "3  [2.770051706946417, 4.174047012599668, 2.65538...   \n",
       "4  [4.333172257340451, 4.684529918870272, 4.49636...   \n",
       "\n",
       "                                     ACC0_powerSpect  \\\n",
       "0  [2.562674132862977, 0.11143156956661938, -0.52...   \n",
       "1  [2.6222823617278266, 0.18563611962841808, -0.4...   \n",
       "2  [2.6734746500403324, -0.24896037304427496, -0....   \n",
       "3  [2.5951888190615753, 0.8157803941949502, 0.627...   \n",
       "4  [2.502046403655502, 1.1114429814184918, 0.3677...   \n",
       "\n",
       "                                     ACC1_powerSpect  \\\n",
       "0  [1.1527868740280884, 0.49716310471656544, 0.12...   \n",
       "1  [1.1803303061912271, 0.4308321382652773, 0.210...   \n",
       "2  [1.2779290837408603, 0.41187321007690075, 0.01...   \n",
       "3  [1.5922120167574618, 1.0553402247077845, 0.721...   \n",
       "4  [1.5711258620389141, 1.2133099373393048, 0.999...   \n",
       "\n",
       "                                     ACC2_powerSpect  \n",
       "0  [2.033443262692457, 0.9587489502954717, -0.741...  \n",
       "1  [1.7456387682027168, 0.8206843400998957, 0.449...  \n",
       "2  [1.3509071508955937, -0.19744507193934496, -0....  \n",
       "3  [1.3871223788226001, 0.037125024476421804, -0....  \n",
       "4  [1.7460670246045409, 0.8034598015137145, 0.323...  "
      ]
     },
     "execution_count": 30,
     "metadata": {},
     "output_type": "execute_result"
    }
   ],
   "source": [
    "df = pd.read_pickle('E:/data_files/ppg_data/PPG_FieldStudy/processed_data_all_participants.pkl')\n",
    "df.head(5)"
   ]
  },
  {
   "cell_type": "code",
   "execution_count": 4,
   "id": "1fd90817",
   "metadata": {},
   "outputs": [
    {
     "data": {
      "text/plain": [
       "S10    5321\n",
       "S7     4668\n",
       "S5     4649\n",
       "S1     4603\n",
       "S4     4572\n",
       "S13    4565\n",
       "S11    4521\n",
       "S14    4476\n",
       "S3     4367\n",
       "S9     4277\n",
       "S2     4099\n",
       "S8     4037\n",
       "S15    3966\n",
       "S12    3954\n",
       "S6     2622\n",
       "Name: user_id, dtype: int64"
      ]
     },
     "execution_count": 4,
     "metadata": {},
     "output_type": "execute_result"
    }
   ],
   "source": [
    "df['user_id'].value_counts()"
   ]
  },
  {
   "cell_type": "code",
   "execution_count": 5,
   "id": "b2e9c50d",
   "metadata": {},
   "outputs": [
    {
     "data": {
      "text/plain": [
       "0.0    17495\n",
       "6.0    13552\n",
       "8.0     8502\n",
       "5.0     6845\n",
       "7.0     4697\n",
       "1.0     4573\n",
       "4.0     3479\n",
       "2.0     3242\n",
       "3.0     2312\n",
       "Name: activity_label, dtype: int64"
      ]
     },
     "execution_count": 5,
     "metadata": {},
     "output_type": "execute_result"
    }
   ],
   "source": [
    "df['activity_label'].value_counts()"
   ]
  },
  {
   "cell_type": "code",
   "execution_count": 32,
   "id": "484a7c33",
   "metadata": {},
   "outputs": [
    {
     "data": {
      "text/plain": [
       "S10    0.082245\n",
       "S7     0.072152\n",
       "S5     0.071858\n",
       "S1     0.071147\n",
       "S4     0.070668\n",
       "S13    0.070560\n",
       "S11    0.069880\n",
       "S14    0.069184\n",
       "S3     0.067499\n",
       "S9     0.066108\n",
       "S2     0.063357\n",
       "S8     0.062399\n",
       "S15    0.061301\n",
       "S12    0.061116\n",
       "S6     0.040527\n",
       "Name: user_id, dtype: float64"
      ]
     },
     "execution_count": 32,
     "metadata": {},
     "output_type": "execute_result"
    }
   ],
   "source": [
    "df['user_id'].value_counts(normalize=True)"
   ]
  },
  {
   "cell_type": "code",
   "execution_count": 31,
   "id": "7cf563f4",
   "metadata": {},
   "outputs": [
    {
     "data": {
      "text/plain": [
       "0.0    0.270414\n",
       "6.0    0.209469\n",
       "8.0    0.131413\n",
       "5.0    0.105801\n",
       "7.0    0.072600\n",
       "1.0    0.070683\n",
       "4.0    0.053774\n",
       "2.0    0.050111\n",
       "3.0    0.035736\n",
       "Name: activity_label, dtype: float64"
      ]
     },
     "execution_count": 31,
     "metadata": {},
     "output_type": "execute_result"
    }
   ],
   "source": [
    "df['activity_label'].value_counts(normalize=True)"
   ]
  },
  {
   "cell_type": "code",
   "execution_count": 36,
   "id": "76209086",
   "metadata": {},
   "outputs": [
    {
     "data": {
      "text/plain": [
       "0    S1_0\n",
       "dtype: object"
      ]
     },
     "execution_count": 36,
     "metadata": {},
     "output_type": "execute_result"
    }
   ],
   "source": [
    "y_for_splitting = df['user_id'].astype('str') + '_' + df['activity_label'].astype('int').astype('str')\n",
    "y_for_splitting.head(1)"
   ]
  },
  {
   "cell_type": "code",
   "execution_count": 34,
   "id": "e4b95400",
   "metadata": {},
   "outputs": [
    {
     "data": {
      "text/html": [
       "<div>\n",
       "<style scoped>\n",
       "    .dataframe tbody tr th:only-of-type {\n",
       "        vertical-align: middle;\n",
       "    }\n",
       "\n",
       "    .dataframe tbody tr th {\n",
       "        vertical-align: top;\n",
       "    }\n",
       "\n",
       "    .dataframe thead th {\n",
       "        text-align: right;\n",
       "    }\n",
       "</style>\n",
       "<table border=\"1\" class=\"dataframe\">\n",
       "  <thead>\n",
       "    <tr style=\"text-align: right;\">\n",
       "      <th></th>\n",
       "      <th>user_id</th>\n",
       "      <th>activity_label</th>\n",
       "      <th>gt_heart_rate[BPM]</th>\n",
       "      <th>skin_temp[C]</th>\n",
       "      <th>EDA[microS]</th>\n",
       "      <th>BVP_powerSpect</th>\n",
       "      <th>ACC0_powerSpect</th>\n",
       "      <th>ACC1_powerSpect</th>\n",
       "      <th>ACC2_powerSpect</th>\n",
       "    </tr>\n",
       "  </thead>\n",
       "  <tbody>\n",
       "    <tr>\n",
       "      <th>0</th>\n",
       "      <td>S1</td>\n",
       "      <td>0.0</td>\n",
       "      <td>49.611369</td>\n",
       "      <td>32.148125</td>\n",
       "      <td>4.716872</td>\n",
       "      <td>[3.3845378816808207, 3.38976858233557, 3.52446...</td>\n",
       "      <td>[2.562674132862977, 0.11143156956661938, -0.52...</td>\n",
       "      <td>[1.1527868740280884, 0.49716310471656544, 0.12...</td>\n",
       "      <td>[2.033443262692457, 0.9587489502954717, -0.741...</td>\n",
       "    </tr>\n",
       "  </tbody>\n",
       "</table>\n",
       "</div>"
      ],
      "text/plain": [
       "  user_id activity_label gt_heart_rate[BPM] skin_temp[C] EDA[microS]  \\\n",
       "0      S1            0.0          49.611369    32.148125    4.716872   \n",
       "\n",
       "                                      BVP_powerSpect  \\\n",
       "0  [3.3845378816808207, 3.38976858233557, 3.52446...   \n",
       "\n",
       "                                     ACC0_powerSpect  \\\n",
       "0  [2.562674132862977, 0.11143156956661938, -0.52...   \n",
       "\n",
       "                                     ACC1_powerSpect  \\\n",
       "0  [1.1527868740280884, 0.49716310471656544, 0.12...   \n",
       "\n",
       "                                     ACC2_powerSpect  \n",
       "0  [2.033443262692457, 0.9587489502954717, -0.741...  "
      ]
     },
     "execution_count": 34,
     "metadata": {},
     "output_type": "execute_result"
    }
   ],
   "source": [
    "X_w_label = df[['user_id','activity_label','gt_heart_rate[BPM]','skin_temp[C]','EDA[microS]','BVP_powerSpect','ACC0_powerSpect','ACC1_powerSpect','ACC2_powerSpect']]\n",
    "X_w_label.head(1)"
   ]
  },
  {
   "cell_type": "markdown",
   "id": "eb89a980",
   "metadata": {},
   "source": [
    "# split out a testing set\n",
    "\n",
    "use a concated version of the user_id and the activity id to split with the label (gt_hr) in the X then slicy y_train/test out of X verify that fractions of classes are ~ maintained."
   ]
  },
  {
   "cell_type": "code",
   "execution_count": 15,
   "id": "8156c9bd",
   "metadata": {},
   "outputs": [],
   "source": [
    "(X_train_wlabel, X_test_wlabel) = train_test_split(X_w_label, y_for_splitting, test_size=0.15, stratify=y_for_splitting)[:2]"
   ]
  },
  {
   "cell_type": "code",
   "execution_count": 16,
   "id": "21977f68",
   "metadata": {},
   "outputs": [],
   "source": [
    "y_train = X_train_wlabel['gt_heart_rate[BPM]']\n",
    "y_test = X_test_wlabel['gt_heart_rate[BPM]']\n",
    "X_train = X_train_wlabel.drop(columns='gt_heart_rate[BPM]')\n",
    "X_test = X_test_wlabel.drop(columns='gt_heart_rate[BPM]')"
   ]
  },
  {
   "cell_type": "code",
   "execution_count": 19,
   "id": "79434aa1",
   "metadata": {},
   "outputs": [
    {
     "data": {
      "text/plain": [
       "(54992, 8)"
      ]
     },
     "execution_count": 19,
     "metadata": {},
     "output_type": "execute_result"
    }
   ],
   "source": [
    "X_train.shape"
   ]
  },
  {
   "cell_type": "code",
   "execution_count": 20,
   "id": "99bf8ccb",
   "metadata": {},
   "outputs": [
    {
     "data": {
      "text/plain": [
       "(9705, 8)"
      ]
     },
     "execution_count": 20,
     "metadata": {},
     "output_type": "execute_result"
    }
   ],
   "source": [
    "X_test.shape"
   ]
  },
  {
   "cell_type": "code",
   "execution_count": 41,
   "id": "a6b2b116",
   "metadata": {},
   "outputs": [
    {
     "data": {
      "text/plain": [
       "S10    0.000019\n",
       "S7     0.000024\n",
       "S5     0.000039\n",
       "S1    -0.000053\n",
       "S4    -0.000017\n",
       "S13    0.000081\n",
       "S11    0.000019\n",
       "S14   -0.000059\n",
       "S3     0.000008\n",
       "S9     0.000060\n",
       "S2    -0.000116\n",
       "S8     0.000060\n",
       "S15    0.000096\n",
       "S12   -0.000090\n",
       "S6    -0.000070\n",
       "Name: user_id, dtype: float64"
      ]
     },
     "execution_count": 41,
     "metadata": {},
     "output_type": "execute_result"
    }
   ],
   "source": [
    "df['user_id'].value_counts(normalize=True) - X_test['user_id'].value_counts(normalize=True)"
   ]
  },
  {
   "cell_type": "code",
   "execution_count": 40,
   "id": "779feca7",
   "metadata": {},
   "outputs": [
    {
     "data": {
      "text/plain": [
       "0.0    0.000038\n",
       "6.0   -0.000114\n",
       "8.0    0.000037\n",
       "5.0   -0.000021\n",
       "7.0    0.000060\n",
       "1.0   -0.000002\n",
       "4.0   -0.000013\n",
       "2.0    0.000136\n",
       "3.0   -0.000122\n",
       "Name: activity_label, dtype: float64"
      ]
     },
     "execution_count": 40,
     "metadata": {},
     "output_type": "execute_result"
    }
   ],
   "source": [
    "df['activity_label'].value_counts(normalize=True) - X_test['activity_label'].value_counts(normalize=True)"
   ]
  },
  {
   "cell_type": "code",
   "execution_count": 26,
   "id": "a897d083",
   "metadata": {},
   "outputs": [
    {
     "data": {
      "image/png": "[encoded data removed]",
      "text/plain": [
       "<Figure size 1080x720 with 1 Axes>"
      ]
     },
     "metadata": {
      "needs_background": "light"
     },
     "output_type": "display_data"
    }
   ],
   "source": [
    "g_data = X_train\\\n",
    "            .groupby(['activity_label'])['user_id']\\\n",
    "            .apply(pd.Series.value_counts, normalize = True)\\\n",
    "            .rename('fraction')\\\n",
    "            .reset_index().rename(columns={'level_1':'user_id'})\\\n",
    "            .sort_values(by='activity_label',ascending = True)\n",
    "\n",
    "g = sns.catplot(\n",
    "                data = g_data\n",
    "                ,x = 'user_id'\n",
    "                ,y = 'fraction' \n",
    "                , kind = 'bar'\n",
    "                , hue = 'activity_label'\n",
    "                , palette = 'colorblind'\n",
    "               )\n",
    "\n",
    "g.fig.set_figwidth(15)\n",
    "g.fig.set_figheight(10)\n",
    "g.axes[0,0].set_xticklabels(g.axes[0,0].get_xticklabels(),rotation = 60)\n",
    "g.axes[0,0].set_xlabel('user_id')\n",
    "g.axes[0,0].set_ylabel('Fraction of time');"
   ]
  },
  {
   "cell_type": "markdown",
   "id": "612d73d9",
   "metadata": {},
   "source": [
    "## determine scaling factors and scale X_train values\n",
    "write custome function to scale X for modeling \n",
    "determine a average and std for each and apply standard scaling. scale BVP power spectra and ACC power sectra with two sets of mean and std (one for BVP and one for all ACC)"
   ]
  },
  {
   "cell_type": "code",
   "execution_count": 215,
   "id": "a1a12056",
   "metadata": {},
   "outputs": [],
   "source": [
    "class ppg_scailer():\n",
    "    temp_sp = ()\n",
    "    eda_sp = ()\n",
    "    bvp_sp = ()\n",
    "    acc_sp = ()\n",
    "    \n",
    "    def fit(self,X):\n",
    "        self.temp_sp = (X['skin_temp[C]'].min(), X['skin_temp[C]'].max())\n",
    "        self.eda_sp = (X['EDA[microS]'].min(), X['EDA[microS]'].max())\n",
    "        \n",
    "        temp = np.concatenate(X_play['BVP_powerSpect'].values).ravel()\n",
    "        self.bvp_sp = (temp.min(), temp.max())\n",
    "        \n",
    "        temp = np.concatenate(np.concatenate(X[['ACC0_powerSpect','ACC1_powerSpect','ACC2_powerSpect']].values)).ravel()\n",
    "        self.acc_sp = (temp.min(), temp.max())    \n",
    "    \n",
    "    def transform(self,X):\n",
    "        X_out = pd.DataFrame()\n",
    "        X_out['skin_temp[C]'] = X['skin_temp[C]'].apply(lambda x: (x-self.temp_sp[0])/(self.temp_sp[1] - self.temp_sp[0]))\n",
    "        \n",
    "        X_out['EDA[microS]'] = X['EDA[microS]'].apply(lambda x: (x-self.eda_sp[0])/(self.eda_sp[1] - self.eda_sp[0]))\n",
    "        \n",
    "        X_out['BVP_powerSpect'] = X['BVP_powerSpect'].apply(lambda x: (x-self.bvp_sp[0])/(self.bvp_sp[1] - self.bvp_sp[0]))\n",
    "        \n",
    "        X_out[['ACC0_powerSpect','ACC1_powerSpect','ACC2_powerSpect']] = X[['ACC0_powerSpect','ACC1_powerSpect','ACC2_powerSpect']].apply(lambda x: (x-self.acc_sp[0])/(self.acc_sp[1] - self.acc_sp[0]))\n",
    "\n",
    "        return X_out\n",
    "    \n",
    "    \n",
    "    def fit_transform(self,X):\n",
    "        self.fit(X)\n",
    "        return self.transform(X)"
   ]
  },
  {
   "cell_type": "code",
   "execution_count": null,
   "id": "e66be033",
   "metadata": {},
   "outputs": [],
   "source": []
  }
 ],
 "metadata": {
  "kernelspec": {
   "display_name": "Python 3 (ipykernel)",
   "language": "python",
   "name": "python3"
  },
  "language_info": {
   "codemirror_mode": {
    "name": "ipython",
    "version": 3
   },
   "file_extension": ".py",
   "mimetype": "text/x-python",
   "name": "python",
   "nbconvert_exporter": "python",
   "pygments_lexer": "ipython3",
   "version": "3.8.13"
  }
 },
 "nbformat": 4,
 "nbformat_minor": 5
}
