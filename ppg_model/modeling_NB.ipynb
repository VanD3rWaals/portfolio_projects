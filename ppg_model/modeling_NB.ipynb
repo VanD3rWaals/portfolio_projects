{
 "cells": [
  {
   "cell_type": "code",
   "execution_count": 58,
   "id": "d9bc3ab8",
   "metadata": {},
   "outputs": [],
   "source": [
    "import pandas as pd\n",
    "import numpy as np\n",
    "import seaborn as sns\n",
    "\n",
    "from sklearn.model_selection import train_test_split\n",
    "\n",
    "import matplotlib.pyplot as plt\n",
    "%matplotlib inline"
   ]
  },
  {
   "cell_type": "code",
   "execution_count": 2,
   "id": "aac86deb",
   "metadata": {},
   "outputs": [
    {
     "data": {
      "text/html": [
       "<div>\n",
       "<style scoped>\n",
       "    .dataframe tbody tr th:only-of-type {\n",
       "        vertical-align: middle;\n",
       "    }\n",
       "\n",
       "    .dataframe tbody tr th {\n",
       "        vertical-align: top;\n",
       "    }\n",
       "\n",
       "    .dataframe thead th {\n",
       "        text-align: right;\n",
       "    }\n",
       "</style>\n",
       "<table border=\"1\" class=\"dataframe\">\n",
       "  <thead>\n",
       "    <tr style=\"text-align: right;\">\n",
       "      <th></th>\n",
       "      <th>time_stamp[sec]</th>\n",
       "      <th>user_id</th>\n",
       "      <th>activity_label</th>\n",
       "      <th>gt_heart_rate[BPM]</th>\n",
       "      <th>skin_temp[C]</th>\n",
       "      <th>EDA[microS]</th>\n",
       "      <th>fft_N</th>\n",
       "      <th>fft_xf</th>\n",
       "      <th>BVP_powerSpect</th>\n",
       "      <th>ACC0_powerSpect</th>\n",
       "      <th>ACC1_powerSpect</th>\n",
       "      <th>ACC2_powerSpect</th>\n",
       "    </tr>\n",
       "  </thead>\n",
       "  <tbody>\n",
       "    <tr>\n",
       "      <th>0</th>\n",
       "      <td>8.0</td>\n",
       "      <td>S1</td>\n",
       "      <td>0.0</td>\n",
       "      <td>49.611369</td>\n",
       "      <td>32.148125</td>\n",
       "      <td>4.716872</td>\n",
       "      <td>512</td>\n",
       "      <td>[0.0, 0.125, 0.25, 0.375, 0.5, 0.625, 0.75, 0....</td>\n",
       "      <td>[3.3845378816808207, 3.38976858233557, 3.52446...</td>\n",
       "      <td>[2.562674132862977, 0.11143156956661938, -0.52...</td>\n",
       "      <td>[1.1527868740280884, 0.49716310471656544, 0.12...</td>\n",
       "      <td>[2.033443262692457, 0.9587489502954717, -0.741...</td>\n",
       "    </tr>\n",
       "    <tr>\n",
       "      <th>1</th>\n",
       "      <td>10.0</td>\n",
       "      <td>S1</td>\n",
       "      <td>0.0</td>\n",
       "      <td>50.323992</td>\n",
       "      <td>32.148788</td>\n",
       "      <td>4.728222</td>\n",
       "      <td>512</td>\n",
       "      <td>[0.0, 0.124755859375, 0.24951171875, 0.3742675...</td>\n",
       "      <td>[3.808383411435166, 4.4141701914009355, 3.0151...</td>\n",
       "      <td>[2.6222823617278266, 0.18563611962841808, -0.4...</td>\n",
       "      <td>[1.1803303061912271, 0.4308321382652773, 0.210...</td>\n",
       "      <td>[1.7456387682027168, 0.8206843400998957, 0.449...</td>\n",
       "    </tr>\n",
       "    <tr>\n",
       "      <th>2</th>\n",
       "      <td>12.0</td>\n",
       "      <td>S1</td>\n",
       "      <td>0.0</td>\n",
       "      <td>52.708336</td>\n",
       "      <td>32.14697</td>\n",
       "      <td>4.739054</td>\n",
       "      <td>512</td>\n",
       "      <td>[0.0, 0.124755859375, 0.24951171875, 0.3742675...</td>\n",
       "      <td>[0.7342695069401706, 4.209209912863593, 3.5781...</td>\n",
       "      <td>[2.6734746500403324, -0.24896037304427496, -0....</td>\n",
       "      <td>[1.2779290837408603, 0.41187321007690075, 0.01...</td>\n",
       "      <td>[1.3509071508955937, -0.19744507193934496, -0....</td>\n",
       "    </tr>\n",
       "    <tr>\n",
       "      <th>3</th>\n",
       "      <td>14.0</td>\n",
       "      <td>S1</td>\n",
       "      <td>0.0</td>\n",
       "      <td>55.640794</td>\n",
       "      <td>32.144545</td>\n",
       "      <td>4.78867</td>\n",
       "      <td>512</td>\n",
       "      <td>[0.0, 0.124755859375, 0.24951171875, 0.3742675...</td>\n",
       "      <td>[2.770051706946417, 4.174047012599668, 2.65538...</td>\n",
       "      <td>[2.5951888190615753, 0.8157803941949502, 0.627...</td>\n",
       "      <td>[1.5922120167574618, 1.0553402247077845, 0.721...</td>\n",
       "      <td>[1.3871223788226001, 0.037125024476421804, -0....</td>\n",
       "    </tr>\n",
       "    <tr>\n",
       "      <th>4</th>\n",
       "      <td>16.0</td>\n",
       "      <td>S1</td>\n",
       "      <td>0.0</td>\n",
       "      <td>57.658406</td>\n",
       "      <td>32.143939</td>\n",
       "      <td>4.83025</td>\n",
       "      <td>512</td>\n",
       "      <td>[0.0, 0.124755859375, 0.24951171875, 0.3742675...</td>\n",
       "      <td>[4.333172257340451, 4.684529918870272, 4.49636...</td>\n",
       "      <td>[2.502046403655502, 1.1114429814184918, 0.3677...</td>\n",
       "      <td>[1.5711258620389141, 1.2133099373393048, 0.999...</td>\n",
       "      <td>[1.7460670246045409, 0.8034598015137145, 0.323...</td>\n",
       "    </tr>\n",
       "  </tbody>\n",
       "</table>\n",
       "</div>"
      ],
      "text/plain": [
       "  time_stamp[sec] user_id activity_label gt_heart_rate[BPM] skin_temp[C]  \\\n",
       "0             8.0      S1            0.0          49.611369    32.148125   \n",
       "1            10.0      S1            0.0          50.323992    32.148788   \n",
       "2            12.0      S1            0.0          52.708336     32.14697   \n",
       "3            14.0      S1            0.0          55.640794    32.144545   \n",
       "4            16.0      S1            0.0          57.658406    32.143939   \n",
       "\n",
       "  EDA[microS] fft_N                                             fft_xf  \\\n",
       "0    4.716872   512  [0.0, 0.125, 0.25, 0.375, 0.5, 0.625, 0.75, 0....   \n",
       "1    4.728222   512  [0.0, 0.124755859375, 0.24951171875, 0.3742675...   \n",
       "2    4.739054   512  [0.0, 0.124755859375, 0.24951171875, 0.3742675...   \n",
       "3     4.78867   512  [0.0, 0.124755859375, 0.24951171875, 0.3742675...   \n",
       "4     4.83025   512  [0.0, 0.124755859375, 0.24951171875, 0.3742675...   \n",
       "\n",
       "                                      BVP_powerSpect  \\\n",
       "0  [3.3845378816808207, 3.38976858233557, 3.52446...   \n",
       "1  [3.808383411435166, 4.4141701914009355, 3.0151...   \n",
       "2  [0.7342695069401706, 4.209209912863593, 3.5781...   \n",
       "3  [2.770051706946417, 4.174047012599668, 2.65538...   \n",
       "4  [4.333172257340451, 4.684529918870272, 4.49636...   \n",
       "\n",
       "                                     ACC0_powerSpect  \\\n",
       "0  [2.562674132862977, 0.11143156956661938, -0.52...   \n",
       "1  [2.6222823617278266, 0.18563611962841808, -0.4...   \n",
       "2  [2.6734746500403324, -0.24896037304427496, -0....   \n",
       "3  [2.5951888190615753, 0.8157803941949502, 0.627...   \n",
       "4  [2.502046403655502, 1.1114429814184918, 0.3677...   \n",
       "\n",
       "                                     ACC1_powerSpect  \\\n",
       "0  [1.1527868740280884, 0.49716310471656544, 0.12...   \n",
       "1  [1.1803303061912271, 0.4308321382652773, 0.210...   \n",
       "2  [1.2779290837408603, 0.41187321007690075, 0.01...   \n",
       "3  [1.5922120167574618, 1.0553402247077845, 0.721...   \n",
       "4  [1.5711258620389141, 1.2133099373393048, 0.999...   \n",
       "\n",
       "                                     ACC2_powerSpect  \n",
       "0  [2.033443262692457, 0.9587489502954717, -0.741...  \n",
       "1  [1.7456387682027168, 0.8206843400998957, 0.449...  \n",
       "2  [1.3509071508955937, -0.19744507193934496, -0....  \n",
       "3  [1.3871223788226001, 0.037125024476421804, -0....  \n",
       "4  [1.7460670246045409, 0.8034598015137145, 0.323...  "
      ]
     },
     "execution_count": 2,
     "metadata": {},
     "output_type": "execute_result"
    }
   ],
   "source": [
    "df = pd.read_pickle('E:/data_files/ppg_data/PPG_FieldStudy/processed_data_all_participants.pkl')\n",
    "df.head(5)"
   ]
  },
  {
   "cell_type": "code",
   "execution_count": 3,
   "id": "648e71df",
   "metadata": {},
   "outputs": [
    {
     "data": {
      "text/plain": [
       "S10    5321\n",
       "S7     4668\n",
       "S5     4649\n",
       "S1     4603\n",
       "S4     4572\n",
       "S13    4565\n",
       "S11    4521\n",
       "S14    4476\n",
       "S3     4367\n",
       "S9     4277\n",
       "S2     4099\n",
       "S8     4037\n",
       "S15    3966\n",
       "S12    3954\n",
       "S6     2622\n",
       "Name: user_id, dtype: int64"
      ]
     },
     "execution_count": 3,
     "metadata": {},
     "output_type": "execute_result"
    }
   ],
   "source": [
    "df['user_id'].value_counts()"
   ]
  },
  {
   "cell_type": "code",
   "execution_count": 4,
   "id": "b033bf9c",
   "metadata": {},
   "outputs": [
    {
     "data": {
      "text/plain": [
       "0.0    17495\n",
       "6.0    13552\n",
       "8.0     8502\n",
       "5.0     6845\n",
       "7.0     4697\n",
       "1.0     4573\n",
       "4.0     3479\n",
       "2.0     3242\n",
       "3.0     2312\n",
       "Name: activity_label, dtype: int64"
      ]
     },
     "execution_count": 4,
     "metadata": {},
     "output_type": "execute_result"
    }
   ],
   "source": [
    "df['activity_label'].value_counts()"
   ]
  },
  {
   "cell_type": "code",
   "execution_count": 5,
   "id": "41ccbd36",
   "metadata": {},
   "outputs": [
    {
     "data": {
      "text/plain": [
       "S10    0.082245\n",
       "S7     0.072152\n",
       "S5     0.071858\n",
       "S1     0.071147\n",
       "S4     0.070668\n",
       "S13    0.070560\n",
       "S11    0.069880\n",
       "S14    0.069184\n",
       "S3     0.067499\n",
       "S9     0.066108\n",
       "S2     0.063357\n",
       "S8     0.062399\n",
       "S15    0.061301\n",
       "S12    0.061116\n",
       "S6     0.040527\n",
       "Name: user_id, dtype: float64"
      ]
     },
     "execution_count": 5,
     "metadata": {},
     "output_type": "execute_result"
    }
   ],
   "source": [
    "df['user_id'].value_counts(normalize=True)"
   ]
  },
  {
   "cell_type": "code",
   "execution_count": 6,
   "id": "e02dfecb",
   "metadata": {},
   "outputs": [
    {
     "data": {
      "text/plain": [
       "0.0    0.270414\n",
       "6.0    0.209469\n",
       "8.0    0.131413\n",
       "5.0    0.105801\n",
       "7.0    0.072600\n",
       "1.0    0.070683\n",
       "4.0    0.053774\n",
       "2.0    0.050111\n",
       "3.0    0.035736\n",
       "Name: activity_label, dtype: float64"
      ]
     },
     "execution_count": 6,
     "metadata": {},
     "output_type": "execute_result"
    }
   ],
   "source": [
    "df['activity_label'].value_counts(normalize=True)"
   ]
  },
  {
   "cell_type": "code",
   "execution_count": 7,
   "id": "bfbc08c8",
   "metadata": {},
   "outputs": [
    {
     "data": {
      "text/html": [
       "<div>\n",
       "<style scoped>\n",
       "    .dataframe tbody tr th:only-of-type {\n",
       "        vertical-align: middle;\n",
       "    }\n",
       "\n",
       "    .dataframe tbody tr th {\n",
       "        vertical-align: top;\n",
       "    }\n",
       "\n",
       "    .dataframe thead th {\n",
       "        text-align: right;\n",
       "    }\n",
       "</style>\n",
       "<table border=\"1\" class=\"dataframe\">\n",
       "  <thead>\n",
       "    <tr style=\"text-align: right;\">\n",
       "      <th></th>\n",
       "      <th>time_stamp[sec]</th>\n",
       "      <th>user_id</th>\n",
       "      <th>activity_label</th>\n",
       "      <th>skin_temp[C]</th>\n",
       "      <th>EDA[microS]</th>\n",
       "      <th>BVP_powerSpect</th>\n",
       "      <th>ACC0_powerSpect</th>\n",
       "      <th>ACC1_powerSpect</th>\n",
       "      <th>ACC2_powerSpect</th>\n",
       "    </tr>\n",
       "  </thead>\n",
       "  <tbody>\n",
       "    <tr>\n",
       "      <th>0</th>\n",
       "      <td>8.0</td>\n",
       "      <td>S1</td>\n",
       "      <td>0.0</td>\n",
       "      <td>32.148125</td>\n",
       "      <td>4.716872</td>\n",
       "      <td>[3.3845378816808207, 3.38976858233557, 3.52446...</td>\n",
       "      <td>[2.562674132862977, 0.11143156956661938, -0.52...</td>\n",
       "      <td>[1.1527868740280884, 0.49716310471656544, 0.12...</td>\n",
       "      <td>[2.033443262692457, 0.9587489502954717, -0.741...</td>\n",
       "    </tr>\n",
       "  </tbody>\n",
       "</table>\n",
       "</div>"
      ],
      "text/plain": [
       "  time_stamp[sec] user_id activity_label skin_temp[C] EDA[microS]  \\\n",
       "0             8.0      S1            0.0    32.148125    4.716872   \n",
       "\n",
       "                                      BVP_powerSpect  \\\n",
       "0  [3.3845378816808207, 3.38976858233557, 3.52446...   \n",
       "\n",
       "                                     ACC0_powerSpect  \\\n",
       "0  [2.562674132862977, 0.11143156956661938, -0.52...   \n",
       "\n",
       "                                     ACC1_powerSpect  \\\n",
       "0  [1.1527868740280884, 0.49716310471656544, 0.12...   \n",
       "\n",
       "                                     ACC2_powerSpect  \n",
       "0  [2.033443262692457, 0.9587489502954717, -0.741...  "
      ]
     },
     "execution_count": 7,
     "metadata": {},
     "output_type": "execute_result"
    }
   ],
   "source": [
    "X = df[['time_stamp[sec]','user_id','activity_label','skin_temp[C]','EDA[microS]','BVP_powerSpect','ACC0_powerSpect','ACC1_powerSpect','ACC2_powerSpect']]\n",
    "X.head(1)"
   ]
  },
  {
   "cell_type": "code",
   "execution_count": 8,
   "id": "cdf4ade1",
   "metadata": {},
   "outputs": [
    {
     "data": {
      "text/plain": [
       "0    49.61137\n",
       "Name: gt_heart_rate[BPM], dtype: float32"
      ]
     },
     "execution_count": 8,
     "metadata": {},
     "output_type": "execute_result"
    }
   ],
   "source": [
    "y = df['gt_heart_rate[BPM]'].astype('float32')\n",
    "y.head(1)"
   ]
  },
  {
   "cell_type": "code",
   "execution_count": 9,
   "id": "00bb4f1f",
   "metadata": {},
   "outputs": [
    {
     "data": {
      "text/plain": [
       "0    S1_0\n",
       "dtype: object"
      ]
     },
     "execution_count": 9,
     "metadata": {},
     "output_type": "execute_result"
    }
   ],
   "source": [
    "y_for_splitting = X['user_id'].astype('str') + '_' + X['activity_label'].astype('int').astype('str')\n",
    "y_for_splitting.head(1)"
   ]
  },
  {
   "cell_type": "markdown",
   "id": "eb91738e",
   "metadata": {},
   "source": [
    "# split out a testing set\n",
    "\n",
    "use a concated version of the user_id and the activity id to split with the label (gt_hr) in the X then slicy y_train/test out of X verify that fractions of classes are ~ maintained."
   ]
  },
  {
   "cell_type": "code",
   "execution_count": 10,
   "id": "59d22bb9",
   "metadata": {},
   "outputs": [],
   "source": [
    "(X_train, X_test, y_train, y_test) = train_test_split(X, y, test_size=0.15, stratify=y_for_splitting)"
   ]
  },
  {
   "cell_type": "code",
   "execution_count": 11,
   "id": "8070afe1",
   "metadata": {},
   "outputs": [
    {
     "data": {
      "text/plain": [
       "(54992, 9)"
      ]
     },
     "execution_count": 11,
     "metadata": {},
     "output_type": "execute_result"
    }
   ],
   "source": [
    "X_train.shape"
   ]
  },
  {
   "cell_type": "code",
   "execution_count": 12,
   "id": "c34403a0",
   "metadata": {},
   "outputs": [
    {
     "data": {
      "text/plain": [
       "(9705, 9)"
      ]
     },
     "execution_count": 12,
     "metadata": {},
     "output_type": "execute_result"
    }
   ],
   "source": [
    "X_test.shape"
   ]
  },
  {
   "cell_type": "code",
   "execution_count": 13,
   "id": "14f6f08d",
   "metadata": {},
   "outputs": [
    {
     "data": {
      "text/plain": [
       "S10    0.000019\n",
       "S7     0.000024\n",
       "S5     0.000039\n",
       "S1    -0.000053\n",
       "S4    -0.000017\n",
       "S13    0.000081\n",
       "S11    0.000019\n",
       "S14   -0.000059\n",
       "S3     0.000008\n",
       "S9     0.000060\n",
       "S2    -0.000116\n",
       "S8     0.000060\n",
       "S15    0.000096\n",
       "S12   -0.000090\n",
       "S6    -0.000070\n",
       "Name: user_id, dtype: float64"
      ]
     },
     "execution_count": 13,
     "metadata": {},
     "output_type": "execute_result"
    }
   ],
   "source": [
    "df['user_id'].value_counts(normalize=True) - X_test['user_id'].value_counts(normalize=True)"
   ]
  },
  {
   "cell_type": "code",
   "execution_count": 14,
   "id": "f1c04ec2",
   "metadata": {},
   "outputs": [
    {
     "data": {
      "text/plain": [
       "0.0    0.000038\n",
       "6.0   -0.000114\n",
       "8.0    0.000037\n",
       "5.0   -0.000021\n",
       "7.0    0.000060\n",
       "1.0   -0.000002\n",
       "4.0   -0.000013\n",
       "2.0    0.000136\n",
       "3.0   -0.000122\n",
       "Name: activity_label, dtype: float64"
      ]
     },
     "execution_count": 14,
     "metadata": {},
     "output_type": "execute_result"
    }
   ],
   "source": [
    "df['activity_label'].value_counts(normalize=True) - X_test['activity_label'].value_counts(normalize=True)"
   ]
  },
  {
   "cell_type": "code",
   "execution_count": 15,
   "id": "9cd39536",
   "metadata": {},
   "outputs": [
    {
     "data": {
      "image/png": "[encoded data removed]",
      "text/plain": [
       "<Figure size 1080x720 with 1 Axes>"
      ]
     },
     "metadata": {
      "needs_background": "light"
     },
     "output_type": "display_data"
    }
   ],
   "source": [
    "g_data = X_train\\\n",
    "            .groupby(['activity_label'])['user_id']\\\n",
    "            .apply(pd.Series.value_counts, normalize = True)\\\n",
    "            .rename('fraction')\\\n",
    "            .reset_index().rename(columns={'level_1':'user_id'})\\\n",
    "            .sort_values(by='activity_label',ascending = True)\n",
    "\n",
    "g = sns.catplot(\n",
    "                data = g_data\n",
    "                ,x = 'user_id'\n",
    "                ,y = 'fraction' \n",
    "                , kind = 'bar'\n",
    "                , hue = 'activity_label'\n",
    "                , palette = 'colorblind'\n",
    "               )\n",
    "\n",
    "g.fig.set_figwidth(15)\n",
    "g.fig.set_figheight(10)\n",
    "g.axes[0,0].set_xticklabels(g.axes[0,0].get_xticklabels(),rotation = 60)\n",
    "g.axes[0,0].set_xlabel('user_id')\n",
    "g.axes[0,0].set_ylabel('Fraction of time');"
   ]
  },
  {
   "cell_type": "code",
   "execution_count": null,
   "id": "34882cac",
   "metadata": {},
   "outputs": [],
   "source": [
    "X_train.info()"
   ]
  },
  {
   "cell_type": "markdown",
   "id": "6346cc13",
   "metadata": {},
   "source": [
    "# 'traditional' ML regressors"
   ]
  },
  {
   "cell_type": "code",
   "execution_count": 110,
   "id": "8032ecc8",
   "metadata": {},
   "outputs": [],
   "source": [
    "from sklearn.pipeline import Pipeline\n",
    "from sklearn.model_selection import cross_validate\n",
    "from sklearn.model_selection import GridSearchCV\n",
    "\n",
    "from sklearn.decomposition import PCA\n",
    "from sklearn.preprocessing import MinMaxScaler, StandardScaler, RobustScaler\n",
    "\n",
    "from sklearn.metrics import mean_absolute_error, mean_squared_error, make_scorer\n",
    "\n",
    "from sklearn.linear_model import LinearRegression\n",
    "from sklearn.svm import SVR\n",
    "\n",
    "from sklearn.tree import DecisionTreeRegressor\n",
    "from sklearn.ensemble import RandomForestRegressor"
   ]
  },
  {
   "cell_type": "markdown",
   "id": "86783625",
   "metadata": {},
   "source": [
    "# first need a function to parse X data frames into shape for ML (one feature per column)"
   ]
  },
  {
   "cell_type": "code",
   "execution_count": 18,
   "id": "8e10c21e",
   "metadata": {},
   "outputs": [],
   "source": [
    "def prep_df_for_LinReg(X_df,x_f_bins):\n",
    "    f_names = ['skin_temp[C]','EDA[microS]']\n",
    "    for i in range(len(x_f_bins)):\n",
    "            f_names.append('BVP_power_' + str(x_f_bins[i]))\n",
    "            f_names.append('ACC0_power_' + str(x_f_bins[i]))\n",
    "            f_names.append('ACC1_power_' + str(x_f_bins[i]))\n",
    "            f_names.append('ACC2_power_' + str(x_f_bins[i]))\n",
    "            \n",
    "    out_df = pd.DataFrame(columns = sorted(f_names))\n",
    "    \n",
    "    f_name_bvp = []\n",
    "    for i in range(len(x_f_bins)):\n",
    "            f_name_bvp.append('BVP_power_' + str(x_f_bins[i]))\n",
    "\n",
    "    f_name_acc0 = []\n",
    "    for i in range(len(x_f_bins)):\n",
    "            f_name_acc0.append('ACC0_power_' + str(x_f_bins[i]))\n",
    "    \n",
    "    f_name_acc1 = []\n",
    "    for i in range(len(x_f_bins)):\n",
    "            f_name_acc1.append('ACC1_power_' + str(x_f_bins[i]))\n",
    "            \n",
    "    f_name_acc2 = []\n",
    "    for i in range(len(x_f_bins)):\n",
    "            f_name_acc2.append('ACC2_power_' + str(x_f_bins[i]))\n",
    "    \n",
    "    bvp_df = pd.DataFrame( X_df['BVP_powerSpect'].str,index = f_name_bvp).T\n",
    "    \n",
    "    acc0_df = pd.DataFrame( X_df['ACC0_powerSpect'].str,index = f_name_acc0).T\n",
    "    acc1_df = pd.DataFrame( X_df['ACC1_powerSpect'].str,index = f_name_acc1).T\n",
    "    acc2_df = pd.DataFrame( X_df['ACC2_powerSpect'].str,index = f_name_acc2).T\n",
    "        \n",
    "    out_df = pd.concat([bvp_df,acc0_df,acc1_df,acc2_df,X_df[['skin_temp[C]','EDA[microS]']]], axis=1)\n",
    "    \n",
    "    return out_df.fillna(0)"
   ]
  },
  {
   "cell_type": "code",
   "execution_count": 19,
   "id": "f77d5dc8",
   "metadata": {},
   "outputs": [],
   "source": [
    "def pad_array_w0_to_length(i_array, desired_length):\n",
    "    referance = np.zeros((desired_length,),dtype=float)\n",
    "    referance[:i_array.shape[0]] = i_array\n",
    "    return referance"
   ]
  },
  {
   "cell_type": "code",
   "execution_count": null,
   "id": "0687e5a8",
   "metadata": {},
   "outputs": [],
   "source": [
    "X_play = X_train.iloc[:100,:]\n",
    "X_play.head(2)    "
   ]
  },
  {
   "cell_type": "code",
   "execution_count": null,
   "id": "7eab9909",
   "metadata": {},
   "outputs": [],
   "source": [
    "X_play_in = prep_df_for_LinReg(X_play, df.fft_xf[0])\n",
    "X_play_in"
   ]
  },
  {
   "cell_type": "code",
   "execution_count": 20,
   "id": "4a1c3ce7",
   "metadata": {},
   "outputs": [
    {
     "name": "stderr",
     "output_type": "stream",
     "text": [
      "C:\\Users\\PFCva\\AppData\\Local\\Temp\\ipykernel_22964\\411684310.py:27: FutureWarning: Columnar iteration over characters will be deprecated in future releases.\n",
      "  bvp_df = pd.DataFrame( X_df['BVP_powerSpect'].str,index = f_name_bvp).T\n",
      "C:\\Users\\PFCva\\AppData\\Local\\Temp\\ipykernel_22964\\411684310.py:29: FutureWarning: Columnar iteration over characters will be deprecated in future releases.\n",
      "  acc0_df = pd.DataFrame( X_df['ACC0_powerSpect'].str,index = f_name_acc0).T\n",
      "C:\\Users\\PFCva\\AppData\\Local\\Temp\\ipykernel_22964\\411684310.py:30: FutureWarning: Columnar iteration over characters will be deprecated in future releases.\n",
      "  acc1_df = pd.DataFrame( X_df['ACC1_powerSpect'].str,index = f_name_acc1).T\n",
      "C:\\Users\\PFCva\\AppData\\Local\\Temp\\ipykernel_22964\\411684310.py:31: FutureWarning: Columnar iteration over characters will be deprecated in future releases.\n",
      "  acc2_df = pd.DataFrame( X_df['ACC2_powerSpect'].str,index = f_name_acc2).T\n"
     ]
    }
   ],
   "source": [
    "X_train_in = prep_df_for_LinReg(X_train, df.fft_xf[0])"
   ]
  },
  {
   "cell_type": "code",
   "execution_count": 21,
   "id": "7df12e12",
   "metadata": {},
   "outputs": [
    {
     "data": {
      "text/plain": [
       "(54992,)"
      ]
     },
     "execution_count": 21,
     "metadata": {},
     "output_type": "execute_result"
    }
   ],
   "source": [
    "y_train.shape"
   ]
  },
  {
   "cell_type": "code",
   "execution_count": 22,
   "id": "a3c67828",
   "metadata": {},
   "outputs": [
    {
     "data": {
      "text/plain": [
       "(54992, 262)"
      ]
     },
     "execution_count": 22,
     "metadata": {},
     "output_type": "execute_result"
    }
   ],
   "source": [
    "X_train_in.shape"
   ]
  },
  {
   "cell_type": "code",
   "execution_count": 23,
   "id": "84d2963f",
   "metadata": {},
   "outputs": [],
   "source": [
    "mae = make_scorer(mean_absolute_error)\n",
    "mse = make_scorer(mean_squared_error)"
   ]
  },
  {
   "cell_type": "markdown",
   "id": "bedbb1e9",
   "metadata": {},
   "source": [
    "#### try WITH  PCA"
   ]
  },
  {
   "cell_type": "code",
   "execution_count": 47,
   "id": "d8832853",
   "metadata": {
    "collapsed": true
   },
   "outputs": [
    {
     "name": "stderr",
     "output_type": "stream",
     "text": [
      "[Parallel(n_jobs=3)]: Using backend LokyBackend with 3 concurrent workers.\n",
      "[Parallel(n_jobs=3)]: Done   2 out of   5 | elapsed:    2.7s remaining:    4.1s\n",
      "[Parallel(n_jobs=3)]: Done   5 out of   5 | elapsed:    4.8s finished\n",
      "[Parallel(n_jobs=3)]: Using backend LokyBackend with 3 concurrent workers.\n",
      "[Parallel(n_jobs=3)]: Done   2 out of   5 | elapsed:    2.7s remaining:    4.0s\n",
      "[Parallel(n_jobs=3)]: Done   5 out of   5 | elapsed:    4.6s finished\n",
      "[Parallel(n_jobs=3)]: Using backend LokyBackend with 3 concurrent workers.\n",
      "[Parallel(n_jobs=3)]: Done   2 out of   5 | elapsed:    2.7s remaining:    4.1s\n",
      "[Parallel(n_jobs=3)]: Done   5 out of   5 | elapsed:    4.6s finished\n",
      "[Parallel(n_jobs=3)]: Using backend LokyBackend with 3 concurrent workers.\n",
      "[Parallel(n_jobs=3)]: Done   2 out of   5 | elapsed:    2.7s remaining:    4.1s\n",
      "[Parallel(n_jobs=3)]: Done   5 out of   5 | elapsed:    4.7s finished\n",
      "[Parallel(n_jobs=3)]: Using backend LokyBackend with 3 concurrent workers.\n",
      "[Parallel(n_jobs=3)]: Done   2 out of   5 | elapsed:    2.5s remaining:    3.8s\n",
      "[Parallel(n_jobs=3)]: Done   5 out of   5 | elapsed:    4.4s finished\n",
      "[Parallel(n_jobs=3)]: Using backend LokyBackend with 3 concurrent workers.\n",
      "[Parallel(n_jobs=3)]: Done   2 out of   5 | elapsed:    5.0s remaining:    7.6s\n",
      "[Parallel(n_jobs=3)]: Done   5 out of   5 | elapsed:    9.0s finished\n",
      "[Parallel(n_jobs=3)]: Using backend LokyBackend with 3 concurrent workers.\n",
      "[Parallel(n_jobs=3)]: Done   2 out of   5 | elapsed:    4.7s remaining:    7.1s\n",
      "[Parallel(n_jobs=3)]: Done   5 out of   5 | elapsed:    8.5s finished\n",
      "[Parallel(n_jobs=3)]: Using backend LokyBackend with 3 concurrent workers.\n",
      "[Parallel(n_jobs=3)]: Done   2 out of   5 | elapsed:    4.2s remaining:    6.4s\n",
      "[Parallel(n_jobs=3)]: Done   5 out of   5 | elapsed:    7.6s finished\n",
      "[Parallel(n_jobs=3)]: Using backend LokyBackend with 3 concurrent workers.\n",
      "[Parallel(n_jobs=3)]: Done   2 out of   5 | elapsed:    4.0s remaining:    6.0s\n",
      "[Parallel(n_jobs=3)]: Done   5 out of   5 | elapsed:    7.3s finished\n",
      "[Parallel(n_jobs=3)]: Using backend LokyBackend with 3 concurrent workers.\n",
      "[Parallel(n_jobs=3)]: Done   2 out of   5 | elapsed:    3.8s remaining:    5.7s\n",
      "[Parallel(n_jobs=3)]: Done   5 out of   5 | elapsed:    6.7s finished\n",
      "[Parallel(n_jobs=3)]: Using backend LokyBackend with 3 concurrent workers.\n",
      "[Parallel(n_jobs=3)]: Done   2 out of   5 | elapsed:    3.5s remaining:    5.3s\n",
      "[Parallel(n_jobs=3)]: Done   5 out of   5 | elapsed:    6.8s finished\n",
      "[Parallel(n_jobs=3)]: Using backend LokyBackend with 3 concurrent workers.\n",
      "[Parallel(n_jobs=3)]: Done   2 out of   5 | elapsed:    3.2s remaining:    4.8s\n",
      "[Parallel(n_jobs=3)]: Done   5 out of   5 | elapsed:    5.9s finished\n",
      "[Parallel(n_jobs=3)]: Using backend LokyBackend with 3 concurrent workers.\n",
      "[Parallel(n_jobs=3)]: Done   2 out of   5 | elapsed:    2.9s remaining:    4.5s\n",
      "[Parallel(n_jobs=3)]: Done   5 out of   5 | elapsed:    5.3s finished\n",
      "[Parallel(n_jobs=3)]: Using backend LokyBackend with 3 concurrent workers.\n",
      "[Parallel(n_jobs=3)]: Done   2 out of   5 | elapsed:    2.7s remaining:    4.2s\n",
      "[Parallel(n_jobs=3)]: Done   5 out of   5 | elapsed:    5.1s finished\n",
      "[Parallel(n_jobs=3)]: Using backend LokyBackend with 3 concurrent workers.\n",
      "[Parallel(n_jobs=3)]: Done   2 out of   5 | elapsed:    2.4s remaining:    3.7s\n",
      "[Parallel(n_jobs=3)]: Done   5 out of   5 | elapsed:    4.3s finished\n",
      "[Parallel(n_jobs=3)]: Using backend LokyBackend with 3 concurrent workers.\n",
      "[Parallel(n_jobs=3)]: Done   2 out of   5 | elapsed:    2.1s remaining:    3.3s\n",
      "[Parallel(n_jobs=3)]: Done   5 out of   5 | elapsed:    4.0s finished\n",
      "[Parallel(n_jobs=3)]: Using backend LokyBackend with 3 concurrent workers.\n",
      "[Parallel(n_jobs=3)]: Done   2 out of   5 | elapsed:    1.8s remaining:    2.8s\n",
      "[Parallel(n_jobs=3)]: Done   5 out of   5 | elapsed:    3.4s finished\n",
      "[Parallel(n_jobs=3)]: Using backend LokyBackend with 3 concurrent workers.\n",
      "[Parallel(n_jobs=3)]: Done   2 out of   5 | elapsed:    1.6s remaining:    2.5s\n",
      "[Parallel(n_jobs=3)]: Done   5 out of   5 | elapsed:    2.9s finished\n",
      "[Parallel(n_jobs=3)]: Using backend LokyBackend with 3 concurrent workers.\n",
      "[Parallel(n_jobs=3)]: Done   2 out of   5 | elapsed:    1.3s remaining:    2.0s\n",
      "[Parallel(n_jobs=3)]: Done   5 out of   5 | elapsed:    2.4s finished\n",
      "[Parallel(n_jobs=3)]: Using backend LokyBackend with 3 concurrent workers.\n",
      "[Parallel(n_jobs=3)]: Done   2 out of   5 | elapsed:    1.2s remaining:    1.8s\n",
      "[Parallel(n_jobs=3)]: Done   5 out of   5 | elapsed:    2.2s finished\n",
      "[Parallel(n_jobs=3)]: Using backend LokyBackend with 3 concurrent workers.\n",
      "[Parallel(n_jobs=3)]: Done   2 out of   5 | elapsed:    1.1s remaining:    1.7s\n",
      "[Parallel(n_jobs=3)]: Done   5 out of   5 | elapsed:    2.1s finished\n",
      "[Parallel(n_jobs=3)]: Using backend LokyBackend with 3 concurrent workers.\n",
      "[Parallel(n_jobs=3)]: Done   2 out of   5 | elapsed:    0.8s remaining:    1.2s\n",
      "[Parallel(n_jobs=3)]: Done   5 out of   5 | elapsed:    1.5s finished\n"
     ]
    }
   ],
   "source": [
    "pca_scores = {'n_PC':[],'mean_MAE':[],'std_MAE':[]}\n",
    "for i in range(262,9,-12):\n",
    "    pca_scores['n_PC'].append(i)\n",
    "    pipe = Pipeline([('pca', PCA(i))\n",
    "                     , ('scaling', RobustScaler())\n",
    "                     , ('lr', LinearRegression())\n",
    "                    ])\n",
    "\n",
    "    scores = pd.DataFrame(cross_validate(pipe, X_train_in, y_train, cv=5, scoring={'MSE':mse,'MAE':mae}, verbose=3, n_jobs=3))\n",
    "    pca_scores['mean_MAE'].append(scores['test_MAE'].mean())\n",
    "    pca_scores['std_MAE'].append(scores['test_MAE'].std())"
   ]
  },
  {
   "cell_type": "code",
   "execution_count": 73,
   "id": "7558d75a",
   "metadata": {},
   "outputs": [],
   "source": [
    "pca_scores = pd.DataFrame(pca_scores)\n",
    "pca_scores['COV_MAE_pct'] = pca_scores['std_MAE']/pca_scores['mean_MAE']*100"
   ]
  },
  {
   "cell_type": "code",
   "execution_count": 115,
   "id": "c8bee414",
   "metadata": {},
   "outputs": [
    {
     "data": {
      "image/png": "[encoded data removed]",
      "text/plain": [
       "<Figure size 1008x504 with 2 Axes>"
      ]
     },
     "metadata": {
      "needs_background": "light"
     },
     "output_type": "display_data"
    }
   ],
   "source": [
    "fig_1, (ax_1, ax_2) = plt.subplots(1, 2, figsize=(14, 7))\n",
    "ax_1.set(yscale='log')\n",
    "# sns.lmplot(ax=ax_1, data=pd.DataFrame(pca_scores), x='n_PC', y='mean_MAE')\n",
    "ax_1.semilogy(pca_scores.n_PC, pca_scores.mean_MAE)\n",
    "ax_1.set_ylim([13,14])\n",
    "ax_2.plot(pca_scores.n_PC, pca_scores.COV_MAE_pct);"
   ]
  },
  {
   "cell_type": "code",
   "execution_count": 95,
   "id": "d7d1fef5",
   "metadata": {},
   "outputs": [
    {
     "name": "stderr",
     "output_type": "stream",
     "text": [
      "[Parallel(n_jobs=3)]: Using backend LokyBackend with 3 concurrent workers.\n",
      "[Parallel(n_jobs=3)]: Done   2 out of   5 | elapsed:    2.2s remaining:    3.4s\n",
      "[Parallel(n_jobs=3)]: Done   5 out of   5 | elapsed:    4.1s finished\n"
     ]
    },
    {
     "data": {
      "text/plain": [
       "13.042519492538087"
      ]
     },
     "execution_count": 95,
     "metadata": {},
     "output_type": "execute_result"
    }
   ],
   "source": [
    "pipe = Pipeline([('pca', PCA(100))\n",
    "                     , ('scaling', MinMaxScaler())\n",
    "                     , ('lr', LinearRegression())\n",
    "                    ])\n",
    "\n",
    "scores = pd.DataFrame(cross_validate(pipe, X_train_in, y_train, cv=5, scoring={'MSE':mse,'MAE':mae}, verbose=3, n_jobs=3))\n",
    "scores.test_MAE.mean()"
   ]
  },
  {
   "cell_type": "code",
   "execution_count": 93,
   "id": "c1754d12",
   "metadata": {},
   "outputs": [
    {
     "name": "stderr",
     "output_type": "stream",
     "text": [
      "[Parallel(n_jobs=3)]: Using backend LokyBackend with 3 concurrent workers.\n",
      "[Parallel(n_jobs=3)]: Done   2 out of   5 | elapsed:    1.3s remaining:    2.0s\n",
      "[Parallel(n_jobs=3)]: Done   5 out of   5 | elapsed:    2.4s finished\n"
     ]
    },
    {
     "data": {
      "text/plain": [
       "13.081321982894554"
      ]
     },
     "execution_count": 93,
     "metadata": {},
     "output_type": "execute_result"
    }
   ],
   "source": [
    "pipe = Pipeline([('pca', PCA(50))\n",
    "                     , ('scaling', MinMaxScaler())\n",
    "                     , ('lr', LinearRegression())\n",
    "                    ])\n",
    "\n",
    "scores = pd.DataFrame(cross_validate(pipe, X_train_in, y_train, cv=5, scoring={'MSE':mse,'MAE':mae}, verbose=3, n_jobs=3))\n",
    "scores.test_MAE.mean()"
   ]
  },
  {
   "cell_type": "markdown",
   "id": "0ab83b4e",
   "metadata": {},
   "source": [
    "use a PCA wtih ~ 50 dimentions as can be seen there is very little improvment from 50 components to 100.\n",
    "\n",
    "SDT of MAE is all quite low COV = (SDT/Mean) ~~ 0.7%"
   ]
  },
  {
   "cell_type": "markdown",
   "id": "cb8ca1c2",
   "metadata": {},
   "source": [
    "#### try WITH OUT  PCA"
   ]
  },
  {
   "cell_type": "code",
   "execution_count": 96,
   "id": "1032176d",
   "metadata": {},
   "outputs": [
    {
     "name": "stderr",
     "output_type": "stream",
     "text": [
      "[Parallel(n_jobs=3)]: Using backend LokyBackend with 3 concurrent workers.\n",
      "[Parallel(n_jobs=3)]: Done   2 out of   5 | elapsed:    1.1s remaining:    1.7s\n",
      "[Parallel(n_jobs=3)]: Done   5 out of   5 | elapsed:    2.0s finished\n",
      "[Parallel(n_jobs=3)]: Using backend LokyBackend with 3 concurrent workers.\n",
      "[Parallel(n_jobs=3)]: Done   2 out of   5 | elapsed:    1.1s remaining:    1.7s\n",
      "[Parallel(n_jobs=3)]: Done   5 out of   5 | elapsed:    1.8s finished\n"
     ]
    },
    {
     "data": {
      "text/plain": [
       "13.039645158954107"
      ]
     },
     "execution_count": 96,
     "metadata": {},
     "output_type": "execute_result"
    }
   ],
   "source": [
    "pipe = Pipeline([('scaling', MinMaxScaler())\n",
    "                 , ('lr', LinearRegression())\n",
    "                ])\n",
    "\n",
    "scores = cross_validate(pipe, X_train_in, y_train, cv=5, scoring={'MSE':mse,'MAE':mae}, verbose=3, n_jobs=3)\n",
    "\n",
    "scores = pd.DataFrame(cross_validate(pipe, X_train_in, y_train, cv=5, scoring={'MSE':mse,'MAE':mae}, verbose=3, n_jobs=3))\n",
    "scores.test_MAE.mean()"
   ]
  },
  {
   "cell_type": "markdown",
   "id": "a045a66a",
   "metadata": {},
   "source": [
    "# Try other regressors"
   ]
  },
  {
   "cell_type": "markdown",
   "id": "583bdb2d",
   "metadata": {},
   "source": [
    "## SVM"
   ]
  },
  {
   "cell_type": "code",
   "execution_count": 109,
   "id": "4abe931f",
   "metadata": {},
   "outputs": [
    {
     "name": "stderr",
     "output_type": "stream",
     "text": [
      "[Parallel(n_jobs=3)]: Using backend LokyBackend with 3 concurrent workers.\n",
      "[Parallel(n_jobs=3)]: Done   2 out of   5 | elapsed:  2.9min remaining:  4.3min\n",
      "[Parallel(n_jobs=3)]: Done   5 out of   5 | elapsed:  6.4min finished\n"
     ]
    },
    {
     "data": {
      "text/html": [
       "<div>\n",
       "<style scoped>\n",
       "    .dataframe tbody tr th:only-of-type {\n",
       "        vertical-align: middle;\n",
       "    }\n",
       "\n",
       "    .dataframe tbody tr th {\n",
       "        vertical-align: top;\n",
       "    }\n",
       "\n",
       "    .dataframe thead th {\n",
       "        text-align: right;\n",
       "    }\n",
       "</style>\n",
       "<table border=\"1\" class=\"dataframe\">\n",
       "  <thead>\n",
       "    <tr style=\"text-align: right;\">\n",
       "      <th></th>\n",
       "      <th>fit_time</th>\n",
       "      <th>score_time</th>\n",
       "      <th>test_MSE</th>\n",
       "      <th>test_MAE</th>\n",
       "    </tr>\n",
       "  </thead>\n",
       "  <tbody>\n",
       "    <tr>\n",
       "      <th>0</th>\n",
       "      <td>127.716644</td>\n",
       "      <td>43.826905</td>\n",
       "      <td>226.486608</td>\n",
       "      <td>10.041622</td>\n",
       "    </tr>\n",
       "    <tr>\n",
       "      <th>1</th>\n",
       "      <td>128.582374</td>\n",
       "      <td>44.170730</td>\n",
       "      <td>219.715103</td>\n",
       "      <td>9.868772</td>\n",
       "    </tr>\n",
       "    <tr>\n",
       "      <th>2</th>\n",
       "      <td>126.721848</td>\n",
       "      <td>256.200691</td>\n",
       "      <td>224.851347</td>\n",
       "      <td>9.955446</td>\n",
       "    </tr>\n",
       "    <tr>\n",
       "      <th>3</th>\n",
       "      <td>110.625039</td>\n",
       "      <td>42.495886</td>\n",
       "      <td>224.341378</td>\n",
       "      <td>9.931791</td>\n",
       "    </tr>\n",
       "    <tr>\n",
       "      <th>4</th>\n",
       "      <td>114.768020</td>\n",
       "      <td>42.303773</td>\n",
       "      <td>218.144354</td>\n",
       "      <td>9.892625</td>\n",
       "    </tr>\n",
       "  </tbody>\n",
       "</table>\n",
       "</div>"
      ],
      "text/plain": [
       "     fit_time  score_time    test_MSE   test_MAE\n",
       "0  127.716644   43.826905  226.486608  10.041622\n",
       "1  128.582374   44.170730  219.715103   9.868772\n",
       "2  126.721848  256.200691  224.851347   9.955446\n",
       "3  110.625039   42.495886  224.341378   9.931791\n",
       "4  114.768020   42.303773  218.144354   9.892625"
      ]
     },
     "execution_count": 109,
     "metadata": {},
     "output_type": "execute_result"
    }
   ],
   "source": [
    "pipe = Pipeline([('pca', PCA(50))\n",
    "                     , ('scaling', MinMaxScaler())\n",
    "                     , ('scv', SVR(C=1))\n",
    "                    ])\n",
    "\n",
    "scores = pd.DataFrame(cross_validate(pipe, X_train_in, y_train, cv=5, scoring={'MSE':mse,'MAE':mae}, verbose=3, n_jobs=3,error_score='raise'))\n",
    "scores"
   ]
  },
  {
   "cell_type": "code",
   "execution_count": 101,
   "id": "3d91637f",
   "metadata": {},
   "outputs": [
    {
     "name": "stderr",
     "output_type": "stream",
     "text": [
      "[Parallel(n_jobs=3)]: Using backend LokyBackend with 3 concurrent workers.\n",
      "[Parallel(n_jobs=3)]: Done   2 out of   5 | elapsed:  4.9min remaining:  7.4min\n",
      "[Parallel(n_jobs=3)]: Done   5 out of   5 | elapsed:  7.3min finished\n"
     ]
    },
    {
     "data": {
      "text/html": [
       "<div>\n",
       "<style scoped>\n",
       "    .dataframe tbody tr th:only-of-type {\n",
       "        vertical-align: middle;\n",
       "    }\n",
       "\n",
       "    .dataframe tbody tr th {\n",
       "        vertical-align: top;\n",
       "    }\n",
       "\n",
       "    .dataframe thead th {\n",
       "        text-align: right;\n",
       "    }\n",
       "</style>\n",
       "<table border=\"1\" class=\"dataframe\">\n",
       "  <thead>\n",
       "    <tr style=\"text-align: right;\">\n",
       "      <th></th>\n",
       "      <th>fit_time</th>\n",
       "      <th>score_time</th>\n",
       "      <th>test_MSE</th>\n",
       "      <th>test_MAE</th>\n",
       "    </tr>\n",
       "  </thead>\n",
       "  <tbody>\n",
       "    <tr>\n",
       "      <th>0</th>\n",
       "      <td>111.468226</td>\n",
       "      <td>258.185683</td>\n",
       "      <td>254.679883</td>\n",
       "      <td>10.721039</td>\n",
       "    </tr>\n",
       "    <tr>\n",
       "      <th>1</th>\n",
       "      <td>111.334594</td>\n",
       "      <td>43.895893</td>\n",
       "      <td>246.468882</td>\n",
       "      <td>10.520576</td>\n",
       "    </tr>\n",
       "    <tr>\n",
       "      <th>2</th>\n",
       "      <td>111.385454</td>\n",
       "      <td>259.363006</td>\n",
       "      <td>258.290411</td>\n",
       "      <td>10.725614</td>\n",
       "    </tr>\n",
       "    <tr>\n",
       "      <th>3</th>\n",
       "      <td>95.839365</td>\n",
       "      <td>44.591333</td>\n",
       "      <td>251.450540</td>\n",
       "      <td>10.530242</td>\n",
       "    </tr>\n",
       "    <tr>\n",
       "      <th>4</th>\n",
       "      <td>97.068614</td>\n",
       "      <td>42.367364</td>\n",
       "      <td>248.400739</td>\n",
       "      <td>10.592156</td>\n",
       "    </tr>\n",
       "  </tbody>\n",
       "</table>\n",
       "</div>"
      ],
      "text/plain": [
       "     fit_time  score_time    test_MSE   test_MAE\n",
       "0  111.468226  258.185683  254.679883  10.721039\n",
       "1  111.334594   43.895893  246.468882  10.520576\n",
       "2  111.385454  259.363006  258.290411  10.725614\n",
       "3   95.839365   44.591333  251.450540  10.530242\n",
       "4   97.068614   42.367364  248.400739  10.592156"
      ]
     },
     "execution_count": 101,
     "metadata": {},
     "output_type": "execute_result"
    }
   ],
   "source": [
    "pipe = Pipeline([('pca', PCA(50))\n",
    "                     , ('scaling', MinMaxScaler())\n",
    "                     , ('scv', SVR(C=.5))\n",
    "                    ])\n",
    "\n",
    "scores = pd.DataFrame(cross_validate(pipe, X_train_in, y_train, cv=5, scoring={'MSE':mse,'MAE':mae}, verbose=3, n_jobs=3,error_score='raise'))\n",
    "scores"
   ]
  },
  {
   "cell_type": "code",
   "execution_count": 108,
   "id": "e54ed523",
   "metadata": {},
   "outputs": [
    {
     "name": "stderr",
     "output_type": "stream",
     "text": [
      "[Parallel(n_jobs=3)]: Using backend LokyBackend with 3 concurrent workers.\n",
      "[Parallel(n_jobs=3)]: Done   2 out of   5 | elapsed:  2.8min remaining:  4.2min\n",
      "[Parallel(n_jobs=3)]: Done   5 out of   5 | elapsed:  5.3min finished\n"
     ]
    },
    {
     "data": {
      "text/html": [
       "<div>\n",
       "<style scoped>\n",
       "    .dataframe tbody tr th:only-of-type {\n",
       "        vertical-align: middle;\n",
       "    }\n",
       "\n",
       "    .dataframe tbody tr th {\n",
       "        vertical-align: top;\n",
       "    }\n",
       "\n",
       "    .dataframe thead th {\n",
       "        text-align: right;\n",
       "    }\n",
       "</style>\n",
       "<table border=\"1\" class=\"dataframe\">\n",
       "  <thead>\n",
       "    <tr style=\"text-align: right;\">\n",
       "      <th></th>\n",
       "      <th>fit_time</th>\n",
       "      <th>score_time</th>\n",
       "      <th>test_MSE</th>\n",
       "      <th>test_MAE</th>\n",
       "    </tr>\n",
       "  </thead>\n",
       "  <tbody>\n",
       "    <tr>\n",
       "      <th>0</th>\n",
       "      <td>122.544109</td>\n",
       "      <td>44.774309</td>\n",
       "      <td>228.716955</td>\n",
       "      <td>10.088587</td>\n",
       "    </tr>\n",
       "    <tr>\n",
       "      <th>1</th>\n",
       "      <td>126.940852</td>\n",
       "      <td>44.462742</td>\n",
       "      <td>220.641340</td>\n",
       "      <td>9.880042</td>\n",
       "    </tr>\n",
       "    <tr>\n",
       "      <th>2</th>\n",
       "      <td>124.288915</td>\n",
       "      <td>44.040788</td>\n",
       "      <td>229.944695</td>\n",
       "      <td>10.046940</td>\n",
       "    </tr>\n",
       "    <tr>\n",
       "      <th>3</th>\n",
       "      <td>106.300674</td>\n",
       "      <td>42.802399</td>\n",
       "      <td>225.591284</td>\n",
       "      <td>9.975834</td>\n",
       "    </tr>\n",
       "    <tr>\n",
       "      <th>4</th>\n",
       "      <td>106.257605</td>\n",
       "      <td>42.067117</td>\n",
       "      <td>222.299061</td>\n",
       "      <td>10.001039</td>\n",
       "    </tr>\n",
       "  </tbody>\n",
       "</table>\n",
       "</div>"
      ],
      "text/plain": [
       "     fit_time  score_time    test_MSE   test_MAE\n",
       "0  122.544109   44.774309  228.716955  10.088587\n",
       "1  126.940852   44.462742  220.641340   9.880042\n",
       "2  124.288915   44.040788  229.944695  10.046940\n",
       "3  106.300674   42.802399  225.591284   9.975834\n",
       "4  106.257605   42.067117  222.299061  10.001039"
      ]
     },
     "execution_count": 108,
     "metadata": {},
     "output_type": "execute_result"
    }
   ],
   "source": [
    "pipe = Pipeline([('pca', PCA(50))\n",
    "                     , ('scaling', MinMaxScaler())\n",
    "                     , ('scv', SVR(C=.9))\n",
    "                    ])\n",
    "\n",
    "scores = pd.DataFrame(cross_validate(pipe, X_train_in, y_train, cv=5, scoring={'MSE':mse,'MAE':mae}, verbose=3, n_jobs=3,error_score='raise'))\n",
    "scores"
   ]
  },
  {
   "cell_type": "markdown",
   "id": "daad9025",
   "metadata": {},
   "source": [
    "## Randome Forest"
   ]
  },
  {
   "cell_type": "code",
   "execution_count": 113,
   "id": "87c28222",
   "metadata": {},
   "outputs": [
    {
     "name": "stderr",
     "output_type": "stream",
     "text": [
      "[Parallel(n_jobs=3)]: Using backend LokyBackend with 3 concurrent workers.\n",
      "[Parallel(n_jobs=3)]: Done   2 out of   5 | elapsed:  1.7min remaining:  2.6min\n",
      "[Parallel(n_jobs=3)]: Done   5 out of   5 | elapsed:  3.4min finished\n"
     ]
    },
    {
     "data": {
      "text/html": [
       "<div>\n",
       "<style scoped>\n",
       "    .dataframe tbody tr th:only-of-type {\n",
       "        vertical-align: middle;\n",
       "    }\n",
       "\n",
       "    .dataframe tbody tr th {\n",
       "        vertical-align: top;\n",
       "    }\n",
       "\n",
       "    .dataframe thead th {\n",
       "        text-align: right;\n",
       "    }\n",
       "</style>\n",
       "<table border=\"1\" class=\"dataframe\">\n",
       "  <thead>\n",
       "    <tr style=\"text-align: right;\">\n",
       "      <th></th>\n",
       "      <th>fit_time</th>\n",
       "      <th>score_time</th>\n",
       "      <th>test_MSE</th>\n",
       "      <th>test_MAE</th>\n",
       "    </tr>\n",
       "  </thead>\n",
       "  <tbody>\n",
       "    <tr>\n",
       "      <th>0</th>\n",
       "      <td>100.778769</td>\n",
       "      <td>0.118679</td>\n",
       "      <td>190.950433</td>\n",
       "      <td>9.685980</td>\n",
       "    </tr>\n",
       "    <tr>\n",
       "      <th>1</th>\n",
       "      <td>101.242511</td>\n",
       "      <td>0.132641</td>\n",
       "      <td>184.078925</td>\n",
       "      <td>9.480704</td>\n",
       "    </tr>\n",
       "    <tr>\n",
       "      <th>2</th>\n",
       "      <td>101.156744</td>\n",
       "      <td>0.128651</td>\n",
       "      <td>185.794001</td>\n",
       "      <td>9.471676</td>\n",
       "    </tr>\n",
       "    <tr>\n",
       "      <th>3</th>\n",
       "      <td>98.157686</td>\n",
       "      <td>0.122667</td>\n",
       "      <td>183.736405</td>\n",
       "      <td>9.491480</td>\n",
       "    </tr>\n",
       "    <tr>\n",
       "      <th>4</th>\n",
       "      <td>99.113163</td>\n",
       "      <td>0.122661</td>\n",
       "      <td>185.124294</td>\n",
       "      <td>9.442907</td>\n",
       "    </tr>\n",
       "  </tbody>\n",
       "</table>\n",
       "</div>"
      ],
      "text/plain": [
       "     fit_time  score_time    test_MSE  test_MAE\n",
       "0  100.778769    0.118679  190.950433  9.685980\n",
       "1  101.242511    0.132641  184.078925  9.480704\n",
       "2  101.156744    0.128651  185.794001  9.471676\n",
       "3   98.157686    0.122667  183.736405  9.491480\n",
       "4   99.113163    0.122661  185.124294  9.442907"
      ]
     },
     "execution_count": 113,
     "metadata": {},
     "output_type": "execute_result"
    }
   ],
   "source": [
    "pipe = Pipeline([('pca', PCA(50))\n",
    "                 , ('scaling', MinMaxScaler())\n",
    "                 , ('rfr', RandomForestRegressor(n_estimators=100, min_samples_leaf=50))\n",
    "                 ])\n",
    "\n",
    "scores = pd.DataFrame(cross_validate(pipe, X_train_in, y_train, cv=5, scoring={'MSE':mse,'MAE':mae}, verbose=3, n_jobs=3,error_score='raise'))\n",
    "scores"
   ]
  },
  {
   "cell_type": "code",
   "execution_count": 112,
   "id": "ef6c6da8",
   "metadata": {},
   "outputs": [
    {
     "name": "stderr",
     "output_type": "stream",
     "text": [
      "[Parallel(n_jobs=3)]: Using backend LokyBackend with 3 concurrent workers.\n",
      "[Parallel(n_jobs=3)]: Done   2 out of   5 | elapsed:   49.7s remaining:  1.2min\n",
      "[Parallel(n_jobs=3)]: Done   5 out of   5 | elapsed:  1.6min finished\n"
     ]
    },
    {
     "data": {
      "text/html": [
       "<div>\n",
       "<style scoped>\n",
       "    .dataframe tbody tr th:only-of-type {\n",
       "        vertical-align: middle;\n",
       "    }\n",
       "\n",
       "    .dataframe tbody tr th {\n",
       "        vertical-align: top;\n",
       "    }\n",
       "\n",
       "    .dataframe thead th {\n",
       "        text-align: right;\n",
       "    }\n",
       "</style>\n",
       "<table border=\"1\" class=\"dataframe\">\n",
       "  <thead>\n",
       "    <tr style=\"text-align: right;\">\n",
       "      <th></th>\n",
       "      <th>fit_time</th>\n",
       "      <th>score_time</th>\n",
       "      <th>test_MSE</th>\n",
       "      <th>test_MAE</th>\n",
       "    </tr>\n",
       "  </thead>\n",
       "  <tbody>\n",
       "    <tr>\n",
       "      <th>0</th>\n",
       "      <td>49.624934</td>\n",
       "      <td>0.074797</td>\n",
       "      <td>193.016693</td>\n",
       "      <td>9.719582</td>\n",
       "    </tr>\n",
       "    <tr>\n",
       "      <th>1</th>\n",
       "      <td>49.765552</td>\n",
       "      <td>0.080782</td>\n",
       "      <td>183.364160</td>\n",
       "      <td>9.479476</td>\n",
       "    </tr>\n",
       "    <tr>\n",
       "      <th>2</th>\n",
       "      <td>49.503263</td>\n",
       "      <td>0.074797</td>\n",
       "      <td>187.381818</td>\n",
       "      <td>9.516721</td>\n",
       "    </tr>\n",
       "    <tr>\n",
       "      <th>3</th>\n",
       "      <td>47.880557</td>\n",
       "      <td>0.071412</td>\n",
       "      <td>183.014993</td>\n",
       "      <td>9.513722</td>\n",
       "    </tr>\n",
       "    <tr>\n",
       "      <th>4</th>\n",
       "      <td>48.728862</td>\n",
       "      <td>0.068814</td>\n",
       "      <td>186.563906</td>\n",
       "      <td>9.469093</td>\n",
       "    </tr>\n",
       "  </tbody>\n",
       "</table>\n",
       "</div>"
      ],
      "text/plain": [
       "    fit_time  score_time    test_MSE  test_MAE\n",
       "0  49.624934    0.074797  193.016693  9.719582\n",
       "1  49.765552    0.080782  183.364160  9.479476\n",
       "2  49.503263    0.074797  187.381818  9.516721\n",
       "3  47.880557    0.071412  183.014993  9.513722\n",
       "4  48.728862    0.068814  186.563906  9.469093"
      ]
     },
     "execution_count": 112,
     "metadata": {},
     "output_type": "execute_result"
    }
   ],
   "source": [
    "pipe = Pipeline([('pca', PCA(50))\n",
    "                 , ('scaling', MinMaxScaler())\n",
    "                 , ('rfr', RandomForestRegressor(n_estimators=50, min_samples_leaf=50))\n",
    "                 ])\n",
    "\n",
    "scores = pd.DataFrame(cross_validate(pipe, X_train_in, y_train, cv=5, scoring={'MSE':mse,'MAE':mae}, verbose=3, n_jobs=3,error_score='raise'))\n",
    "scores"
   ]
  },
  {
   "cell_type": "code",
   "execution_count": 117,
   "id": "d9363ef7",
   "metadata": {},
   "outputs": [
    {
     "name": "stdout",
     "output_type": "stream",
     "text": [
      "25\n"
     ]
    },
    {
     "name": "stderr",
     "output_type": "stream",
     "text": [
      "[Parallel(n_jobs=3)]: Using backend LokyBackend with 3 concurrent workers.\n",
      "[Parallel(n_jobs=3)]: Done   2 out of   5 | elapsed:   26.6s remaining:   40.0s\n",
      "[Parallel(n_jobs=3)]: Done   5 out of   5 | elapsed:   52.0s finished\n",
      "[Parallel(n_jobs=3)]: Using backend LokyBackend with 3 concurrent workers.\n"
     ]
    },
    {
     "name": "stdout",
     "output_type": "stream",
     "text": [
      "50\n"
     ]
    },
    {
     "name": "stderr",
     "output_type": "stream",
     "text": [
      "[Parallel(n_jobs=3)]: Done   2 out of   5 | elapsed:   51.0s remaining:  1.3min\n",
      "[Parallel(n_jobs=3)]: Done   5 out of   5 | elapsed:  1.7min finished\n",
      "[Parallel(n_jobs=3)]: Using backend LokyBackend with 3 concurrent workers.\n"
     ]
    },
    {
     "name": "stdout",
     "output_type": "stream",
     "text": [
      "100\n"
     ]
    },
    {
     "name": "stderr",
     "output_type": "stream",
     "text": [
      "[Parallel(n_jobs=3)]: Done   2 out of   5 | elapsed:  1.6min remaining:  2.5min\n",
      "[Parallel(n_jobs=3)]: Done   5 out of   5 | elapsed:  3.2min finished\n",
      "[Parallel(n_jobs=3)]: Using backend LokyBackend with 3 concurrent workers.\n"
     ]
    },
    {
     "name": "stdout",
     "output_type": "stream",
     "text": [
      "150\n"
     ]
    },
    {
     "name": "stderr",
     "output_type": "stream",
     "text": [
      "[Parallel(n_jobs=3)]: Done   2 out of   5 | elapsed:  2.5min remaining:  3.7min\n",
      "[Parallel(n_jobs=3)]: Done   5 out of   5 | elapsed:  4.9min finished\n",
      "[Parallel(n_jobs=3)]: Using backend LokyBackend with 3 concurrent workers.\n"
     ]
    },
    {
     "name": "stdout",
     "output_type": "stream",
     "text": [
      "200\n"
     ]
    },
    {
     "name": "stderr",
     "output_type": "stream",
     "text": [
      "[Parallel(n_jobs=3)]: Done   2 out of   5 | elapsed:  3.2min remaining:  4.9min\n",
      "[Parallel(n_jobs=3)]: Done   5 out of   5 | elapsed:  6.4min finished\n",
      "[Parallel(n_jobs=3)]: Using backend LokyBackend with 3 concurrent workers.\n"
     ]
    },
    {
     "name": "stdout",
     "output_type": "stream",
     "text": [
      "500\n"
     ]
    },
    {
     "name": "stderr",
     "output_type": "stream",
     "text": [
      "[Parallel(n_jobs=3)]: Done   2 out of   5 | elapsed:  8.2min remaining: 12.3min\n",
      "[Parallel(n_jobs=3)]: Done   5 out of   5 | elapsed: 16.9min finished\n"
     ]
    },
    {
     "data": {
      "text/html": [
       "<div>\n",
       "<style scoped>\n",
       "    .dataframe tbody tr th:only-of-type {\n",
       "        vertical-align: middle;\n",
       "    }\n",
       "\n",
       "    .dataframe tbody tr th {\n",
       "        vertical-align: top;\n",
       "    }\n",
       "\n",
       "    .dataframe thead th {\n",
       "        text-align: right;\n",
       "    }\n",
       "</style>\n",
       "<table border=\"1\" class=\"dataframe\">\n",
       "  <thead>\n",
       "    <tr style=\"text-align: right;\">\n",
       "      <th></th>\n",
       "      <th>n_est</th>\n",
       "      <th>mean_MAE</th>\n",
       "      <th>std_MAE</th>\n",
       "      <th>COV_MAE_pct</th>\n",
       "    </tr>\n",
       "  </thead>\n",
       "  <tbody>\n",
       "    <tr>\n",
       "      <th>0</th>\n",
       "      <td>25</td>\n",
       "      <td>9.552528</td>\n",
       "      <td>0.091395</td>\n",
       "      <td>0.700897</td>\n",
       "    </tr>\n",
       "    <tr>\n",
       "      <th>1</th>\n",
       "      <td>50</td>\n",
       "      <td>9.512958</td>\n",
       "      <td>0.099333</td>\n",
       "      <td>0.761955</td>\n",
       "    </tr>\n",
       "    <tr>\n",
       "      <th>2</th>\n",
       "      <td>100</td>\n",
       "      <td>9.500906</td>\n",
       "      <td>0.104079</td>\n",
       "      <td>0.798050</td>\n",
       "    </tr>\n",
       "    <tr>\n",
       "      <th>3</th>\n",
       "      <td>150</td>\n",
       "      <td>9.493923</td>\n",
       "      <td>0.107206</td>\n",
       "      <td>0.822203</td>\n",
       "    </tr>\n",
       "    <tr>\n",
       "      <th>4</th>\n",
       "      <td>200</td>\n",
       "      <td>9.500217</td>\n",
       "      <td>0.116369</td>\n",
       "      <td>0.892473</td>\n",
       "    </tr>\n",
       "    <tr>\n",
       "      <th>5</th>\n",
       "      <td>500</td>\n",
       "      <td>9.488381</td>\n",
       "      <td>0.107005</td>\n",
       "      <td>0.820168</td>\n",
       "    </tr>\n",
       "  </tbody>\n",
       "</table>\n",
       "</div>"
      ],
      "text/plain": [
       "   n_est  mean_MAE   std_MAE  COV_MAE_pct\n",
       "0     25  9.552528  0.091395     0.700897\n",
       "1     50  9.512958  0.099333     0.761955\n",
       "2    100  9.500906  0.104079     0.798050\n",
       "3    150  9.493923  0.107206     0.822203\n",
       "4    200  9.500217  0.116369     0.892473\n",
       "5    500  9.488381  0.107005     0.820168"
      ]
     },
     "execution_count": 117,
     "metadata": {},
     "output_type": "execute_result"
    }
   ],
   "source": [
    "scores_dict = {'n_est':[],'mean_MAE':[],'std_MAE':[]}\n",
    "for i in [25,50,100,150,200,500]:\n",
    "    print(i)\n",
    "    scores_dict['n_est'].append(i)\n",
    "    pipe = Pipeline([('pca', PCA(50))\n",
    "                     , ('scaling', MinMaxScaler())\n",
    "                     , ('rfr', RandomForestRegressor(n_estimators=i, min_samples_leaf=50))\n",
    "                    ])\n",
    "\n",
    "    scores = pd.DataFrame(cross_validate(pipe, X_train_in, y_train, cv=5, scoring={'MSE':mse,'MAE':mae}, verbose=3, n_jobs=3))\n",
    "    scores_dict['mean_MAE'].append(scores['test_MAE'].mean())\n",
    "    scores_dict['std_MAE'].append(scores['test_MAE'].std())\n",
    "\n",
    "scores = pd.DataFrame(scores_dict)\n",
    "scores['COV_MAE_pct'] = scores['std_MAE']/pca_scores['mean_MAE']*100\n",
    "scores"
   ]
  },
  {
   "cell_type": "code",
   "execution_count": 118,
   "id": "62308418",
   "metadata": {},
   "outputs": [
    {
     "data": {
      "image/png": "[encoded data removed]",
      "text/plain": [
       "<Figure size 1008x504 with 2 Axes>"
      ]
     },
     "metadata": {
      "needs_background": "light"
     },
     "output_type": "display_data"
    }
   ],
   "source": [
    "fig_2, (ax_3, ax_4) = plt.subplots(1, 2, figsize=(14, 7))\n",
    "# ax_1.set(yscale='log')\n",
    "ax_3.semilogy(scores.n_est, scores.mean_MAE)\n",
    "# ax_1.set_ylim([13,14])\n",
    "ax_4.plot(scores.n_est, scores.COV_MAE_pct);"
   ]
  },
  {
   "cell_type": "code",
   "execution_count": 119,
   "id": "30739fe8",
   "metadata": {},
   "outputs": [
    {
     "name": "stdout",
     "output_type": "stream",
     "text": [
      "25\n"
     ]
    },
    {
     "name": "stderr",
     "output_type": "stream",
     "text": [
      "[Parallel(n_jobs=3)]: Using backend LokyBackend with 3 concurrent workers.\n",
      "[Parallel(n_jobs=3)]: Done   2 out of   5 | elapsed:  3.0min remaining:  4.4min\n",
      "[Parallel(n_jobs=3)]: Done   5 out of   5 | elapsed:  5.8min finished\n",
      "[Parallel(n_jobs=3)]: Using backend LokyBackend with 3 concurrent workers.\n"
     ]
    },
    {
     "name": "stdout",
     "output_type": "stream",
     "text": [
      "50\n"
     ]
    },
    {
     "name": "stderr",
     "output_type": "stream",
     "text": [
      "[Parallel(n_jobs=3)]: Done   2 out of   5 | elapsed:  2.7min remaining:  4.0min\n",
      "[Parallel(n_jobs=3)]: Done   5 out of   5 | elapsed:  5.3min finished\n",
      "[Parallel(n_jobs=3)]: Using backend LokyBackend with 3 concurrent workers.\n"
     ]
    },
    {
     "name": "stdout",
     "output_type": "stream",
     "text": [
      "100\n"
     ]
    },
    {
     "name": "stderr",
     "output_type": "stream",
     "text": [
      "[Parallel(n_jobs=3)]: Done   2 out of   5 | elapsed:  2.6min remaining:  3.8min\n",
      "[Parallel(n_jobs=3)]: Done   5 out of   5 | elapsed:  4.9min finished\n",
      "[Parallel(n_jobs=3)]: Using backend LokyBackend with 3 concurrent workers.\n"
     ]
    },
    {
     "name": "stdout",
     "output_type": "stream",
     "text": [
      "150\n"
     ]
    },
    {
     "name": "stderr",
     "output_type": "stream",
     "text": [
      "[Parallel(n_jobs=3)]: Done   2 out of   5 | elapsed:  2.3min remaining:  3.4min\n",
      "[Parallel(n_jobs=3)]: Done   5 out of   5 | elapsed:  4.5min finished\n",
      "[Parallel(n_jobs=3)]: Using backend LokyBackend with 3 concurrent workers.\n"
     ]
    },
    {
     "name": "stdout",
     "output_type": "stream",
     "text": [
      "200\n"
     ]
    },
    {
     "name": "stderr",
     "output_type": "stream",
     "text": [
      "[Parallel(n_jobs=3)]: Done   2 out of   5 | elapsed:  2.2min remaining:  3.3min\n",
      "[Parallel(n_jobs=3)]: Done   5 out of   5 | elapsed:  4.3min finished\n",
      "[Parallel(n_jobs=3)]: Using backend LokyBackend with 3 concurrent workers.\n"
     ]
    },
    {
     "name": "stdout",
     "output_type": "stream",
     "text": [
      "500\n"
     ]
    },
    {
     "name": "stderr",
     "output_type": "stream",
     "text": [
      "[Parallel(n_jobs=3)]: Done   2 out of   5 | elapsed:  1.8min remaining:  2.7min\n",
      "[Parallel(n_jobs=3)]: Done   5 out of   5 | elapsed:  3.6min finished\n"
     ]
    },
    {
     "data": {
      "text/html": [
       "<div>\n",
       "<style scoped>\n",
       "    .dataframe tbody tr th:only-of-type {\n",
       "        vertical-align: middle;\n",
       "    }\n",
       "\n",
       "    .dataframe tbody tr th {\n",
       "        vertical-align: top;\n",
       "    }\n",
       "\n",
       "    .dataframe thead th {\n",
       "        text-align: right;\n",
       "    }\n",
       "</style>\n",
       "<table border=\"1\" class=\"dataframe\">\n",
       "  <thead>\n",
       "    <tr style=\"text-align: right;\">\n",
       "      <th></th>\n",
       "      <th>n_min_leaf_sz</th>\n",
       "      <th>mean_MAE</th>\n",
       "      <th>std_MAE</th>\n",
       "      <th>COV_MAE_pct</th>\n",
       "    </tr>\n",
       "  </thead>\n",
       "  <tbody>\n",
       "    <tr>\n",
       "      <th>0</th>\n",
       "      <td>25</td>\n",
       "      <td>8.884727</td>\n",
       "      <td>0.087841</td>\n",
       "      <td>0.673644</td>\n",
       "    </tr>\n",
       "    <tr>\n",
       "      <th>1</th>\n",
       "      <td>50</td>\n",
       "      <td>9.502548</td>\n",
       "      <td>0.111973</td>\n",
       "      <td>0.858918</td>\n",
       "    </tr>\n",
       "    <tr>\n",
       "      <th>2</th>\n",
       "      <td>100</td>\n",
       "      <td>10.213653</td>\n",
       "      <td>0.109180</td>\n",
       "      <td>0.837159</td>\n",
       "    </tr>\n",
       "    <tr>\n",
       "      <th>3</th>\n",
       "      <td>150</td>\n",
       "      <td>10.676870</td>\n",
       "      <td>0.110228</td>\n",
       "      <td>0.845377</td>\n",
       "    </tr>\n",
       "    <tr>\n",
       "      <th>4</th>\n",
       "      <td>200</td>\n",
       "      <td>11.028071</td>\n",
       "      <td>0.118230</td>\n",
       "      <td>0.906748</td>\n",
       "    </tr>\n",
       "    <tr>\n",
       "      <th>5</th>\n",
       "      <td>500</td>\n",
       "      <td>12.152508</td>\n",
       "      <td>0.105185</td>\n",
       "      <td>0.806216</td>\n",
       "    </tr>\n",
       "  </tbody>\n",
       "</table>\n",
       "</div>"
      ],
      "text/plain": [
       "   n_min_leaf_sz   mean_MAE   std_MAE  COV_MAE_pct\n",
       "0             25   8.884727  0.087841     0.673644\n",
       "1             50   9.502548  0.111973     0.858918\n",
       "2            100  10.213653  0.109180     0.837159\n",
       "3            150  10.676870  0.110228     0.845377\n",
       "4            200  11.028071  0.118230     0.906748\n",
       "5            500  12.152508  0.105185     0.806216"
      ]
     },
     "execution_count": 119,
     "metadata": {},
     "output_type": "execute_result"
    }
   ],
   "source": [
    "scores_dict = {'n_min_leaf_sz':[],'mean_MAE':[],'std_MAE':[]}\n",
    "for i in [25,50,100,150,200,500]:\n",
    "    print(i)\n",
    "    scores_dict['n_min_leaf_sz'].append(i)\n",
    "    pipe = Pipeline([('pca', PCA(50))\n",
    "                     , ('scaling', MinMaxScaler())\n",
    "                     , ('rfr', RandomForestRegressor(n_estimators=150, min_samples_leaf=i))\n",
    "                    ])\n",
    "\n",
    "    scores = pd.DataFrame(cross_validate(pipe, X_train_in, y_train, cv=5, scoring={'MSE':mse,'MAE':mae}, verbose=3, n_jobs=3))\n",
    "    scores_dict['mean_MAE'].append(scores['test_MAE'].mean())\n",
    "    scores_dict['std_MAE'].append(scores['test_MAE'].std())\n",
    "\n",
    "scores = pd.DataFrame(scores_dict)\n",
    "scores['COV_MAE_pct'] = scores['std_MAE']/pca_scores['mean_MAE']*100\n",
    "scores"
   ]
  },
  {
   "cell_type": "code",
   "execution_count": 121,
   "id": "8553c472",
   "metadata": {},
   "outputs": [
    {
     "data": {
      "image/png": "[encoded data removed]",
      "text/plain": [
       "<Figure size 1008x504 with 2 Axes>"
      ]
     },
     "metadata": {
      "needs_background": "light"
     },
     "output_type": "display_data"
    }
   ],
   "source": [
    "fig_2, (ax_3, ax_4) = plt.subplots(1, 2, figsize=(14, 7))\n",
    "# ax_1.set(yscale='log')\n",
    "ax_3.plot(scores.n_min_leaf_sz, scores.mean_MAE)\n",
    "# ax_1.set_ylim([13,14])\n",
    "ax_4.plot(scores.n_min_leaf_sz, scores.COV_MAE_pct);"
   ]
  },
  {
   "cell_type": "code",
   "execution_count": null,
   "id": "1b9dabde",
   "metadata": {},
   "outputs": [],
   "source": []
  },
  {
   "cell_type": "code",
   "execution_count": null,
   "id": "e0fdd4d5",
   "metadata": {},
   "outputs": [],
   "source": []
  },
  {
   "cell_type": "code",
   "execution_count": null,
   "id": "4f21b661",
   "metadata": {},
   "outputs": [],
   "source": [
    "parameters = {'rfr__n_estimators': [25,50,100,200]\n",
    "              , 'rfr__min_samples_leaf': [100, 500, 1000, 5000]\n",
    "              }\n",
    "\n",
    "pipe = Pipeline([('pca', PCA(50))\n",
    "                 , ('scaling', MinMaxScaler())\n",
    "                 , ('rfr', RandomForestRegressor())\n",
    "                 ])"
   ]
  },
  {
   "cell_type": "code",
   "execution_count": null,
   "id": "b34191bf",
   "metadata": {},
   "outputs": [],
   "source": [
    "gs = GridSearchCV(pipe, parameters, cv=5, scoring='recall', n_jobs=-1, verbose=4)\n",
    "\n",
    "gs.fit(X_mod, y_mod)\n",
    "gs.best_params_"
   ]
  },
  {
   "cell_type": "code",
   "execution_count": null,
   "id": "b9305c20",
   "metadata": {},
   "outputs": [],
   "source": [
    "RandomForestRegressor"
   ]
  },
  {
   "cell_type": "code",
   "execution_count": null,
   "id": "1d3cb95b",
   "metadata": {},
   "outputs": [],
   "source": []
  },
  {
   "cell_type": "markdown",
   "id": "b927d0f1",
   "metadata": {},
   "source": [
    "# split train set into learning and validation set for CNN"
   ]
  },
  {
   "cell_type": "code",
   "execution_count": 122,
   "id": "8437fcf0",
   "metadata": {},
   "outputs": [
    {
     "data": {
      "text/html": [
       "<div>\n",
       "<style scoped>\n",
       "    .dataframe tbody tr th:only-of-type {\n",
       "        vertical-align: middle;\n",
       "    }\n",
       "\n",
       "    .dataframe tbody tr th {\n",
       "        vertical-align: top;\n",
       "    }\n",
       "\n",
       "    .dataframe thead th {\n",
       "        text-align: right;\n",
       "    }\n",
       "</style>\n",
       "<table border=\"1\" class=\"dataframe\">\n",
       "  <thead>\n",
       "    <tr style=\"text-align: right;\">\n",
       "      <th></th>\n",
       "      <th>time_stamp[sec]</th>\n",
       "      <th>user_id</th>\n",
       "      <th>activity_label</th>\n",
       "      <th>skin_temp[C]</th>\n",
       "      <th>EDA[microS]</th>\n",
       "      <th>BVP_powerSpect</th>\n",
       "      <th>ACC0_powerSpect</th>\n",
       "      <th>ACC1_powerSpect</th>\n",
       "      <th>ACC2_powerSpect</th>\n",
       "    </tr>\n",
       "  </thead>\n",
       "  <tbody>\n",
       "    <tr>\n",
       "      <th>12756</th>\n",
       "      <td>8116.0</td>\n",
       "      <td>S3</td>\n",
       "      <td>8.0</td>\n",
       "      <td>35.491515</td>\n",
       "      <td>0.666044</td>\n",
       "      <td>[2.380281482527885, 5.135216603163129, 4.53089...</td>\n",
       "      <td>[1.722068267874741, -0.43229551104323244, -0.6...</td>\n",
       "      <td>[0.46175135974814535, -1.2355959845314046, -1....</td>\n",
       "      <td>[2.652285419297868, -1.5352699580846938, -1.63...</td>\n",
       "    </tr>\n",
       "    <tr>\n",
       "      <th>40517</th>\n",
       "      <td>5254.0</td>\n",
       "      <td>S10</td>\n",
       "      <td>0.0</td>\n",
       "      <td>35.153939</td>\n",
       "      <td>0.762255</td>\n",
       "      <td>[0.6081164345393182, 3.6162660673967175, 3.984...</td>\n",
       "      <td>[2.6011112801444862, 0.1079999751440754, -0.76...</td>\n",
       "      <td>[0.9081011833126157, 0.11571896703621758, -0.1...</td>\n",
       "      <td>[1.8131129899397629, 1.0283328434798285, 0.112...</td>\n",
       "    </tr>\n",
       "  </tbody>\n",
       "</table>\n",
       "</div>"
      ],
      "text/plain": [
       "      time_stamp[sec] user_id activity_label skin_temp[C] EDA[microS]  \\\n",
       "12756          8116.0      S3            8.0    35.491515    0.666044   \n",
       "40517          5254.0     S10            0.0    35.153939    0.762255   \n",
       "\n",
       "                                          BVP_powerSpect  \\\n",
       "12756  [2.380281482527885, 5.135216603163129, 4.53089...   \n",
       "40517  [0.6081164345393182, 3.6162660673967175, 3.984...   \n",
       "\n",
       "                                         ACC0_powerSpect  \\\n",
       "12756  [1.722068267874741, -0.43229551104323244, -0.6...   \n",
       "40517  [2.6011112801444862, 0.1079999751440754, -0.76...   \n",
       "\n",
       "                                         ACC1_powerSpect  \\\n",
       "12756  [0.46175135974814535, -1.2355959845314046, -1....   \n",
       "40517  [0.9081011833126157, 0.11571896703621758, -0.1...   \n",
       "\n",
       "                                         ACC2_powerSpect  \n",
       "12756  [2.652285419297868, -1.5352699580846938, -1.63...  \n",
       "40517  [1.8131129899397629, 1.0283328434798285, 0.112...  "
      ]
     },
     "execution_count": 122,
     "metadata": {},
     "output_type": "execute_result"
    }
   ],
   "source": [
    "X_train.head(2)"
   ]
  },
  {
   "cell_type": "code",
   "execution_count": 123,
   "id": "6d9e21e5",
   "metadata": {},
   "outputs": [
    {
     "data": {
      "text/plain": [
       "12756    S3_8\n",
       "dtype: object"
      ]
     },
     "execution_count": 123,
     "metadata": {},
     "output_type": "execute_result"
    }
   ],
   "source": [
    "y_for_splitting = X_train['user_id'].astype('str') + '_' + X_train['activity_label'].astype('int').astype('str')\n",
    "y_for_splitting.head(1)"
   ]
  },
  {
   "cell_type": "code",
   "execution_count": 124,
   "id": "dae1003e",
   "metadata": {},
   "outputs": [],
   "source": [
    "(X_learn, X_val, y_learn, y_val) = train_test_split(X_train, y_train, test_size=0.15, stratify=y_for_splitting)"
   ]
  },
  {
   "cell_type": "code",
   "execution_count": 125,
   "id": "539c79d2",
   "metadata": {},
   "outputs": [
    {
     "data": {
      "text/plain": [
       "S10    0.000011\n",
       "S7    -0.000026\n",
       "S5     0.000004\n",
       "S1     0.000004\n",
       "S4    -0.000020\n",
       "S13   -0.000004\n",
       "S11   -0.000010\n",
       "S14    0.000008\n",
       "S3     0.000004\n",
       "S9    -0.000009\n",
       "S2     0.000011\n",
       "S8     0.000004\n",
       "S15    0.000004\n",
       "S12    0.000021\n",
       "S6    -0.000004\n",
       "Name: user_id, dtype: float64"
      ]
     },
     "execution_count": 125,
     "metadata": {},
     "output_type": "execute_result"
    }
   ],
   "source": [
    "X_train['user_id'].value_counts(normalize=True) - X_learn['user_id'].value_counts(normalize=True)"
   ]
  },
  {
   "cell_type": "code",
   "execution_count": 126,
   "id": "87464cb3",
   "metadata": {},
   "outputs": [
    {
     "data": {
      "text/plain": [
       "0.0    2.772427e-05\n",
       "6.0   -1.587168e-05\n",
       "8.0   -1.631984e-06\n",
       "5.0    2.735897e-05\n",
       "7.0    7.589989e-07\n",
       "1.0   -4.415927e-05\n",
       "4.0    9.397037e-06\n",
       "2.0    9.412598e-06\n",
       "3.0   -1.298896e-05\n",
       "Name: activity_label, dtype: float64"
      ]
     },
     "execution_count": 126,
     "metadata": {},
     "output_type": "execute_result"
    }
   ],
   "source": [
    "X_train['activity_label'].value_counts(normalize=True) - X_learn['activity_label'].value_counts(normalize=True)"
   ]
  },
  {
   "cell_type": "markdown",
   "id": "0b12a35b",
   "metadata": {},
   "source": [
    "need to put all the data into a single input matrix"
   ]
  },
  {
   "cell_type": "markdown",
   "id": "e0462471",
   "metadata": {},
   "source": [
    "## determine scaling factors and scale X_train values\n",
    "write custome function to scale X for modeling \n",
    "determine scaling prameters for BVP power spectra and all ACC power sectra (one set for BVP and one for all ACC)\n",
    "this will ensure information encoded in each of the power spectra are preserved "
   ]
  },
  {
   "cell_type": "code",
   "execution_count": 127,
   "id": "541699df",
   "metadata": {},
   "outputs": [],
   "source": [
    "class ppg_scaler():\n",
    "    temp_sp = ()\n",
    "    eda_sp = ()\n",
    "    bvp_sp = ()\n",
    "    acc_sp = ()\n",
    "    \n",
    "    def fit(self,X):\n",
    "        self.temp_sp = (X['skin_temp[C]'].min(), X['skin_temp[C]'].max())\n",
    "        self.eda_sp = (X['EDA[microS]'].min(), X['EDA[microS]'].max())\n",
    "        \n",
    "        temp = np.concatenate(X['BVP_powerSpect'].values).ravel()\n",
    "        self.bvp_sp = (temp.min(), temp.max())\n",
    "        \n",
    "        temp = np.concatenate(np.concatenate(X[['ACC0_powerSpect','ACC1_powerSpect','ACC2_powerSpect']].values)).ravel()\n",
    "        self.acc_sp = (temp.min(), temp.max())    \n",
    "    \n",
    "    def transform(self,X):\n",
    "        X_out = pd.DataFrame()\n",
    "        X_out['skin_temp[C]'] = X['skin_temp[C]'].apply(lambda x: (x-self.temp_sp[0])/(self.temp_sp[1] - self.temp_sp[0]))\n",
    "        \n",
    "        X_out['EDA[microS]'] = X['EDA[microS]'].apply(lambda x: (x-self.eda_sp[0])/(self.eda_sp[1] - self.eda_sp[0]))\n",
    "        \n",
    "        X_out['BVP_powerSpect'] = X['BVP_powerSpect'].apply(lambda x: (x-self.bvp_sp[0])/(self.bvp_sp[1] - self.bvp_sp[0]))\n",
    "        \n",
    "        X_out[['ACC0_powerSpect','ACC1_powerSpect','ACC2_powerSpect']] = X[['ACC0_powerSpect','ACC1_powerSpect','ACC2_powerSpect']].apply(lambda x: (x-self.acc_sp[0])/(self.acc_sp[1] - self.acc_sp[0]))\n",
    "\n",
    "        return X_out\n",
    "    \n",
    "    def fit_transform(self,X):\n",
    "        self.fit(X)\n",
    "        return self.transform(X)"
   ]
  },
  {
   "cell_type": "markdown",
   "id": "ec0a8f4d",
   "metadata": {},
   "source": [
    "##  pack all values into a NX5X65 np array padding with 0s if arays are not long enough"
   ]
  },
  {
   "cell_type": "code",
   "execution_count": 128,
   "id": "21abb739",
   "metadata": {},
   "outputs": [],
   "source": [
    "def prep_df_for_CNN(scaled_X_df):\n",
    "    out_length = 65\n",
    "    CNN_inp = np.zeros((5,65,1))\n",
    "    for i_row in scaled_X_df.iterrows():\n",
    "        temp_df = pd.DataFrame(np.zeros([1,out_length]))\n",
    "        temp_df = pd.concat([temp_df, pd.DataFrame([i_row[1]['skin_temp[C]'], i_row[1]['EDA[microS]']]).T])\n",
    "        temp_df = pd.concat([temp_df, pd.DataFrame(i_row[1]['BVP_powerSpect']).T])\n",
    "        temp_df = pd.concat([temp_df, pd.DataFrame(i_row[1]['ACC0_powerSpect']).T])\n",
    "        temp_df = pd.concat([temp_df, pd.DataFrame(i_row[1]['ACC1_powerSpect']).T])\n",
    "        temp_df = pd.concat([temp_df, pd.DataFrame(i_row[1]['ACC2_powerSpect']).T])\n",
    "        temp_df = temp_df.reset_index().drop(index=0).drop(columns='index').fillna(0)\n",
    "        CNN_inp = np.dstack((CNN_inp, temp_df.values))\n",
    "    \n",
    "    CNN_inp = np.moveaxis(CNN_inp,2,0)[1:].astype('float32')\n",
    "    CNN_inp = CNN_inp.reshape(CNN_inp.shape[0],CNN_inp.shape[1],CNN_inp.shape[2],1)\n",
    "    return CNN_inp"
   ]
  },
  {
   "cell_type": "code",
   "execution_count": null,
   "id": "a5819a08",
   "metadata": {},
   "outputs": [],
   "source": [
    "# X_play = X_train.iloc[:10,:]\n",
    "# X_play.head(2)"
   ]
  },
  {
   "cell_type": "code",
   "execution_count": null,
   "id": "b6915748",
   "metadata": {},
   "outputs": [],
   "source": [
    "# scaler = ppg_scaler()\n",
    "# X_play_s = scaler.fit_transform(X_play)\n",
    "# X_play_s.head(2)"
   ]
  },
  {
   "cell_type": "code",
   "execution_count": null,
   "id": "52bf0eb1",
   "metadata": {},
   "outputs": [],
   "source": [
    "# prep_df_for_CNN(X_play_s).shape"
   ]
  },
  {
   "cell_type": "code",
   "execution_count": 129,
   "id": "4e7bae61",
   "metadata": {},
   "outputs": [],
   "source": [
    "reparse_data = False\n",
    "if (reparse_data):\n",
    "    scaler = ppg_scaler()\n",
    "    X_learn_in = prep_df_for_CNN(scaler.fit_transform(X_learn))\n",
    "    X_val_in = prep_df_for_CNN(scaler.transform(X_val))\n",
    "    X_test_in = prep_df_for_CNN(scaler.transform(X_test))\n",
    "\n",
    "    pd.to_pickle(scaler,'E:/data_files/ppg_data/PPG_FieldStudy/scaler_CNN.pkl')\n",
    "    pd.to_pickle(X_val_in,'E:/data_files/ppg_data/PPG_FieldStudy/X_val_in_CNN.pkl')\n",
    "    pd.to_pickle(X_learn_in,'E:/data_files/ppg_data/PPG_FieldStudy/X_learn_in_CNN.pkl')\n",
    "    pd.to_pickle(X_test_in,'E:/data_files/ppg_data/PPG_FieldStudy/X_test_in_CNN.pkl')\n",
    "\n",
    "    pd.to_pickle(y_learn,'E:/data_files/ppg_data/PPG_FieldStudy/y_learn_CNN.pkl')\n",
    "    pd.to_pickle(y_val,'E:/data_files/ppg_data/PPG_FieldStudy/y_val_CNN.pkl')\n",
    "    pd.to_pickle(y_test,'E:/data_files/ppg_data/PPG_FieldStudy/y_test_CNN.pkl')\n",
    "else:\n",
    "    scaler = pd.read_pickle('E:/data_files/ppg_data/PPG_FieldStudy/scaler_CNN.pkl')\n",
    "    X_val_in = pd.read_pickle('E:/data_files/ppg_data/PPG_FieldStudy/X_val_in_CNN.pkl')\n",
    "    X_learn_in = pd.read_pickle('E:/data_files/ppg_data/PPG_FieldStudy/X_learn_in_CNN.pkl')\n",
    "    X_test_in = pd.read_pickle('E:/data_files/ppg_data/PPG_FieldStudy/X_test_in_CNN.pkl')\n",
    "\n",
    "    y_learn = pd.read_pickle('E:/data_files/ppg_data/PPG_FieldStudy/y_learn_CNN.pkl')\n",
    "    y_val = pd.read_pickle('E:/data_files/ppg_data/PPG_FieldStudy/y_val_CNN.pkl')\n",
    "    y_test = pd.read_pickle('E:/data_files/ppg_data/PPG_FieldStudy/y_test_CNN.pkl')"
   ]
  },
  {
   "cell_type": "markdown",
   "id": "51119112",
   "metadata": {},
   "source": [
    "# set up CNN"
   ]
  },
  {
   "cell_type": "code",
   "execution_count": 130,
   "id": "01179244",
   "metadata": {},
   "outputs": [
    {
     "name": "stdout",
     "output_type": "stream",
     "text": [
      "Num GPUs Available:  1\n"
     ]
    }
   ],
   "source": [
    "import tensorflow as tf\n",
    "from tensorflow import keras\n",
    "from tensorflow.keras.models import Sequential\n",
    "from tensorflow.keras import layers\n",
    "from tensorflow.keras.optimizers import Adam\n",
    "\n",
    "#check to make sure gpu is seen\n",
    "print(\"Num GPUs Available: \", len(tf.config.list_physical_devices('GPU')))"
   ]
  },
  {
   "cell_type": "code",
   "execution_count": 131,
   "id": "a4c7b4da",
   "metadata": {},
   "outputs": [],
   "source": [
    "tf.config.run_functions_eagerly(True)"
   ]
  },
  {
   "cell_type": "code",
   "execution_count": 137,
   "id": "8c428f72",
   "metadata": {},
   "outputs": [],
   "source": [
    "model = Sequential()\n",
    "model.add(layers.Conv2D(input_shape=(5,65,1), kernel_size=(1, 3), padding='same', filters=9, activation='relu'))\n",
    "model.add(layers.MaxPool2D((1, 2), strides=(1,2), padding='same'))\n",
    "model.add(layers.Conv2D(kernel_size=(1,3), padding='same', filters=18, activation='relu'))\n",
    "model.add(layers.MaxPool2D((1, 2), strides=(1,2), padding='same'))\n",
    "model.add(layers.Conv2D(kernel_size=(1,3), padding='same', filters=36, activation='relu'))\n",
    "model.add(layers.MaxPool2D((1, 2), strides=(1,2), padding='same'))\n",
    "model.add(layers.Conv2D(kernel_size=(1,3), padding='same', filters=72, activation='relu'))\n",
    "model.add(layers.MaxPool2D((1, 2), strides=(1,2), padding='same'))\n",
    "\n",
    "model.add(layers.Conv2D(kernel_size=(1,1), padding='same', filters=32, activation='relu'))\n",
    "model.add(layers.Flatten())\n",
    "\n",
    "model.add(layers.Dense(32, activation='relu'))\n",
    "model.add(layers.Dropout(.5))\n",
    "model.add(layers.Dense(16, activation='relu'))\n",
    "model.add(layers.Dropout(.5))\n",
    "model.add(layers.Dense(8, activation='relu'))\n",
    "\n",
    "model.add(layers.Dense(1, activation='linear'))\n",
    "\n",
    "opt = Adam(lr=1e-3)\n",
    "model.compile(loss='mean_squared_error', optimizer=opt, metrics=['mae'])"
   ]
  },
  {
   "cell_type": "markdown",
   "id": "89f12da1",
   "metadata": {},
   "source": [
    "above appears to over fit significatly"
   ]
  },
  {
   "cell_type": "code",
   "execution_count": 141,
   "id": "88a8235c",
   "metadata": {},
   "outputs": [],
   "source": [
    "model = Sequential()\n",
    "model.add(layers.Conv2D(input_shape=(5,65,1), kernel_size=(1, 3), padding='same', filters=9, activation='relu'))\n",
    "model.add(layers.MaxPool2D((1, 2), strides=(1,2), padding='same'))\n",
    "model.add(layers.Conv2D(kernel_size=(1,3), padding='same', filters=18, activation='relu'))\n",
    "model.add(layers.MaxPool2D((1, 2), strides=(1,2), padding='same'))\n",
    "\n",
    "model.add(layers.Flatten())\n",
    "\n",
    "model.add(layers.Dense(32, activation='relu'))\n",
    "model.add(layers.Dropout(.5))\n",
    "model.add(layers.Dense(16, activation='relu'))\n",
    "model.add(layers.Dropout(.5))\n",
    "model.add(layers.Dense(8, activation='relu'))\n",
    "\n",
    "model.add(layers.Dense(1, activation='linear'))\n",
    "\n",
    "opt = Adam(lr=1e-3)\n",
    "model.compile(loss='mean_squared_error', optimizer=opt, metrics=['mae'])"
   ]
  },
  {
   "cell_type": "code",
   "execution_count": 143,
   "id": "bef491a7",
   "metadata": {},
   "outputs": [],
   "source": [
    "# did not over fit maybe try more epochs on this\n",
    "model = Sequential()\n",
    "model.add(layers.Conv2D(input_shape=(5,65,1), kernel_size=(1, 3), padding='same', filters=9, activation='relu'))\n",
    "model.add(layers.MaxPool2D((1, 2), strides=(1,2), padding='same'))\n",
    "model.add(layers.Conv2D(kernel_size=(1,3), padding='same', filters=18, activation='relu'))\n",
    "model.add(layers.MaxPool2D((1, 2), strides=(1,2), padding='same'))\n",
    "\n",
    "\n",
    "model.add(layers.Flatten())\n",
    "\n",
    "model.add(layers.Dense(9, activation='relu'))\n",
    "model.add(layers.Dropout(.5))\n",
    "\n",
    "model.add(layers.Dense(1, activation='linear'))\n",
    "\n",
    "opt = Adam(lr=1e-3)\n",
    "model.compile(loss='mean_squared_error', optimizer=opt, metrics=['mae'])"
   ]
  },
  {
   "cell_type": "code",
   "execution_count": 145,
   "id": "80389f8a",
   "metadata": {},
   "outputs": [],
   "source": [
    "# EVEN BETTER\n",
    "model = Sequential()\n",
    "model.add(layers.Conv2D(input_shape=(5,65,1), kernel_size=(1, 3), padding='same', filters=9, activation='relu'))\n",
    "model.add(layers.MaxPool2D((1, 2), strides=(1,2), padding='same'))\n",
    "model.add(layers.Conv2D(kernel_size=(1,3), padding='same', filters=18, activation='relu'))\n",
    "model.add(layers.MaxPool2D((1, 2), strides=(1,2), padding='same'))\n",
    "model.add(layers.Conv2D(kernel_size=(1,3), padding='same', filters=36, activation='relu'))\n",
    "model.add(layers.MaxPool2D((1, 2), strides=(1,2), padding='same'))\n",
    "\n",
    "\n",
    "model.add(layers.Flatten())\n",
    "\n",
    "model.add(layers.Dense(9, activation='relu'))\n",
    "model.add(layers.Dropout(.5))\n",
    "\n",
    "model.add(layers.Dense(1, activation='linear'))\n",
    "\n",
    "opt = Adam(lr=1e-3)\n",
    "model.compile(loss='mean_squared_error', optimizer=opt, metrics=['mae'])"
   ]
  },
  {
   "cell_type": "code",
   "execution_count": 150,
   "id": "98ea4abd",
   "metadata": {},
   "outputs": [],
   "source": [
    "# try more learning\n",
    "model = Sequential()\n",
    "model.add(layers.Conv2D(input_shape=(5,65,1), kernel_size=(1, 3), padding='same', filters=9, activation='relu'))\n",
    "model.add(layers.MaxPool2D((1, 2), strides=(1,2), padding='same'))\n",
    "model.add(layers.Conv2D(kernel_size=(1,3), padding='same', filters=18, activation='relu'))\n",
    "model.add(layers.MaxPool2D((1, 2), strides=(1,2), padding='same'))\n",
    "model.add(layers.Conv2D(kernel_size=(1,3), padding='same', filters=36, activation='relu'))\n",
    "model.add(layers.MaxPool2D((1, 2), strides=(1,2), padding='same'))\n",
    "model.add(layers.Conv2D(kernel_size=(1,3), padding='same', filters=72, activation='relu'))\n",
    "model.add(layers.MaxPool2D((1, 2), strides=(1,2), padding='same'))\n",
    "\n",
    "\n",
    "model.add(layers.Flatten())\n",
    "model.add(layers.Dense(18, activation='relu'))\n",
    "model.add(layers.Dropout(.5))\n",
    "model.add(layers.Dense(9, activation='relu'))\n",
    "model.add(layers.Dropout(.5))\n",
    "\n",
    "model.add(layers.Dense(1, activation='linear'))\n",
    "\n",
    "opt = Adam(lr=1e-3)\n",
    "model.compile(loss='mean_squared_error', optimizer=opt, metrics=['mae'])"
   ]
  },
  {
   "cell_type": "code",
   "execution_count": 132,
   "id": "2d2977db",
   "metadata": {},
   "outputs": [],
   "source": [
    "model = Sequential()\n",
    "model.add(layers.Conv2D(input_shape=(5,65,1), kernel_size=(1, 3), padding='same', filters=9, activation='relu'))\n",
    "model.add(layers.MaxPool2D((1, 2), strides=(1,2), padding='same'))\n",
    "model.add(layers.Conv2D(kernel_size=(1,3), padding='same', filters=18, activation='relu'))\n",
    "model.add(layers.MaxPool2D((1, 2), strides=(1,2), padding='same'))\n",
    "\n",
    "\n",
    "model.add(layers.Flatten())\n",
    "\n",
    "model.add(layers.Dense(9, activation='relu'))\n",
    "model.add(layers.Dropout(.5))\n",
    "model.add(layers.Dense(5, activation='relu'))\n",
    "\n",
    "model.add(layers.Dense(1, activation='linear'))\n",
    "\n",
    "opt = Adam(lr=1e-3)\n",
    "model.compile(loss='mean_squared_error', optimizer=opt, metrics=['mae'])"
   ]
  },
  {
   "cell_type": "code",
   "execution_count": 151,
   "id": "8fcb5fd1",
   "metadata": {},
   "outputs": [
    {
     "name": "stdout",
     "output_type": "stream",
     "text": [
      "Epoch 1/500\n",
      "\r",
      "1/6 [====>.........................] - ETA: 0s - loss: 8529.1250 - mae: 89.5196"
     ]
    },
    {
     "name": "stderr",
     "output_type": "stream",
     "text": [
      "C:\\Users\\PFCva\\anaconda3\\envs\\ppg_model\\lib\\site-packages\\tensorflow\\python\\data\\ops\\dataset_ops.py:3349: UserWarning: Even though the tf.config.experimental_run_functions_eagerly option is set, this option does not apply to tf.data functions. tf.data functions are still traced and executed as graphs.\n",
      "  warnings.warn(\n"
     ]
    },
    {
     "name": "stdout",
     "output_type": "stream",
     "text": [
      "6/6 [==============================] - 0s 65ms/step - loss: 8512.8623 - mae: 89.4022 - val_loss: 8497.7842 - val_mae: 89.3185\n",
      "Epoch 2/500\n",
      "2/6 [=========>....................] - ETA: 0s - loss: 8514.5107 - mae: 89.3699"
     ]
    },
    {
     "name": "stderr",
     "output_type": "stream",
     "text": [
      "C:\\Users\\PFCva\\anaconda3\\envs\\ppg_model\\lib\\site-packages\\tensorflow\\python\\data\\ops\\dataset_ops.py:3349: UserWarning: Even though the tf.config.experimental_run_functions_eagerly option is set, this option does not apply to tf.data functions. tf.data functions are still traced and executed as graphs.\n",
      "  warnings.warn(\n"
     ]
    },
    {
     "name": "stdout",
     "output_type": "stream",
     "text": [
      "6/6 [==============================] - 0s 55ms/step - loss: 8480.6279 - mae: 89.2233 - val_loss: 8440.5781 - val_mae: 89.0008\n",
      "Epoch 3/500\n",
      "6/6 [==============================] - 0s 54ms/step - loss: 8401.0127 - mae: 88.7775 - val_loss: 8285.2461 - val_mae: 88.1321\n",
      "Epoch 4/500\n",
      "6/6 [==============================] - 0s 55ms/step - loss: 8195.8174 - mae: 87.5958 - val_loss: 7902.4312 - val_mae: 85.9534\n",
      "Epoch 5/500\n",
      "6/6 [==============================] - 0s 54ms/step - loss: 7709.8394 - mae: 84.6064 - val_loss: 7018.2544 - val_mae: 80.6961\n",
      "Epoch 6/500\n",
      "6/6 [==============================] - 0s 54ms/step - loss: 6726.1387 - mae: 77.3168 - val_loss: 5120.8979 - val_mae: 68.0621\n",
      "Epoch 7/500\n",
      "6/6 [==============================] - 0s 54ms/step - loss: 5486.3809 - mae: 65.5601 - val_loss: 2307.5151 - val_mae: 43.0118\n",
      "Epoch 8/500\n",
      "6/6 [==============================] - 0s 54ms/step - loss: 5531.7280 - mae: 65.5491 - val_loss: 2368.7861 - val_mae: 43.7112\n",
      "Epoch 9/500\n",
      "6/6 [==============================] - 0s 54ms/step - loss: 5097.3169 - mae: 62.8206 - val_loss: 3498.5273 - val_mae: 55.0213\n",
      "Epoch 10/500\n",
      "6/6 [==============================] - 0s 53ms/step - loss: 5033.9141 - mae: 62.3507 - val_loss: 3328.5359 - val_mae: 53.4739\n",
      "Epoch 11/500\n",
      "6/6 [==============================] - 0s 54ms/step - loss: 4880.3149 - mae: 60.9630 - val_loss: 2673.0334 - val_mae: 47.0316\n",
      "Epoch 12/500\n",
      "6/6 [==============================] - 0s 54ms/step - loss: 4835.2935 - mae: 60.3480 - val_loss: 2650.1743 - val_mae: 46.7936\n",
      "Epoch 13/500\n",
      "6/6 [==============================] - 0s 54ms/step - loss: 4777.3164 - mae: 59.8466 - val_loss: 2953.9158 - val_mae: 49.8993\n",
      "Epoch 14/500\n",
      "6/6 [==============================] - 0s 54ms/step - loss: 4687.3955 - mae: 59.4235 - val_loss: 2731.4341 - val_mae: 47.6492\n",
      "Epoch 15/500\n",
      "6/6 [==============================] - 0s 54ms/step - loss: 4622.9668 - mae: 58.4999 - val_loss: 2298.2361 - val_mae: 42.9308\n",
      "Epoch 16/500\n",
      "6/6 [==============================] - 0s 54ms/step - loss: 4585.7905 - mae: 57.8767 - val_loss: 2419.2468 - val_mae: 44.3012\n",
      "Epoch 17/500\n",
      "6/6 [==============================] - 0s 57ms/step - loss: 4509.6343 - mae: 57.5199 - val_loss: 2606.2966 - val_mae: 46.3395\n",
      "Epoch 18/500\n",
      "6/6 [==============================] - 0s 54ms/step - loss: 4441.6611 - mae: 56.9622 - val_loss: 2525.9922 - val_mae: 45.4775\n",
      "Epoch 19/500\n",
      "6/6 [==============================] - 0s 53ms/step - loss: 4375.4448 - mae: 56.2537 - val_loss: 2440.7026 - val_mae: 44.5443\n",
      "Epoch 20/500\n",
      "6/6 [==============================] - 0s 54ms/step - loss: 4350.1250 - mae: 56.1591 - val_loss: 2746.8186 - val_mae: 47.8176\n",
      "Epoch 21/500\n",
      "6/6 [==============================] - 0s 54ms/step - loss: 4232.5513 - mae: 55.4542 - val_loss: 2579.3838 - val_mae: 46.0586\n",
      "Epoch 22/500\n",
      "6/6 [==============================] - 0s 54ms/step - loss: 4186.4609 - mae: 54.6391 - val_loss: 2374.4373 - val_mae: 43.8102\n",
      "Epoch 23/500\n",
      "6/6 [==============================] - 0s 54ms/step - loss: 4166.3716 - mae: 54.3467 - val_loss: 2504.0112 - val_mae: 45.2470\n",
      "Epoch 24/500\n",
      "6/6 [==============================] - 0s 54ms/step - loss: 4075.6748 - mae: 53.6008 - val_loss: 2463.4937 - val_mae: 44.8043\n",
      "Epoch 25/500\n",
      "6/6 [==============================] - 0s 54ms/step - loss: 4024.7700 - mae: 52.9906 - val_loss: 2425.8450 - val_mae: 44.3893\n",
      "Epoch 26/500\n",
      "6/6 [==============================] - 0s 55ms/step - loss: 4005.4609 - mae: 52.8451 - val_loss: 2735.9309 - val_mae: 47.7134\n",
      "Epoch 27/500\n",
      "6/6 [==============================] - 0s 55ms/step - loss: 3960.9309 - mae: 52.6373 - val_loss: 2616.9485 - val_mae: 46.4674\n",
      "Epoch 28/500\n",
      "6/6 [==============================] - 0s 55ms/step - loss: 3952.9844 - mae: 52.1698 - val_loss: 2156.9194 - val_mae: 41.3002\n",
      "Epoch 29/500\n",
      "6/6 [==============================] - 0s 54ms/step - loss: 3921.7268 - mae: 51.7904 - val_loss: 2284.3787 - val_mae: 42.7944\n",
      "Epoch 30/500\n",
      "6/6 [==============================] - 0s 55ms/step - loss: 3851.6868 - mae: 51.3886 - val_loss: 2404.9238 - val_mae: 44.1634\n",
      "Epoch 31/500\n",
      "6/6 [==============================] - 0s 55ms/step - loss: 3836.9221 - mae: 51.1963 - val_loss: 2154.3774 - val_mae: 41.2753\n",
      "Epoch 32/500\n",
      "6/6 [==============================] - 0s 58ms/step - loss: 3800.3301 - mae: 50.8291 - val_loss: 2269.6252 - val_mae: 42.6297\n",
      "Epoch 33/500\n",
      "6/6 [==============================] - 0s 64ms/step - loss: 3766.6316 - mae: 50.6718 - val_loss: 2511.4158 - val_mae: 45.3428\n",
      "Epoch 34/500\n",
      "6/6 [==============================] - 0s 53ms/step - loss: 3690.9353 - mae: 50.1344 - val_loss: 2756.9500 - val_mae: 47.9419\n",
      "Epoch 35/500\n",
      "6/6 [==============================] - 0s 52ms/step - loss: 3659.9375 - mae: 50.1038 - val_loss: 2976.9075 - val_mae: 50.1569\n",
      "Epoch 36/500\n",
      "6/6 [==============================] - 0s 52ms/step - loss: 3632.1863 - mae: 50.0782 - val_loss: 2645.8364 - val_mae: 46.7870\n",
      "Epoch 37/500\n",
      "6/6 [==============================] - 0s 52ms/step - loss: 3579.5959 - mae: 49.6547 - val_loss: 2557.2432 - val_mae: 45.8450\n",
      "Epoch 38/500\n",
      "6/6 [==============================] - 0s 54ms/step - loss: 3500.1296 - mae: 48.9399 - val_loss: 2877.1851 - val_mae: 49.1683\n",
      "Epoch 39/500\n",
      "6/6 [==============================] - 0s 53ms/step - loss: 3481.7585 - mae: 48.6637 - val_loss: 2633.6128 - val_mae: 46.6626\n",
      "Epoch 40/500\n",
      "6/6 [==============================] - 0s 54ms/step - loss: 3494.0454 - mae: 48.5881 - val_loss: 2056.9309 - val_mae: 40.1178\n",
      "Epoch 41/500\n",
      "6/6 [==============================] - 0s 54ms/step - loss: 3514.6182 - mae: 48.5717 - val_loss: 2318.5034 - val_mae: 43.2097\n",
      "Epoch 42/500\n",
      "6/6 [==============================] - 0s 53ms/step - loss: 3419.9834 - mae: 47.9038 - val_loss: 2424.4714 - val_mae: 44.4073\n",
      "Epoch 43/500\n",
      "6/6 [==============================] - 0s 52ms/step - loss: 3418.6609 - mae: 47.9956 - val_loss: 2515.7732 - val_mae: 45.4122\n",
      "Epoch 44/500\n",
      "6/6 [==============================] - 0s 52ms/step - loss: 3379.7585 - mae: 47.6000 - val_loss: 2647.9900 - val_mae: 46.8259\n",
      "Epoch 45/500\n",
      "6/6 [==============================] - 0s 53ms/step - loss: 3444.2332 - mae: 48.1347 - val_loss: 2845.0635 - val_mae: 48.8601\n",
      "Epoch 46/500\n",
      "6/6 [==============================] - 0s 54ms/step - loss: 3341.8220 - mae: 47.3311 - val_loss: 2270.0459 - val_mae: 42.6633\n",
      "Epoch 47/500\n",
      "6/6 [==============================] - 0s 53ms/step - loss: 3378.3591 - mae: 47.7039 - val_loss: 2232.9294 - val_mae: 42.2344\n",
      "Epoch 48/500\n",
      "6/6 [==============================] - 0s 54ms/step - loss: 3362.3875 - mae: 47.4798 - val_loss: 2670.4622 - val_mae: 47.0683\n",
      "Epoch 49/500\n",
      "6/6 [==============================] - 0s 54ms/step - loss: 3424.7153 - mae: 47.9188 - val_loss: 2232.1672 - val_mae: 42.2297\n",
      "Epoch 50/500\n",
      "6/6 [==============================] - 0s 53ms/step - loss: 3335.2102 - mae: 47.1354 - val_loss: 2085.5173 - val_mae: 40.4878\n",
      "Epoch 51/500\n",
      "6/6 [==============================] - 0s 53ms/step - loss: 3333.3857 - mae: 47.3128 - val_loss: 2428.3835 - val_mae: 44.4648\n",
      "Epoch 52/500\n",
      "6/6 [==============================] - 0s 53ms/step - loss: 3292.0085 - mae: 46.8641 - val_loss: 2238.0256 - val_mae: 42.3042\n",
      "Epoch 53/500\n",
      "6/6 [==============================] - 0s 54ms/step - loss: 3315.3479 - mae: 46.9411 - val_loss: 2285.3142 - val_mae: 42.8541\n",
      "Epoch 54/500\n",
      "6/6 [==============================] - 0s 53ms/step - loss: 3297.5481 - mae: 46.7780 - val_loss: 2816.9146 - val_mae: 48.5901\n",
      "Epoch 55/500\n",
      "6/6 [==============================] - 0s 57ms/step - loss: 3465.7371 - mae: 48.6540 - val_loss: 3168.9875 - val_mae: 52.0433\n",
      "Epoch 56/500\n",
      "6/6 [==============================] - 0s 56ms/step - loss: 3353.9280 - mae: 47.4667 - val_loss: 2409.5515 - val_mae: 44.2613\n",
      "Epoch 57/500\n",
      "6/6 [==============================] - 0s 55ms/step - loss: 3254.3660 - mae: 46.7177 - val_loss: 2341.7979 - val_mae: 43.5005\n",
      "Epoch 58/500\n",
      "6/6 [==============================] - 0s 58ms/step - loss: 3261.7671 - mae: 46.7321 - val_loss: 2602.4927 - val_mae: 46.3624\n",
      "Epoch 59/500\n",
      "6/6 [==============================] - 0s 54ms/step - loss: 3237.4031 - mae: 46.4457 - val_loss: 2650.7546 - val_mae: 46.8739\n",
      "Epoch 60/500\n",
      "6/6 [==============================] - 0s 57ms/step - loss: 3211.3623 - mae: 46.1879 - val_loss: 2624.9199 - val_mae: 46.6021\n",
      "Epoch 61/500\n"
     ]
    },
    {
     "name": "stdout",
     "output_type": "stream",
     "text": [
      "6/6 [==============================] - 0s 57ms/step - loss: 3227.2747 - mae: 46.2935 - val_loss: 2388.5349 - val_mae: 44.0315\n",
      "Epoch 62/500\n",
      "6/6 [==============================] - 0s 58ms/step - loss: 3208.0811 - mae: 46.0654 - val_loss: 2766.0239 - val_mae: 48.0758\n",
      "Epoch 63/500\n",
      "6/6 [==============================] - 0s 56ms/step - loss: 3227.7693 - mae: 46.2733 - val_loss: 2536.2852 - val_mae: 45.6591\n",
      "Epoch 64/500\n",
      "6/6 [==============================] - 0s 58ms/step - loss: 3168.8489 - mae: 45.8744 - val_loss: 1934.3639 - val_mae: 38.6333\n",
      "Epoch 65/500\n",
      "6/6 [==============================] - 0s 53ms/step - loss: 3301.0435 - mae: 46.9893 - val_loss: 2365.0164 - val_mae: 43.7737\n",
      "Epoch 66/500\n",
      "6/6 [==============================] - ETA: 0s - loss: 3370.3662 - mae: 47.760 - 0s 54ms/step - loss: 3370.2039 - mae: 47.7588 - val_loss: 3601.3457 - val_mae: 56.0042\n",
      "Epoch 67/500\n",
      "6/6 [==============================] - 0s 54ms/step - loss: 3497.0833 - mae: 49.2332 - val_loss: 2919.5300 - val_mae: 49.6327\n",
      "Epoch 68/500\n",
      "6/6 [==============================] - 0s 53ms/step - loss: 3195.6860 - mae: 46.1535 - val_loss: 2029.9519 - val_mae: 39.8342\n",
      "Epoch 69/500\n",
      "6/6 [==============================] - 0s 55ms/step - loss: 3232.4089 - mae: 46.6343 - val_loss: 2469.1162 - val_mae: 44.9362\n",
      "Epoch 70/500\n",
      "6/6 [==============================] - 0s 56ms/step - loss: 3169.8208 - mae: 45.7290 - val_loss: 2806.0415 - val_mae: 48.4942\n",
      "Epoch 71/500\n",
      "6/6 [==============================] - 0s 56ms/step - loss: 3233.2019 - mae: 46.1863 - val_loss: 2698.0027 - val_mae: 47.3832\n",
      "Epoch 72/500\n",
      "6/6 [==============================] - 0s 57ms/step - loss: 3136.4641 - mae: 45.4541 - val_loss: 2302.3223 - val_mae: 43.0694\n",
      "Epoch 73/500\n",
      "6/6 [==============================] - 0s 56ms/step - loss: 3145.6716 - mae: 45.4487 - val_loss: 2458.1875 - val_mae: 44.8181\n",
      "Epoch 74/500\n",
      "6/6 [==============================] - 0s 54ms/step - loss: 3183.2339 - mae: 45.8787 - val_loss: 2365.3740 - val_mae: 43.7865\n",
      "Epoch 75/500\n",
      "6/6 [==============================] - 0s 54ms/step - loss: 3179.3853 - mae: 45.7994 - val_loss: 1939.7611 - val_mae: 38.7154\n",
      "Epoch 76/500\n",
      "6/6 [==============================] - 0s 55ms/step - loss: 3133.1580 - mae: 45.4530 - val_loss: 2625.8269 - val_mae: 46.6283\n",
      "Epoch 77/500\n",
      "6/6 [==============================] - 0s 55ms/step - loss: 3138.2014 - mae: 45.5207 - val_loss: 2577.3896 - val_mae: 46.1136\n",
      "Epoch 78/500\n",
      "6/6 [==============================] - 0s 55ms/step - loss: 3123.4475 - mae: 45.3907 - val_loss: 2270.0828 - val_mae: 42.7027\n",
      "Epoch 79/500\n",
      "6/6 [==============================] - 0s 54ms/step - loss: 3140.8794 - mae: 45.5946 - val_loss: 2364.7903 - val_mae: 43.7830\n",
      "Epoch 80/500\n",
      "6/6 [==============================] - 0s 54ms/step - loss: 3094.4995 - mae: 45.1492 - val_loss: 2707.8508 - val_mae: 47.4905\n",
      "Epoch 81/500\n",
      "6/6 [==============================] - 0s 53ms/step - loss: 3128.3938 - mae: 45.3849 - val_loss: 2365.2502 - val_mae: 43.7905\n",
      "Epoch 82/500\n",
      "6/6 [==============================] - 0s 55ms/step - loss: 3130.1929 - mae: 45.4882 - val_loss: 2056.1189 - val_mae: 40.1672\n",
      "Epoch 83/500\n",
      "6/6 [==============================] - 0s 54ms/step - loss: 3081.2781 - mae: 45.0787 - val_loss: 2339.1565 - val_mae: 43.4975\n",
      "Epoch 84/500\n",
      "6/6 [==============================] - 0s 54ms/step - loss: 3072.7815 - mae: 44.8926 - val_loss: 2688.7971 - val_mae: 47.2953\n",
      "Epoch 85/500\n",
      "6/6 [==============================] - 0s 54ms/step - loss: 3147.1489 - mae: 45.4845 - val_loss: 2708.6968 - val_mae: 47.5027\n",
      "Epoch 86/500\n",
      "6/6 [==============================] - 0s 55ms/step - loss: 3107.6560 - mae: 45.2356 - val_loss: 2427.4214 - val_mae: 44.4883\n",
      "Epoch 87/500\n",
      "6/6 [==============================] - 0s 54ms/step - loss: 3114.9358 - mae: 45.4492 - val_loss: 2720.4219 - val_mae: 47.6265\n",
      "Epoch 88/500\n",
      "6/6 [==============================] - 0s 54ms/step - loss: 3146.6448 - mae: 45.6296 - val_loss: 2784.0439 - val_mae: 48.2822\n",
      "Epoch 89/500\n",
      "6/6 [==============================] - 0s 55ms/step - loss: 3097.2605 - mae: 45.1860 - val_loss: 2192.8010 - val_mae: 41.8144\n",
      "Epoch 90/500\n",
      "6/6 [==============================] - 0s 55ms/step - loss: 3148.6643 - mae: 45.8180 - val_loss: 2079.3293 - val_mae: 40.4597\n",
      "Epoch 91/500\n",
      "6/6 [==============================] - 0s 55ms/step - loss: 3127.5730 - mae: 45.6351 - val_loss: 2259.8181 - val_mae: 42.5990\n",
      "Epoch 92/500\n",
      "6/6 [==============================] - 0s 55ms/step - loss: 3092.1853 - mae: 45.2047 - val_loss: 2563.6643 - val_mae: 45.9822\n",
      "Epoch 93/500\n",
      "6/6 [==============================] - 0s 53ms/step - loss: 3133.0417 - mae: 45.3417 - val_loss: 2675.4885 - val_mae: 47.1673\n",
      "Epoch 94/500\n",
      "6/6 [==============================] - 0s 55ms/step - loss: 3099.2061 - mae: 45.0732 - val_loss: 2415.6013 - val_mae: 44.3693\n",
      "Epoch 95/500\n",
      "6/6 [==============================] - 0s 55ms/step - loss: 3116.0750 - mae: 45.2456 - val_loss: 2092.1892 - val_mae: 40.6242\n",
      "Epoch 96/500\n",
      "6/6 [==============================] - 0s 54ms/step - loss: 3115.7253 - mae: 45.1924 - val_loss: 2422.6099 - val_mae: 44.4494\n",
      "Epoch 97/500\n",
      "6/6 [==============================] - 0s 54ms/step - loss: 3123.7349 - mae: 45.2454 - val_loss: 2720.0823 - val_mae: 47.6349\n",
      "Epoch 98/500\n",
      "6/6 [==============================] - 0s 56ms/step - loss: 3089.4062 - mae: 45.1700 - val_loss: 2459.8184 - val_mae: 44.8612\n",
      "Epoch 99/500\n",
      "6/6 [==============================] - 0s 53ms/step - loss: 3075.9412 - mae: 45.1153 - val_loss: 2377.8967 - val_mae: 43.9528\n",
      "Epoch 100/500\n",
      "6/6 [==============================] - 0s 55ms/step - loss: 3063.5210 - mae: 45.0089 - val_loss: 2583.6580 - val_mae: 46.2033\n",
      "Epoch 101/500\n",
      "6/6 [==============================] - 0s 53ms/step - loss: 3072.6846 - mae: 44.9318 - val_loss: 2313.7539 - val_mae: 43.2295\n",
      "Epoch 102/500\n",
      "6/6 [==============================] - 0s 53ms/step - loss: 3111.5381 - mae: 45.4670 - val_loss: 2209.4026 - val_mae: 42.0248\n",
      "Epoch 103/500\n",
      "6/6 [==============================] - 0s 54ms/step - loss: 3087.6333 - mae: 45.2103 - val_loss: 2261.8350 - val_mae: 42.6358\n",
      "Epoch 104/500\n",
      "6/6 [==============================] - 0s 53ms/step - loss: 3101.6665 - mae: 45.2157 - val_loss: 2235.6772 - val_mae: 42.3346\n",
      "Epoch 105/500\n",
      "6/6 [==============================] - 0s 53ms/step - loss: 3069.4817 - mae: 44.8644 - val_loss: 2651.8357 - val_mae: 46.9310\n",
      "Epoch 106/500\n",
      "6/6 [==============================] - 0s 53ms/step - loss: 3096.2126 - mae: 45.1009 - val_loss: 2921.6860 - val_mae: 49.6868\n",
      "Epoch 107/500\n",
      "6/6 [==============================] - 0s 53ms/step - loss: 3088.1497 - mae: 44.9802 - val_loss: 2426.8801 - val_mae: 44.5079\n",
      "Epoch 108/500\n",
      "6/6 [==============================] - 0s 55ms/step - loss: 3075.0847 - mae: 45.2181 - val_loss: 2230.9963 - val_mae: 42.2833\n",
      "Epoch 109/500\n",
      "6/6 [==============================] - 0s 54ms/step - loss: 3086.6956 - mae: 45.0476 - val_loss: 2586.7644 - val_mae: 46.2437\n",
      "Epoch 110/500\n",
      "6/6 [==============================] - 0s 55ms/step - loss: 3074.5908 - mae: 44.8444 - val_loss: 2304.1802 - val_mae: 43.1273\n",
      "Epoch 111/500\n",
      "6/6 [==============================] - 0s 54ms/step - loss: 3111.6482 - mae: 45.3179 - val_loss: 2080.3992 - val_mae: 40.4947\n",
      "Epoch 112/500\n",
      "6/6 [==============================] - 0s 55ms/step - loss: 3078.4895 - mae: 44.9356 - val_loss: 2288.5916 - val_mae: 42.9508\n",
      "Epoch 113/500\n",
      "6/6 [==============================] - 0s 54ms/step - loss: 3097.0964 - mae: 44.9780 - val_loss: 2248.1357 - val_mae: 42.4855\n",
      "Epoch 114/500\n",
      "6/6 [==============================] - 0s 54ms/step - loss: 3075.1714 - mae: 44.9942 - val_loss: 2408.1833 - val_mae: 44.3040\n",
      "Epoch 115/500\n",
      "6/6 [==============================] - 0s 54ms/step - loss: 3068.5439 - mae: 44.7132 - val_loss: 2752.2222 - val_mae: 47.9810\n",
      "Epoch 116/500\n",
      "6/6 [==============================] - 0s 55ms/step - loss: 3053.1809 - mae: 44.5683 - val_loss: 2524.2981 - val_mae: 45.5817\n",
      "Epoch 117/500\n",
      "6/6 [==============================] - 0s 55ms/step - loss: 3048.6775 - mae: 44.5789 - val_loss: 2815.7900 - val_mae: 48.6360\n",
      "Epoch 118/500\n",
      "6/6 [==============================] - 0s 55ms/step - loss: 3099.7756 - mae: 44.9904 - val_loss: 2638.9768 - val_mae: 46.8124\n",
      "Epoch 119/500\n"
     ]
    },
    {
     "name": "stdout",
     "output_type": "stream",
     "text": [
      "6/6 [==============================] - 0s 55ms/step - loss: 3026.4536 - mae: 44.4994 - val_loss: 2379.2886 - val_mae: 43.9957\n",
      "Epoch 120/500\n",
      "6/6 [==============================] - 0s 54ms/step - loss: 3055.6482 - mae: 44.9166 - val_loss: 2421.1094 - val_mae: 44.4628\n",
      "Epoch 121/500\n",
      "6/6 [==============================] - 0s 54ms/step - loss: 3054.0928 - mae: 44.8124 - val_loss: 2740.8940 - val_mae: 47.8780\n",
      "Epoch 122/500\n",
      "6/6 [==============================] - 0s 55ms/step - loss: 3086.1025 - mae: 45.0623 - val_loss: 2734.6143 - val_mae: 47.8178\n",
      "Epoch 123/500\n",
      "6/6 [==============================] - 0s 55ms/step - loss: 3094.5039 - mae: 45.1168 - val_loss: 2487.1602 - val_mae: 45.1995\n",
      "Epoch 124/500\n",
      "6/6 [==============================] - 0s 54ms/step - loss: 3038.4158 - mae: 44.7352 - val_loss: 2432.8186 - val_mae: 44.6039\n",
      "Epoch 125/500\n",
      "6/6 [==============================] - 0s 54ms/step - loss: 3045.5264 - mae: 44.7956 - val_loss: 2440.1348 - val_mae: 44.6790\n",
      "Epoch 126/500\n",
      "6/6 [==============================] - 0s 54ms/step - loss: 3029.2515 - mae: 44.6460 - val_loss: 2364.4661 - val_mae: 43.8381\n",
      "Epoch 127/500\n",
      "6/6 [==============================] - 0s 55ms/step - loss: 3015.3992 - mae: 44.4098 - val_loss: 2422.9302 - val_mae: 44.4918\n",
      "Epoch 128/500\n",
      "6/6 [==============================] - 0s 55ms/step - loss: 3015.1797 - mae: 44.4966 - val_loss: 2235.0447 - val_mae: 42.3623\n",
      "Epoch 129/500\n",
      "6/6 [==============================] - 0s 54ms/step - loss: 3069.4448 - mae: 45.0401 - val_loss: 2236.7937 - val_mae: 42.3841\n",
      "Epoch 130/500\n",
      "6/6 [==============================] - 0s 53ms/step - loss: 3065.1052 - mae: 45.0782 - val_loss: 2501.8518 - val_mae: 45.3613\n",
      "Epoch 131/500\n",
      "6/6 [==============================] - 0s 54ms/step - loss: 3042.0972 - mae: 44.7044 - val_loss: 2749.6758 - val_mae: 47.9794\n",
      "Epoch 132/500\n",
      "6/6 [==============================] - 0s 55ms/step - loss: 3114.6680 - mae: 45.3558 - val_loss: 2752.8899 - val_mae: 48.0133\n",
      "Epoch 133/500\n",
      "6/6 [==============================] - 0s 54ms/step - loss: 3048.9287 - mae: 44.6320 - val_loss: 2222.0481 - val_mae: 42.2167\n",
      "Epoch 134/500\n",
      "6/6 [==============================] - 0s 55ms/step - loss: 3050.1213 - mae: 44.7781 - val_loss: 2115.4119 - val_mae: 40.9564\n",
      "Epoch 135/500\n",
      "6/6 [==============================] - 0s 54ms/step - loss: 3052.0659 - mae: 44.8408 - val_loss: 2481.3955 - val_mae: 45.1434\n",
      "Epoch 136/500\n",
      "6/6 [==============================] - 0s 54ms/step - loss: 3106.4922 - mae: 45.1851 - val_loss: 3013.6816 - val_mae: 50.6236\n",
      "Epoch 137/500\n",
      "6/6 [==============================] - 0s 53ms/step - loss: 3072.1125 - mae: 44.9085 - val_loss: 2286.7937 - val_mae: 42.9696\n",
      "Epoch 138/500\n",
      "6/6 [==============================] - 0s 54ms/step - loss: 3046.9761 - mae: 44.8063 - val_loss: 2247.1101 - val_mae: 42.5132\n",
      "Epoch 139/500\n",
      "6/6 [==============================] - 0s 53ms/step - loss: 3048.9819 - mae: 44.7616 - val_loss: 2358.0403 - val_mae: 43.7805\n",
      "Epoch 140/500\n",
      "6/6 [==============================] - 0s 55ms/step - loss: 3028.2603 - mae: 44.4803 - val_loss: 2165.0415 - val_mae: 41.5552\n",
      "Epoch 141/500\n",
      "6/6 [==============================] - 0s 55ms/step - loss: 3044.3047 - mae: 44.7568 - val_loss: 2124.0642 - val_mae: 41.0692\n",
      "Epoch 142/500\n",
      "6/6 [==============================] - 0s 55ms/step - loss: 3028.6426 - mae: 44.4982 - val_loss: 2373.4668 - val_mae: 43.9581\n",
      "Epoch 143/500\n",
      "6/6 [==============================] - 0s 53ms/step - loss: 3045.2268 - mae: 44.5312 - val_loss: 2700.6934 - val_mae: 47.4851\n",
      "Epoch 144/500\n",
      "6/6 [==============================] - 0s 54ms/step - loss: 3096.3335 - mae: 45.0466 - val_loss: 2525.8516 - val_mae: 45.6359\n",
      "Epoch 145/500\n",
      "6/6 [==============================] - 0s 54ms/step - loss: 3019.8547 - mae: 44.4744 - val_loss: 1915.9736 - val_mae: 38.5080\n",
      "Epoch 146/500\n",
      "6/6 [==============================] - 0s 54ms/step - loss: 3174.2900 - mae: 46.0008 - val_loss: 1982.1913 - val_mae: 39.3441\n",
      "Epoch 147/500\n",
      "6/6 [==============================] - 0s 53ms/step - loss: 3037.0217 - mae: 44.5976 - val_loss: 2663.2849 - val_mae: 47.1018\n",
      "Epoch 148/500\n",
      "6/6 [==============================] - 0s 54ms/step - loss: 3072.6038 - mae: 44.8911 - val_loss: 2513.6841 - val_mae: 45.5115\n",
      "Epoch 149/500\n",
      "6/6 [==============================] - 0s 54ms/step - loss: 2993.7395 - mae: 44.2805 - val_loss: 2132.8638 - val_mae: 41.1881\n",
      "Epoch 150/500\n",
      "6/6 [==============================] - 0s 55ms/step - loss: 3020.1868 - mae: 44.6895 - val_loss: 2122.1516 - val_mae: 41.0620\n",
      "Epoch 151/500\n",
      "6/6 [==============================] - 0s 54ms/step - loss: 3052.4053 - mae: 44.9902 - val_loss: 2042.7599 - val_mae: 40.1032\n",
      "Epoch 152/500\n",
      "6/6 [==============================] - 0s 54ms/step - loss: 3092.4563 - mae: 45.1935 - val_loss: 2005.6289 - val_mae: 39.6483\n",
      "Epoch 153/500\n",
      "6/6 [==============================] - 0s 54ms/step - loss: 3033.5054 - mae: 44.5777 - val_loss: 2398.6133 - val_mae: 44.2579\n",
      "Epoch 154/500\n",
      "6/6 [==============================] - 0s 54ms/step - loss: 3042.3362 - mae: 44.5057 - val_loss: 2801.2129 - val_mae: 48.5340\n",
      "Epoch 155/500\n",
      "6/6 [==============================] - 0s 53ms/step - loss: 3014.2356 - mae: 44.2921 - val_loss: 2487.4512 - val_mae: 45.2458\n",
      "Epoch 156/500\n",
      "6/6 [==============================] - 0s 55ms/step - loss: 3033.3362 - mae: 44.5943 - val_loss: 2410.3574 - val_mae: 44.3992\n",
      "Epoch 157/500\n",
      "6/6 [==============================] - 0s 53ms/step - loss: 3004.7153 - mae: 44.4036 - val_loss: 2828.0879 - val_mae: 48.8127\n",
      "Epoch 158/500\n",
      "6/6 [==============================] - 0s 54ms/step - loss: 3042.7344 - mae: 44.6698 - val_loss: 2493.9924 - val_mae: 45.3100\n",
      "Epoch 159/500\n",
      "6/6 [==============================] - 0s 54ms/step - loss: 2988.1670 - mae: 44.2290 - val_loss: 2135.8264 - val_mae: 41.2366\n",
      "Epoch 160/500\n",
      "6/6 [==============================] - 0s 54ms/step - loss: 3021.9524 - mae: 44.6672 - val_loss: 2277.6470 - val_mae: 42.8975\n",
      "Epoch 161/500\n",
      "6/6 [==============================] - 0s 54ms/step - loss: 3068.0430 - mae: 44.8363 - val_loss: 2759.1819 - val_mae: 48.1132\n",
      "Epoch 162/500\n",
      "6/6 [==============================] - 0s 54ms/step - loss: 3112.7700 - mae: 45.1876 - val_loss: 2342.3552 - val_mae: 43.6395\n",
      "Epoch 163/500\n",
      "6/6 [==============================] - 0s 55ms/step - loss: 3029.1443 - mae: 44.5791 - val_loss: 2288.5818 - val_mae: 43.0306\n",
      "Epoch 164/500\n",
      "6/6 [==============================] - 0s 55ms/step - loss: 3036.2375 - mae: 44.5663 - val_loss: 2799.8176 - val_mae: 48.5322\n",
      "Epoch 165/500\n",
      "6/6 [==============================] - 0s 54ms/step - loss: 3043.1765 - mae: 44.6731 - val_loss: 2677.3193 - val_mae: 47.2729\n",
      "Epoch 166/500\n",
      "6/6 [==============================] - 0s 54ms/step - loss: 3014.4231 - mae: 44.3795 - val_loss: 2559.2456 - val_mae: 46.0274\n",
      "Epoch 167/500\n",
      "6/6 [==============================] - 0s 54ms/step - loss: 2994.9021 - mae: 44.2411 - val_loss: 2374.6343 - val_mae: 44.0088\n",
      "Epoch 168/500\n",
      "6/6 [==============================] - 0s 54ms/step - loss: 3021.4431 - mae: 44.6069 - val_loss: 2234.3081 - val_mae: 42.4113\n",
      "Epoch 169/500\n",
      "6/6 [==============================] - 0s 59ms/step - loss: 3011.2454 - mae: 44.5510 - val_loss: 2448.2698 - val_mae: 44.8279\n",
      "Epoch 170/500\n",
      "6/6 [==============================] - 0s 53ms/step - loss: 3043.4019 - mae: 44.6724 - val_loss: 2612.9614 - val_mae: 46.6033\n",
      "Epoch 171/500\n",
      "6/6 [==============================] - 0s 54ms/step - loss: 3049.5012 - mae: 44.8838 - val_loss: 2229.1240 - val_mae: 42.3547\n",
      "Epoch 172/500\n",
      "6/6 [==============================] - 0s 53ms/step - loss: 3047.3098 - mae: 44.8842 - val_loss: 2015.8263 - val_mae: 39.8036\n",
      "Epoch 173/500\n",
      "6/6 [==============================] - 0s 54ms/step - loss: 3028.4241 - mae: 44.6831 - val_loss: 2521.7195 - val_mae: 45.6312\n",
      "Epoch 174/500\n",
      "6/6 [==============================] - 0s 55ms/step - loss: 3052.8464 - mae: 44.7648 - val_loss: 3051.2388 - val_mae: 51.0287\n",
      "Epoch 175/500\n",
      "6/6 [==============================] - 0s 54ms/step - loss: 3040.2817 - mae: 44.5728 - val_loss: 2301.6355 - val_mae: 43.1914\n",
      "Epoch 176/500\n",
      "6/6 [==============================] - 0s 53ms/step - loss: 3111.2634 - mae: 45.4887 - val_loss: 2074.6409 - val_mae: 40.5339\n",
      "Epoch 177/500\n"
     ]
    },
    {
     "name": "stdout",
     "output_type": "stream",
     "text": [
      "6/6 [==============================] - 0s 54ms/step - loss: 3042.2925 - mae: 44.8476 - val_loss: 2763.9592 - val_mae: 48.1762\n",
      "Epoch 178/500\n",
      "6/6 [==============================] - ETA: 0s - loss: 3042.5112 - mae: 44.657 - 0s 54ms/step - loss: 3042.3691 - mae: 44.6566 - val_loss: 2674.2117 - val_mae: 47.2498\n",
      "Epoch 179/500\n",
      "6/6 [==============================] - 0s 54ms/step - loss: 3018.6458 - mae: 44.4776 - val_loss: 2231.7368 - val_mae: 42.3893\n",
      "Epoch 180/500\n",
      "6/6 [==============================] - 0s 55ms/step - loss: 3000.8120 - mae: 44.4408 - val_loss: 2202.4202 - val_mae: 42.0494\n",
      "Epoch 181/500\n",
      "6/6 [==============================] - 0s 57ms/step - loss: 3013.1177 - mae: 44.5549 - val_loss: 2468.9922 - val_mae: 45.0634\n",
      "Epoch 182/500\n",
      "6/6 [==============================] - 0s 56ms/step - loss: 3013.4336 - mae: 44.4081 - val_loss: 2711.3577 - val_mae: 47.6396\n",
      "Epoch 183/500\n",
      "6/6 [==============================] - 0s 56ms/step - loss: 3051.3965 - mae: 44.7951 - val_loss: 2566.1394 - val_mae: 46.1148\n",
      "Epoch 184/500\n",
      "6/6 [==============================] - 0s 56ms/step - loss: 2992.9653 - mae: 44.2933 - val_loss: 2277.6279 - val_mae: 42.9250\n",
      "Epoch 185/500\n",
      "6/6 [==============================] - 0s 55ms/step - loss: 2993.6460 - mae: 44.2992 - val_loss: 2212.9238 - val_mae: 42.1776\n",
      "Epoch 186/500\n",
      "6/6 [==============================] - 0s 54ms/step - loss: 2977.7786 - mae: 44.3244 - val_loss: 2560.9680 - val_mae: 46.0631\n",
      "Epoch 187/500\n",
      "6/6 [==============================] - 0s 54ms/step - loss: 3030.1663 - mae: 44.7362 - val_loss: 2572.5305 - val_mae: 46.1844\n",
      "Epoch 188/500\n",
      "6/6 [==============================] - 0s 55ms/step - loss: 3014.0132 - mae: 44.6721 - val_loss: 2532.2502 - val_mae: 45.7550\n",
      "Epoch 189/500\n",
      "6/6 [==============================] - 0s 55ms/step - loss: 2994.9712 - mae: 44.5183 - val_loss: 2707.8899 - val_mae: 47.6134\n",
      "Epoch 190/500\n",
      "6/6 [==============================] - 0s 54ms/step - loss: 3021.1582 - mae: 44.5996 - val_loss: 2309.7607 - val_mae: 43.3028\n",
      "Epoch 191/500\n",
      "6/6 [==============================] - 0s 55ms/step - loss: 3026.8206 - mae: 44.8208 - val_loss: 2142.4773 - val_mae: 41.3609\n",
      "Epoch 192/500\n",
      "6/6 [==============================] - 0s 55ms/step - loss: 2990.5601 - mae: 44.3737 - val_loss: 2755.4497 - val_mae: 48.1061\n",
      "Epoch 193/500\n",
      "6/6 [==============================] - 0s 54ms/step - loss: 3047.1013 - mae: 44.7573 - val_loss: 2499.3235 - val_mae: 45.4085\n",
      "Epoch 194/500\n",
      "6/6 [==============================] - 0s 53ms/step - loss: 3010.1812 - mae: 44.4711 - val_loss: 2046.3292 - val_mae: 40.2026\n",
      "Epoch 195/500\n",
      "6/6 [==============================] - 0s 53ms/step - loss: 3023.1392 - mae: 44.5878 - val_loss: 2248.0505 - val_mae: 42.5990\n",
      "Epoch 196/500\n",
      "6/6 [==============================] - 0s 53ms/step - loss: 3026.5132 - mae: 44.5619 - val_loss: 2306.4905 - val_mae: 43.2700\n",
      "Epoch 197/500\n",
      "6/6 [==============================] - 0s 53ms/step - loss: 2984.3850 - mae: 44.2089 - val_loss: 2118.2554 - val_mae: 41.0760\n",
      "Epoch 198/500\n",
      "6/6 [==============================] - 0s 54ms/step - loss: 3002.5327 - mae: 44.4101 - val_loss: 2240.9104 - val_mae: 42.5201\n",
      "Epoch 199/500\n",
      "6/6 [==============================] - 0s 55ms/step - loss: 3004.3796 - mae: 44.3378 - val_loss: 2759.9438 - val_mae: 48.1560\n",
      "Epoch 200/500\n",
      "6/6 [==============================] - 0s 55ms/step - loss: 3019.1299 - mae: 44.5229 - val_loss: 2654.8643 - val_mae: 47.0693\n",
      "Epoch 201/500\n",
      "6/6 [==============================] - 0s 54ms/step - loss: 2965.3865 - mae: 44.0202 - val_loss: 2376.5105 - val_mae: 44.0627\n",
      "Epoch 202/500\n",
      "6/6 [==============================] - 0s 58ms/step - loss: 2986.1465 - mae: 44.1649 - val_loss: 2656.9373 - val_mae: 47.0935\n",
      "Epoch 203/500\n",
      "6/6 [==============================] - 0s 54ms/step - loss: 3006.6948 - mae: 44.2850 - val_loss: 2280.0481 - val_mae: 42.9756\n",
      "Epoch 204/500\n",
      "6/6 [==============================] - 0s 56ms/step - loss: 2974.7734 - mae: 44.2050 - val_loss: 2279.6301 - val_mae: 42.9707\n",
      "Epoch 205/500\n",
      "6/6 [==============================] - 0s 55ms/step - loss: 2954.4431 - mae: 43.9520 - val_loss: 2714.8799 - val_mae: 47.6964\n",
      "Epoch 206/500\n",
      "6/6 [==============================] - 0s 55ms/step - loss: 3004.2642 - mae: 44.3069 - val_loss: 2400.7786 - val_mae: 44.3374\n",
      "Epoch 207/500\n",
      "6/6 [==============================] - 0s 54ms/step - loss: 3039.3896 - mae: 44.9113 - val_loss: 1862.1898 - val_mae: 37.9039\n",
      "Epoch 208/500\n",
      "6/6 [==============================] - 0s 54ms/step - loss: 3042.1099 - mae: 44.9208 - val_loss: 2486.0540 - val_mae: 45.2758\n",
      "Epoch 209/500\n",
      "6/6 [==============================] - 0s 54ms/step - loss: 2985.5063 - mae: 44.3073 - val_loss: 2730.4497 - val_mae: 47.8595\n",
      "Epoch 210/500\n",
      "6/6 [==============================] - 0s 55ms/step - loss: 3003.1499 - mae: 44.4732 - val_loss: 2622.9001 - val_mae: 46.7405\n",
      "Epoch 211/500\n",
      "6/6 [==============================] - 0s 54ms/step - loss: 3000.1079 - mae: 44.5151 - val_loss: 2281.6462 - val_mae: 42.9978\n",
      "Epoch 212/500\n",
      "6/6 [==============================] - 0s 54ms/step - loss: 2997.6848 - mae: 44.5697 - val_loss: 2448.6301 - val_mae: 44.8681\n",
      "Epoch 213/500\n",
      "6/6 [==============================] - 0s 55ms/step - loss: 3072.4248 - mae: 45.0969 - val_loss: 3313.3320 - val_mae: 53.5185\n",
      "Epoch 214/500\n",
      "6/6 [==============================] - 0s 54ms/step - loss: 3141.8296 - mae: 45.8458 - val_loss: 2789.6616 - val_mae: 48.4554\n",
      "Epoch 215/500\n",
      "6/6 [==============================] - 0s 55ms/step - loss: 3014.3081 - mae: 44.5784 - val_loss: 2155.6519 - val_mae: 41.5202\n",
      "Epoch 216/500\n",
      "6/6 [==============================] - 0s 55ms/step - loss: 2975.4712 - mae: 44.3070 - val_loss: 2256.6914 - val_mae: 42.7003\n",
      "Epoch 217/500\n",
      "6/6 [==============================] - 0s 54ms/step - loss: 2940.6006 - mae: 43.8853 - val_loss: 2420.5474 - val_mae: 44.5491\n",
      "Epoch 218/500\n",
      "6/6 [==============================] - 0s 53ms/step - loss: 2980.1362 - mae: 44.1439 - val_loss: 2322.7053 - val_mae: 43.4562\n",
      "Epoch 219/500\n",
      "6/6 [==============================] - 0s 54ms/step - loss: 2991.2117 - mae: 44.2501 - val_loss: 2407.6350 - val_mae: 44.4092\n",
      "Epoch 220/500\n",
      "6/6 [==============================] - 0s 53ms/step - loss: 2944.9253 - mae: 43.8910 - val_loss: 2458.2490 - val_mae: 44.9678\n",
      "Epoch 221/500\n",
      "6/6 [==============================] - 0s 54ms/step - loss: 2982.0654 - mae: 44.2568 - val_loss: 2669.7520 - val_mae: 47.2273\n",
      "Epoch 222/500\n",
      "6/6 [==============================] - 0s 53ms/step - loss: 2995.9912 - mae: 44.2475 - val_loss: 2554.7915 - val_mae: 46.0143\n",
      "Epoch 223/500\n",
      "6/6 [==============================] - 0s 54ms/step - loss: 2978.5276 - mae: 44.1438 - val_loss: 2241.2515 - val_mae: 42.5295\n",
      "Epoch 224/500\n",
      "6/6 [==============================] - 0s 53ms/step - loss: 2983.0195 - mae: 44.2683 - val_loss: 2293.3169 - val_mae: 43.1284\n",
      "Epoch 225/500\n",
      "6/6 [==============================] - 0s 54ms/step - loss: 2963.3315 - mae: 44.0602 - val_loss: 2562.7073 - val_mae: 46.1009\n",
      "Epoch 226/500\n",
      "6/6 [==============================] - 0s 54ms/step - loss: 2971.4451 - mae: 44.0063 - val_loss: 2448.7368 - val_mae: 44.8685\n",
      "Epoch 227/500\n",
      "6/6 [==============================] - 0s 54ms/step - loss: 2952.0574 - mae: 43.9746 - val_loss: 2308.0364 - val_mae: 43.2987\n",
      "Epoch 228/500\n",
      "6/6 [==============================] - 0s 54ms/step - loss: 2954.8184 - mae: 44.0996 - val_loss: 2165.0720 - val_mae: 41.6411\n",
      "Epoch 229/500\n",
      "6/6 [==============================] - 0s 55ms/step - loss: 2998.5950 - mae: 44.5815 - val_loss: 2364.7666 - val_mae: 43.9380\n",
      "Epoch 230/500\n",
      "6/6 [==============================] - 0s 54ms/step - loss: 2954.6633 - mae: 43.9476 - val_loss: 2751.9146 - val_mae: 48.0793\n",
      "Epoch 231/500\n",
      "6/6 [==============================] - 0s 54ms/step - loss: 3000.3191 - mae: 44.4028 - val_loss: 2692.2720 - val_mae: 47.4694\n",
      "Epoch 232/500\n",
      "6/6 [==============================] - 0s 55ms/step - loss: 2980.5027 - mae: 44.0997 - val_loss: 2489.9275 - val_mae: 45.3233\n",
      "Epoch 233/500\n",
      "6/6 [==============================] - 0s 54ms/step - loss: 2979.5889 - mae: 44.1643 - val_loss: 2195.7468 - val_mae: 42.0095\n",
      "Epoch 234/500\n",
      "6/6 [==============================] - 0s 55ms/step - loss: 2960.3833 - mae: 44.0821 - val_loss: 2433.3301 - val_mae: 44.7063\n",
      "Epoch 235/500\n"
     ]
    },
    {
     "name": "stdout",
     "output_type": "stream",
     "text": [
      "6/6 [==============================] - 0s 55ms/step - loss: 2950.7002 - mae: 43.9673 - val_loss: 2726.3286 - val_mae: 47.8247\n",
      "Epoch 236/500\n",
      "6/6 [==============================] - 0s 56ms/step - loss: 2982.3127 - mae: 44.1991 - val_loss: 2484.3496 - val_mae: 45.2667\n",
      "Epoch 237/500\n",
      "6/6 [==============================] - 0s 53ms/step - loss: 2967.3765 - mae: 44.2050 - val_loss: 2279.1594 - val_mae: 42.9759\n",
      "Epoch 238/500\n",
      "6/6 [==============================] - 0s 54ms/step - loss: 3001.4216 - mae: 44.4834 - val_loss: 2395.0020 - val_mae: 44.2827\n",
      "Epoch 239/500\n",
      "6/6 [==============================] - 0s 55ms/step - loss: 2978.8037 - mae: 44.2436 - val_loss: 2963.0332 - val_mae: 50.2049\n",
      "Epoch 240/500\n",
      "6/6 [==============================] - 0s 54ms/step - loss: 3095.1245 - mae: 45.3089 - val_loss: 2897.6560 - val_mae: 49.5588\n",
      "Epoch 241/500\n",
      "6/6 [==============================] - 0s 54ms/step - loss: 2965.0735 - mae: 44.0717 - val_loss: 2143.3091 - val_mae: 41.3953\n",
      "Epoch 242/500\n",
      "6/6 [==============================] - 0s 54ms/step - loss: 3012.8901 - mae: 44.5653 - val_loss: 1985.7107 - val_mae: 39.4810\n",
      "Epoch 243/500\n",
      "6/6 [==============================] - 0s 54ms/step - loss: 2958.9866 - mae: 44.0109 - val_loss: 2475.3950 - val_mae: 45.1676\n",
      "Epoch 244/500\n",
      "6/6 [==============================] - 0s 53ms/step - loss: 2988.1416 - mae: 44.3028 - val_loss: 2743.9778 - val_mae: 48.0044\n",
      "Epoch 245/500\n",
      "6/6 [==============================] - 0s 54ms/step - loss: 2982.1572 - mae: 44.1932 - val_loss: 2141.5457 - val_mae: 41.3717\n",
      "Epoch 246/500\n",
      "6/6 [==============================] - 0s 53ms/step - loss: 2973.7913 - mae: 44.3609 - val_loss: 2016.1508 - val_mae: 39.8554\n",
      "Epoch 247/500\n",
      "6/6 [==============================] - 0s 54ms/step - loss: 3000.0540 - mae: 44.5563 - val_loss: 2430.3694 - val_mae: 44.6738\n",
      "Epoch 248/500\n",
      "6/6 [==============================] - 0s 53ms/step - loss: 2948.8477 - mae: 43.9272 - val_loss: 2507.0525 - val_mae: 45.5109\n",
      "Epoch 249/500\n",
      "6/6 [==============================] - 0s 54ms/step - loss: 2970.3159 - mae: 44.2224 - val_loss: 2313.4548 - val_mae: 43.3632\n",
      "Epoch 250/500\n",
      "6/6 [==============================] - 0s 53ms/step - loss: 2958.8755 - mae: 44.1598 - val_loss: 2390.5923 - val_mae: 44.2309\n",
      "Epoch 251/500\n",
      "6/6 [==============================] - 0s 53ms/step - loss: 2959.8423 - mae: 44.0595 - val_loss: 2540.8462 - val_mae: 45.8751\n",
      "Epoch 252/500\n",
      "6/6 [==============================] - 0s 54ms/step - loss: 2957.6819 - mae: 44.0640 - val_loss: 2290.1206 - val_mae: 43.1179\n",
      "Epoch 253/500\n",
      "6/6 [==============================] - 0s 53ms/step - loss: 2992.6655 - mae: 44.3793 - val_loss: 2250.3315 - val_mae: 42.6619\n",
      "Epoch 254/500\n",
      "6/6 [==============================] - 0s 55ms/step - loss: 2929.2788 - mae: 43.8004 - val_loss: 2579.7634 - val_mae: 46.3062\n",
      "Epoch 255/500\n",
      "6/6 [==============================] - 0s 54ms/step - loss: 2981.7246 - mae: 44.1804 - val_loss: 2811.0242 - val_mae: 48.7026\n",
      "Epoch 256/500\n",
      "6/6 [==============================] - 0s 55ms/step - loss: 3006.8462 - mae: 44.4055 - val_loss: 2641.1265 - val_mae: 46.9566\n",
      "Epoch 257/500\n",
      "6/6 [==============================] - 0s 55ms/step - loss: 2950.7615 - mae: 43.9413 - val_loss: 2264.3142 - val_mae: 42.8276\n",
      "Epoch 258/500\n",
      "6/6 [==============================] - 0s 53ms/step - loss: 2966.6807 - mae: 44.1847 - val_loss: 2396.4619 - val_mae: 44.3206\n",
      "Epoch 259/500\n",
      "6/6 [==============================] - 0s 54ms/step - loss: 2968.6567 - mae: 44.2110 - val_loss: 2593.3792 - val_mae: 46.4495\n",
      "Epoch 260/500\n",
      "6/6 [==============================] - ETA: 0s - loss: 2931.4998 - mae: 43.802 - 0s 54ms/step - loss: 2931.4321 - mae: 43.8022 - val_loss: 2530.2354 - val_mae: 45.7718\n",
      "Epoch 261/500\n",
      "6/6 [==============================] - 0s 55ms/step - loss: 2962.4146 - mae: 44.0515 - val_loss: 2561.9741 - val_mae: 46.1124\n",
      "Epoch 262/500\n",
      "6/6 [==============================] - 0s 54ms/step - loss: 3017.9351 - mae: 44.6288 - val_loss: 3139.1736 - val_mae: 51.9072\n",
      "Epoch 263/500\n",
      "6/6 [==============================] - 0s 55ms/step - loss: 3021.5337 - mae: 44.6429 - val_loss: 2544.7244 - val_mae: 45.9368\n",
      "Epoch 264/500\n",
      "6/6 [==============================] - 0s 55ms/step - loss: 2958.7783 - mae: 44.0968 - val_loss: 2486.4341 - val_mae: 45.3089\n",
      "Epoch 265/500\n",
      "6/6 [==============================] - 0s 56ms/step - loss: 3009.9937 - mae: 44.5913 - val_loss: 3359.6658 - val_mae: 53.9595\n",
      "Epoch 266/500\n",
      "6/6 [==============================] - 0s 55ms/step - loss: 3121.2949 - mae: 45.7650 - val_loss: 2914.0002 - val_mae: 49.7259\n",
      "Epoch 267/500\n",
      "6/6 [==============================] - 0s 55ms/step - loss: 3008.6360 - mae: 44.6309 - val_loss: 2277.7910 - val_mae: 42.9720\n",
      "Epoch 268/500\n",
      "6/6 [==============================] - 0s 55ms/step - loss: 2949.0557 - mae: 44.1037 - val_loss: 2503.1538 - val_mae: 45.4747\n",
      "Epoch 269/500\n",
      "6/6 [==============================] - 0s 55ms/step - loss: 2942.1074 - mae: 43.9623 - val_loss: 2736.8870 - val_mae: 47.9364\n",
      "Epoch 270/500\n",
      "6/6 [==============================] - 0s 55ms/step - loss: 2927.7781 - mae: 43.7970 - val_loss: 2479.8840 - val_mae: 45.2234\n",
      "Epoch 271/500\n",
      "6/6 [==============================] - 0s 54ms/step - loss: 2949.6328 - mae: 43.9579 - val_loss: 2222.7212 - val_mae: 42.3356\n",
      "Epoch 272/500\n",
      "6/6 [==============================] - 0s 54ms/step - loss: 2975.0164 - mae: 44.3230 - val_loss: 2192.9626 - val_mae: 41.9888\n",
      "Epoch 273/500\n",
      "6/6 [==============================] - 0s 54ms/step - loss: 2964.8096 - mae: 44.2206 - val_loss: 2151.3228 - val_mae: 41.4991\n",
      "Epoch 274/500\n",
      "6/6 [==============================] - 0s 56ms/step - loss: 2987.9021 - mae: 44.5247 - val_loss: 2331.5803 - val_mae: 43.5836\n",
      "Epoch 275/500\n",
      "6/6 [==============================] - 0s 56ms/step - loss: 2929.7939 - mae: 43.8469 - val_loss: 2691.4272 - val_mae: 47.4732\n",
      "Epoch 276/500\n",
      "6/6 [==============================] - 0s 55ms/step - loss: 2988.0564 - mae: 44.3202 - val_loss: 3018.4390 - val_mae: 50.7496\n",
      "Epoch 277/500\n",
      "6/6 [==============================] - 0s 53ms/step - loss: 3102.3379 - mae: 45.4608 - val_loss: 2800.3933 - val_mae: 48.5871\n",
      "Epoch 278/500\n",
      "6/6 [==============================] - 0s 55ms/step - loss: 3007.3025 - mae: 44.5488 - val_loss: 2050.9365 - val_mae: 40.2927\n",
      "Epoch 279/500\n",
      "6/6 [==============================] - 0s 54ms/step - loss: 3033.5764 - mae: 44.8778 - val_loss: 1946.7872 - val_mae: 39.0048\n",
      "Epoch 280/500\n",
      "6/6 [==============================] - 0s 55ms/step - loss: 2968.0935 - mae: 44.3286 - val_loss: 2485.3811 - val_mae: 45.2852\n",
      "Epoch 281/500\n",
      "6/6 [==============================] - 0s 54ms/step - loss: 2948.7407 - mae: 43.8889 - val_loss: 2645.5027 - val_mae: 46.9935\n",
      "Epoch 282/500\n",
      "6/6 [==============================] - 0s 55ms/step - loss: 2986.3267 - mae: 44.2132 - val_loss: 2366.3135 - val_mae: 43.9753\n",
      "Epoch 283/500\n",
      "6/6 [==============================] - 0s 55ms/step - loss: 2937.5505 - mae: 43.9587 - val_loss: 2368.5100 - val_mae: 44.0102\n",
      "Epoch 284/500\n",
      "6/6 [==============================] - 0s 54ms/step - loss: 2960.7993 - mae: 44.2995 - val_loss: 2422.4722 - val_mae: 44.6022\n",
      "Epoch 285/500\n",
      "6/6 [==============================] - 0s 55ms/step - loss: 2935.4668 - mae: 43.9340 - val_loss: 2406.7751 - val_mae: 44.4300\n",
      "Epoch 286/500\n",
      "6/6 [==============================] - 0s 54ms/step - loss: 2963.6389 - mae: 44.2898 - val_loss: 2160.7178 - val_mae: 41.6198\n",
      "Epoch 287/500\n",
      "6/6 [==============================] - 0s 53ms/step - loss: 2895.1858 - mae: 43.6934 - val_loss: 2558.3611 - val_mae: 46.0795\n",
      "Epoch 288/500\n",
      "6/6 [==============================] - 0s 54ms/step - loss: 2941.0107 - mae: 43.9445 - val_loss: 2395.7668 - val_mae: 44.3104\n",
      "Epoch 289/500\n",
      "6/6 [==============================] - 0s 54ms/step - loss: 2952.3455 - mae: 44.1714 - val_loss: 2149.3955 - val_mae: 41.4870\n",
      "Epoch 290/500\n",
      "6/6 [==============================] - 0s 54ms/step - loss: 2963.2351 - mae: 44.1488 - val_loss: 2546.1582 - val_mae: 45.9500\n",
      "Epoch 291/500\n",
      "6/6 [==============================] - 0s 55ms/step - loss: 2877.2451 - mae: 43.4105 - val_loss: 2414.1680 - val_mae: 44.5154\n",
      "Epoch 292/500\n",
      "6/6 [==============================] - 0s 54ms/step - loss: 2907.6973 - mae: 43.7568 - val_loss: 2424.3840 - val_mae: 44.6440\n",
      "Epoch 293/500\n"
     ]
    },
    {
     "name": "stdout",
     "output_type": "stream",
     "text": [
      "6/6 [==============================] - 0s 54ms/step - loss: 2938.1409 - mae: 43.9513 - val_loss: 2424.7156 - val_mae: 44.6487\n",
      "Epoch 294/500\n",
      "6/6 [==============================] - 0s 53ms/step - loss: 2990.7937 - mae: 44.5201 - val_loss: 3014.1926 - val_mae: 50.7305\n",
      "Epoch 295/500\n",
      "6/6 [==============================] - 0s 54ms/step - loss: 3008.1711 - mae: 44.5391 - val_loss: 2322.7783 - val_mae: 43.5115\n",
      "Epoch 296/500\n",
      "6/6 [==============================] - 0s 54ms/step - loss: 2960.6565 - mae: 44.0723 - val_loss: 1774.2740 - val_mae: 36.8113\n",
      "Epoch 297/500\n",
      "6/6 [==============================] - 0s 54ms/step - loss: 3038.6631 - mae: 44.8020 - val_loss: 2213.1895 - val_mae: 42.2562\n",
      "Epoch 298/500\n",
      "6/6 [==============================] - 0s 54ms/step - loss: 2992.7996 - mae: 44.4061 - val_loss: 3365.0757 - val_mae: 54.0137\n",
      "Epoch 299/500\n",
      "6/6 [==============================] - 0s 55ms/step - loss: 3137.1824 - mae: 46.0398 - val_loss: 3185.4978 - val_mae: 52.3491\n",
      "Epoch 300/500\n",
      "6/6 [==============================] - 0s 55ms/step - loss: 3058.7952 - mae: 45.0854 - val_loss: 2718.8228 - val_mae: 47.7487\n",
      "Epoch 301/500\n",
      "6/6 [==============================] - 0s 54ms/step - loss: 2958.0002 - mae: 44.3490 - val_loss: 2066.3755 - val_mae: 40.4799\n",
      "Epoch 302/500\n",
      "6/6 [==============================] - 0s 55ms/step - loss: 3021.1436 - mae: 45.0211 - val_loss: 2324.6006 - val_mae: 43.4980\n",
      "Epoch 303/500\n",
      "6/6 [==============================] - 0s 54ms/step - loss: 2906.7458 - mae: 43.7844 - val_loss: 2540.4465 - val_mae: 45.8837\n",
      "Epoch 304/500\n",
      "6/6 [==============================] - 0s 55ms/step - loss: 2915.4875 - mae: 43.7090 - val_loss: 2450.7576 - val_mae: 44.9130\n",
      "Epoch 305/500\n",
      "6/6 [==============================] - 0s 55ms/step - loss: 2909.5503 - mae: 43.8027 - val_loss: 2173.4702 - val_mae: 41.7689\n",
      "Epoch 306/500\n",
      "6/6 [==============================] - 0s 54ms/step - loss: 2934.4558 - mae: 43.9642 - val_loss: 2443.7915 - val_mae: 44.8390\n",
      "Epoch 307/500\n",
      "6/6 [==============================] - 0s 54ms/step - loss: 2930.0791 - mae: 43.8123 - val_loss: 2404.9209 - val_mae: 44.4127\n",
      "Epoch 308/500\n",
      "6/6 [==============================] - 0s 54ms/step - loss: 2938.2788 - mae: 43.9112 - val_loss: 2178.0671 - val_mae: 41.8451\n",
      "Epoch 309/500\n",
      "6/6 [==============================] - 0s 54ms/step - loss: 2939.8955 - mae: 44.0212 - val_loss: 2179.9214 - val_mae: 41.8697\n",
      "Epoch 310/500\n",
      "6/6 [==============================] - 0s 54ms/step - loss: 2929.9675 - mae: 43.8396 - val_loss: 2528.8491 - val_mae: 45.7860\n",
      "Epoch 311/500\n",
      "6/6 [==============================] - 0s 54ms/step - loss: 2922.6958 - mae: 43.6368 - val_loss: 2487.2876 - val_mae: 45.3383\n",
      "Epoch 312/500\n",
      "6/6 [==============================] - 0s 54ms/step - loss: 2941.6594 - mae: 44.0026 - val_loss: 2462.1360 - val_mae: 45.0654\n",
      "Epoch 313/500\n",
      "6/6 [==============================] - 0s 53ms/step - loss: 2909.1799 - mae: 43.6406 - val_loss: 2409.6824 - val_mae: 44.4895\n",
      "Epoch 314/500\n",
      "6/6 [==============================] - 0s 53ms/step - loss: 2908.3525 - mae: 43.7368 - val_loss: 2587.5879 - val_mae: 46.3988\n",
      "Epoch 315/500\n",
      "6/6 [==============================] - 0s 55ms/step - loss: 2907.5532 - mae: 43.6670 - val_loss: 2462.7092 - val_mae: 45.0708\n",
      "Epoch 316/500\n",
      "6/6 [==============================] - 0s 55ms/step - loss: 2918.3574 - mae: 44.0282 - val_loss: 2135.2039 - val_mae: 41.3407\n",
      "Epoch 317/500\n",
      "6/6 [==============================] - 0s 55ms/step - loss: 2941.9473 - mae: 44.2091 - val_loss: 2430.3262 - val_mae: 44.7128\n",
      "Epoch 318/500\n",
      "6/6 [==============================] - 0s 55ms/step - loss: 2914.5127 - mae: 43.7628 - val_loss: 2491.9514 - val_mae: 45.3852\n",
      "Epoch 319/500\n",
      "6/6 [==============================] - 0s 54ms/step - loss: 2899.2849 - mae: 43.7933 - val_loss: 2454.4365 - val_mae: 44.9774\n",
      "Epoch 320/500\n",
      "6/6 [==============================] - 0s 54ms/step - loss: 2942.2388 - mae: 44.1680 - val_loss: 2417.9148 - val_mae: 44.5763\n",
      "Epoch 321/500\n",
      "6/6 [==============================] - 0s 53ms/step - loss: 2929.4763 - mae: 43.9277 - val_loss: 2291.4321 - val_mae: 43.1592\n",
      "Epoch 322/500\n",
      "6/6 [==============================] - 0s 54ms/step - loss: 2908.6201 - mae: 43.8167 - val_loss: 2463.1145 - val_mae: 45.0729\n",
      "Epoch 323/500\n",
      "6/6 [==============================] - 0s 54ms/step - loss: 2957.7173 - mae: 44.1656 - val_loss: 3083.9717 - val_mae: 51.3950\n",
      "Epoch 324/500\n",
      "6/6 [==============================] - 0s 54ms/step - loss: 2988.7947 - mae: 44.4042 - val_loss: 2692.9709 - val_mae: 47.5042\n",
      "Epoch 325/500\n",
      "6/6 [==============================] - 0s 54ms/step - loss: 2891.4688 - mae: 43.4725 - val_loss: 2257.1216 - val_mae: 42.7542\n",
      "Epoch 326/500\n",
      "6/6 [==============================] - 0s 54ms/step - loss: 2940.9136 - mae: 44.1405 - val_loss: 2110.8997 - val_mae: 41.0552\n",
      "Epoch 327/500\n",
      "6/6 [==============================] - 0s 54ms/step - loss: 2920.7278 - mae: 43.9141 - val_loss: 2221.8779 - val_mae: 42.3684\n",
      "Epoch 328/500\n",
      "6/6 [==============================] - 0s 54ms/step - loss: 2906.3767 - mae: 43.7684 - val_loss: 2226.3333 - val_mae: 42.4162\n",
      "Epoch 329/500\n",
      "6/6 [==============================] - 0s 53ms/step - loss: 2922.8706 - mae: 43.8000 - val_loss: 2419.3525 - val_mae: 44.5885\n",
      "Epoch 330/500\n",
      "6/6 [==============================] - 0s 53ms/step - loss: 2928.5039 - mae: 43.7664 - val_loss: 2803.9297 - val_mae: 48.6461\n",
      "Epoch 331/500\n",
      "6/6 [==============================] - 0s 54ms/step - loss: 2921.6428 - mae: 43.8000 - val_loss: 2602.9675 - val_mae: 46.5709\n",
      "Epoch 332/500\n",
      "6/6 [==============================] - 0s 55ms/step - loss: 2887.7534 - mae: 43.4873 - val_loss: 2114.5186 - val_mae: 41.0942\n",
      "Epoch 333/500\n",
      "6/6 [==============================] - 0s 54ms/step - loss: 2914.6545 - mae: 43.8641 - val_loss: 2211.7507 - val_mae: 42.2416\n",
      "Epoch 334/500\n",
      "6/6 [==============================] - 0s 55ms/step - loss: 2900.1597 - mae: 43.6006 - val_loss: 2632.2429 - val_mae: 46.8837\n",
      "Epoch 335/500\n",
      "6/6 [==============================] - 0s 54ms/step - loss: 2914.7178 - mae: 43.7329 - val_loss: 2695.5620 - val_mae: 47.5459\n",
      "Epoch 336/500\n",
      "6/6 [==============================] - 0s 55ms/step - loss: 2867.8201 - mae: 43.3640 - val_loss: 2391.6501 - val_mae: 44.2926\n",
      "Epoch 337/500\n",
      "6/6 [==============================] - 0s 54ms/step - loss: 2858.8628 - mae: 43.2706 - val_loss: 2370.0762 - val_mae: 44.0534\n",
      "Epoch 338/500\n",
      "6/6 [==============================] - 0s 54ms/step - loss: 2876.3870 - mae: 43.4252 - val_loss: 2500.9434 - val_mae: 45.4908\n",
      "Epoch 339/500\n",
      "6/6 [==============================] - 0s 54ms/step - loss: 2897.5361 - mae: 43.5980 - val_loss: 2434.2922 - val_mae: 44.7651\n",
      "Epoch 340/500\n",
      "6/6 [==============================] - 0s 54ms/step - loss: 2895.0293 - mae: 43.5619 - val_loss: 2451.0273 - val_mae: 44.9494\n",
      "Epoch 341/500\n",
      "6/6 [==============================] - 0s 55ms/step - loss: 2893.3157 - mae: 43.5625 - val_loss: 2520.7651 - val_mae: 45.7074\n",
      "Epoch 342/500\n",
      "6/6 [==============================] - 0s 54ms/step - loss: 2880.2429 - mae: 43.4959 - val_loss: 2514.4600 - val_mae: 45.6412\n",
      "Epoch 343/500\n",
      "6/6 [==============================] - 0s 54ms/step - loss: 2882.6667 - mae: 43.5326 - val_loss: 2591.5945 - val_mae: 46.4671\n",
      "Epoch 344/500\n",
      "6/6 [==============================] - 0s 54ms/step - loss: 2912.8623 - mae: 43.7844 - val_loss: 2420.6619 - val_mae: 44.6243\n",
      "Epoch 345/500\n",
      "6/6 [==============================] - 0s 53ms/step - loss: 2924.4302 - mae: 43.9570 - val_loss: 2221.5278 - val_mae: 42.3763\n",
      "Epoch 346/500\n",
      "6/6 [==============================] - 0s 54ms/step - loss: 2894.1426 - mae: 43.7247 - val_loss: 2600.7827 - val_mae: 46.5691\n",
      "Epoch 347/500\n",
      "6/6 [==============================] - 0s 53ms/step - loss: 2869.4324 - mae: 43.3685 - val_loss: 2419.0347 - val_mae: 44.6100\n",
      "Epoch 348/500\n",
      "6/6 [==============================] - 0s 54ms/step - loss: 2880.5024 - mae: 43.5936 - val_loss: 2148.4351 - val_mae: 41.5226\n",
      "Epoch 349/500\n",
      "6/6 [==============================] - 0s 53ms/step - loss: 2911.6926 - mae: 43.9165 - val_loss: 2247.8208 - val_mae: 42.6840\n",
      "Epoch 350/500\n",
      "6/6 [==============================] - 0s 54ms/step - loss: 2884.1182 - mae: 43.5937 - val_loss: 2333.7393 - val_mae: 43.6642\n",
      "Epoch 351/500\n"
     ]
    },
    {
     "name": "stdout",
     "output_type": "stream",
     "text": [
      "6/6 [==============================] - 0s 54ms/step - loss: 2894.9934 - mae: 43.7123 - val_loss: 2098.1646 - val_mae: 40.9311\n",
      "Epoch 352/500\n",
      "6/6 [==============================] - 0s 54ms/step - loss: 2915.1008 - mae: 43.9227 - val_loss: 2189.5195 - val_mae: 42.0156\n",
      "Epoch 353/500\n",
      "6/6 [==============================] - 0s 55ms/step - loss: 2899.5518 - mae: 43.6099 - val_loss: 2337.4097 - val_mae: 43.7249\n",
      "Epoch 354/500\n",
      "6/6 [==============================] - 0s 54ms/step - loss: 2884.0686 - mae: 43.5156 - val_loss: 2344.6221 - val_mae: 43.8181\n",
      "Epoch 355/500\n",
      "6/6 [==============================] - 0s 55ms/step - loss: 2876.8003 - mae: 43.3772 - val_loss: 2419.0967 - val_mae: 44.6477\n",
      "Epoch 356/500\n",
      "6/6 [==============================] - 0s 55ms/step - loss: 2880.0857 - mae: 43.4945 - val_loss: 2394.3430 - val_mae: 44.3748\n",
      "Epoch 357/500\n",
      "6/6 [==============================] - 0s 55ms/step - loss: 2896.0325 - mae: 43.6047 - val_loss: 2219.3018 - val_mae: 42.3940\n",
      "Epoch 358/500\n",
      "6/6 [==============================] - 0s 54ms/step - loss: 2888.0369 - mae: 43.6098 - val_loss: 2274.4836 - val_mae: 43.0297\n",
      "Epoch 359/500\n",
      "6/6 [==============================] - 0s 54ms/step - loss: 2873.7566 - mae: 43.4892 - val_loss: 2644.5505 - val_mae: 47.0580\n",
      "Epoch 360/500\n",
      "6/6 [==============================] - 0s 53ms/step - loss: 2884.8433 - mae: 43.4479 - val_loss: 2636.4199 - val_mae: 46.9648\n",
      "Epoch 361/500\n",
      "6/6 [==============================] - 0s 53ms/step - loss: 2870.7751 - mae: 43.3382 - val_loss: 2466.4434 - val_mae: 45.1533\n",
      "Epoch 362/500\n",
      "6/6 [==============================] - 0s 53ms/step - loss: 2863.9810 - mae: 43.4077 - val_loss: 2253.2148 - val_mae: 42.7879\n",
      "Epoch 363/500\n",
      "6/6 [==============================] - 0s 55ms/step - loss: 2909.5505 - mae: 43.8815 - val_loss: 1813.2452 - val_mae: 37.4104\n",
      "Epoch 364/500\n",
      "6/6 [==============================] - 0s 54ms/step - loss: 2984.7258 - mae: 44.5390 - val_loss: 2168.6006 - val_mae: 41.8114\n",
      "Epoch 365/500\n",
      "6/6 [==============================] - ETA: 0s - loss: 2922.7349 - mae: 43.732 - 0s 54ms/step - loss: 2922.6296 - mae: 43.7311 - val_loss: 2641.8809 - val_mae: 47.0463\n",
      "Epoch 366/500\n",
      "6/6 [==============================] - 0s 55ms/step - loss: 2892.2070 - mae: 43.6160 - val_loss: 2360.9780 - val_mae: 43.9929\n",
      "Epoch 367/500\n",
      "6/6 [==============================] - 0s 54ms/step - loss: 2910.1255 - mae: 43.6499 - val_loss: 2104.6711 - val_mae: 41.0282\n",
      "Epoch 368/500\n",
      "6/6 [==============================] - 0s 54ms/step - loss: 2900.0500 - mae: 43.6776 - val_loss: 2227.9089 - val_mae: 42.4781\n",
      "Epoch 369/500\n",
      "6/6 [==============================] - 0s 53ms/step - loss: 2880.9741 - mae: 43.4361 - val_loss: 2479.3391 - val_mae: 45.2948\n",
      "Epoch 370/500\n",
      "6/6 [==============================] - 0s 53ms/step - loss: 2903.8132 - mae: 43.5169 - val_loss: 2609.6155 - val_mae: 46.6884\n",
      "Epoch 371/500\n",
      "6/6 [==============================] - 0s 55ms/step - loss: 2878.1047 - mae: 43.4108 - val_loss: 2414.7673 - val_mae: 44.5915\n",
      "Epoch 372/500\n",
      "6/6 [==============================] - 0s 54ms/step - loss: 2876.4702 - mae: 43.3783 - val_loss: 2612.0242 - val_mae: 46.7169\n",
      "Epoch 373/500\n",
      "6/6 [==============================] - 0s 55ms/step - loss: 2905.9197 - mae: 43.6810 - val_loss: 2363.0957 - val_mae: 44.0221\n",
      "Epoch 374/500\n",
      "6/6 [==============================] - 0s 54ms/step - loss: 2878.3704 - mae: 43.4205 - val_loss: 2248.5952 - val_mae: 42.7268\n",
      "Epoch 375/500\n",
      "6/6 [==============================] - 0s 54ms/step - loss: 2898.4102 - mae: 43.4265 - val_loss: 2550.5913 - val_mae: 46.0704\n",
      "Epoch 376/500\n",
      "6/6 [==============================] - 0s 55ms/step - loss: 2890.4661 - mae: 43.5152 - val_loss: 2302.6255 - val_mae: 43.3462\n",
      "Epoch 377/500\n",
      "6/6 [==============================] - 0s 55ms/step - loss: 2894.3984 - mae: 43.6444 - val_loss: 2215.0750 - val_mae: 42.3475\n",
      "Epoch 378/500\n",
      "6/6 [==============================] - 0s 55ms/step - loss: 2871.7078 - mae: 43.3912 - val_loss: 2131.0732 - val_mae: 41.3651\n",
      "Epoch 379/500\n",
      "6/6 [==============================] - 0s 53ms/step - loss: 2875.0278 - mae: 43.4870 - val_loss: 2349.1069 - val_mae: 43.9002\n",
      "Epoch 380/500\n",
      "6/6 [==============================] - 0s 53ms/step - loss: 2854.0522 - mae: 43.1965 - val_loss: 2371.1516 - val_mae: 44.1537\n",
      "Epoch 381/500\n",
      "6/6 [==============================] - 0s 54ms/step - loss: 2889.8376 - mae: 43.4819 - val_loss: 2370.6926 - val_mae: 44.1508\n",
      "Epoch 382/500\n",
      "6/6 [==============================] - 0s 54ms/step - loss: 2876.5884 - mae: 43.4721 - val_loss: 2298.3357 - val_mae: 43.3391\n",
      "Epoch 383/500\n",
      "6/6 [==============================] - 0s 54ms/step - loss: 2900.1975 - mae: 43.6230 - val_loss: 2448.0828 - val_mae: 45.0058\n",
      "Epoch 384/500\n",
      "6/6 [==============================] - 0s 54ms/step - loss: 2849.2700 - mae: 43.1017 - val_loss: 2546.6328 - val_mae: 46.0691\n",
      "Epoch 385/500\n",
      "6/6 [==============================] - 0s 53ms/step - loss: 2854.1646 - mae: 43.1767 - val_loss: 2375.7688 - val_mae: 44.2061\n",
      "Epoch 386/500\n",
      "6/6 [==============================] - 0s 53ms/step - loss: 2842.8557 - mae: 43.1441 - val_loss: 2349.1428 - val_mae: 43.8858\n",
      "Epoch 387/500\n",
      "6/6 [==============================] - 0s 53ms/step - loss: 2867.7610 - mae: 43.3094 - val_loss: 2320.2356 - val_mae: 43.5616\n",
      "Epoch 388/500\n",
      "6/6 [==============================] - 0s 54ms/step - loss: 2866.6003 - mae: 43.3290 - val_loss: 2236.7136 - val_mae: 42.6114\n",
      "Epoch 389/500\n",
      "6/6 [==============================] - 0s 54ms/step - loss: 2849.7905 - mae: 43.3039 - val_loss: 2205.1260 - val_mae: 42.2463\n",
      "Epoch 390/500\n",
      "6/6 [==============================] - 0s 53ms/step - loss: 2859.5649 - mae: 43.2814 - val_loss: 2434.0972 - val_mae: 44.8304\n",
      "Epoch 391/500\n",
      "6/6 [==============================] - 0s 53ms/step - loss: 2830.9722 - mae: 43.1455 - val_loss: 2268.4626 - val_mae: 42.9770\n",
      "Epoch 392/500\n",
      "6/6 [==============================] - 0s 54ms/step - loss: 2858.6565 - mae: 43.3890 - val_loss: 2202.6511 - val_mae: 42.2391\n",
      "Epoch 393/500\n",
      "6/6 [==============================] - 0s 54ms/step - loss: 2875.3982 - mae: 43.4653 - val_loss: 2368.5464 - val_mae: 44.1323\n",
      "Epoch 394/500\n",
      "6/6 [==============================] - 0s 55ms/step - loss: 2822.4763 - mae: 42.9495 - val_loss: 2485.2603 - val_mae: 45.4154\n",
      "Epoch 395/500\n",
      "6/6 [==============================] - 0s 55ms/step - loss: 2847.6672 - mae: 43.2184 - val_loss: 2373.2371 - val_mae: 44.1895\n",
      "Epoch 396/500\n",
      "6/6 [==============================] - 0s 54ms/step - loss: 2841.3843 - mae: 43.1239 - val_loss: 2354.4438 - val_mae: 43.9856\n",
      "Epoch 397/500\n",
      "6/6 [==============================] - 0s 55ms/step - loss: 2880.4580 - mae: 43.4813 - val_loss: 2084.3560 - val_mae: 40.8608\n",
      "Epoch 398/500\n",
      "6/6 [==============================] - 0s 54ms/step - loss: 2855.8062 - mae: 43.2782 - val_loss: 2191.2109 - val_mae: 42.1260\n",
      "Epoch 399/500\n",
      "6/6 [==============================] - 0s 57ms/step - loss: 2849.4424 - mae: 43.2096 - val_loss: 2329.1924 - val_mae: 43.7064\n",
      "Epoch 400/500\n",
      "6/6 [==============================] - 0s 53ms/step - loss: 2840.5222 - mae: 43.1355 - val_loss: 2251.1758 - val_mae: 42.8238\n",
      "Epoch 401/500\n",
      "6/6 [==============================] - 0s 54ms/step - loss: 2836.3005 - mae: 43.1299 - val_loss: 2789.2678 - val_mae: 48.6099\n",
      "Epoch 402/500\n",
      "6/6 [==============================] - 0s 53ms/step - loss: 2995.3835 - mae: 44.6008 - val_loss: 3110.3359 - val_mae: 51.7522\n",
      "Epoch 403/500\n",
      "6/6 [==============================] - 0s 53ms/step - loss: 2961.8601 - mae: 44.2540 - val_loss: 2563.6047 - val_mae: 46.2694\n",
      "Epoch 404/500\n",
      "6/6 [==============================] - 0s 54ms/step - loss: 2858.0405 - mae: 43.3467 - val_loss: 1926.5770 - val_mae: 38.9256\n",
      "Epoch 405/500\n",
      "6/6 [==============================] - 0s 53ms/step - loss: 2951.8625 - mae: 44.3468 - val_loss: 2132.2341 - val_mae: 41.4354\n",
      "Epoch 406/500\n",
      "6/6 [==============================] - 0s 53ms/step - loss: 2860.7178 - mae: 43.4301 - val_loss: 2574.2869 - val_mae: 46.3793\n",
      "Epoch 407/500\n",
      "6/6 [==============================] - 0s 55ms/step - loss: 2884.0659 - mae: 43.4245 - val_loss: 2531.1936 - val_mae: 45.9194\n",
      "Epoch 408/500\n",
      "6/6 [==============================] - 0s 55ms/step - loss: 2827.0886 - mae: 43.1025 - val_loss: 2121.2480 - val_mae: 41.3007\n",
      "Epoch 409/500\n"
     ]
    },
    {
     "name": "stdout",
     "output_type": "stream",
     "text": [
      "6/6 [==============================] - 0s 55ms/step - loss: 2875.4963 - mae: 43.7008 - val_loss: 2150.3904 - val_mae: 41.6466\n",
      "Epoch 410/500\n",
      "6/6 [==============================] - 0s 54ms/step - loss: 2846.7803 - mae: 43.3020 - val_loss: 2408.8086 - val_mae: 44.5915\n",
      "Epoch 411/500\n",
      "6/6 [==============================] - 0s 54ms/step - loss: 2827.4727 - mae: 43.1088 - val_loss: 2269.1304 - val_mae: 43.0276\n",
      "Epoch 412/500\n",
      "6/6 [==============================] - 0s 54ms/step - loss: 2843.0664 - mae: 43.3538 - val_loss: 2214.2185 - val_mae: 42.3975\n",
      "Epoch 413/500\n",
      "6/6 [==============================] - 0s 54ms/step - loss: 2859.4570 - mae: 43.3923 - val_loss: 2334.6755 - val_mae: 43.7730\n",
      "Epoch 414/500\n",
      "6/6 [==============================] - 0s 55ms/step - loss: 2819.6628 - mae: 43.0197 - val_loss: 2557.2534 - val_mae: 46.2034\n",
      "Epoch 415/500\n",
      "6/6 [==============================] - 0s 55ms/step - loss: 2886.1880 - mae: 43.5715 - val_loss: 2867.1826 - val_mae: 49.3615\n",
      "Epoch 416/500\n",
      "6/6 [==============================] - 0s 54ms/step - loss: 2887.9673 - mae: 43.5628 - val_loss: 2533.8677 - val_mae: 45.9230\n",
      "Epoch 417/500\n",
      "6/6 [==============================] - 0s 54ms/step - loss: 2842.5942 - mae: 43.2194 - val_loss: 2492.3005 - val_mae: 45.4741\n",
      "Epoch 418/500\n",
      "6/6 [==============================] - 0s 55ms/step - loss: 2835.9485 - mae: 43.1587 - val_loss: 2304.8638 - val_mae: 43.4017\n",
      "Epoch 419/500\n",
      "6/6 [==============================] - 0s 55ms/step - loss: 2871.7168 - mae: 43.6263 - val_loss: 2241.6938 - val_mae: 42.6820\n",
      "Epoch 420/500\n",
      "6/6 [==============================] - 0s 55ms/step - loss: 2833.6484 - mae: 43.0970 - val_loss: 2291.8274 - val_mae: 43.2577\n",
      "Epoch 421/500\n",
      "6/6 [==============================] - 0s 55ms/step - loss: 2839.9534 - mae: 43.2220 - val_loss: 2346.7019 - val_mae: 43.8780\n",
      "Epoch 422/500\n",
      "6/6 [==============================] - 0s 56ms/step - loss: 2822.3540 - mae: 43.2333 - val_loss: 2179.9851 - val_mae: 41.9720\n",
      "Epoch 423/500\n",
      "6/6 [==============================] - 0s 55ms/step - loss: 2848.6409 - mae: 43.3879 - val_loss: 2272.2976 - val_mae: 43.0400\n",
      "Epoch 424/500\n",
      "6/6 [==============================] - 0s 55ms/step - loss: 2840.1636 - mae: 43.3356 - val_loss: 2227.4631 - val_mae: 42.5441\n",
      "Epoch 425/500\n",
      "6/6 [==============================] - 0s 55ms/step - loss: 2824.1091 - mae: 43.1704 - val_loss: 2149.7681 - val_mae: 41.6554\n",
      "Epoch 426/500\n",
      "6/6 [==============================] - 0s 56ms/step - loss: 2839.7837 - mae: 43.2067 - val_loss: 2103.7222 - val_mae: 41.1118\n",
      "Epoch 427/500\n",
      "6/6 [==============================] - 0s 54ms/step - loss: 2836.3945 - mae: 43.2170 - val_loss: 2214.8474 - val_mae: 42.4200\n",
      "Epoch 428/500\n",
      "6/6 [==============================] - 0s 54ms/step - loss: 2840.4285 - mae: 43.1640 - val_loss: 2220.3140 - val_mae: 42.4856\n",
      "Epoch 429/500\n",
      "6/6 [==============================] - 0s 54ms/step - loss: 2828.5667 - mae: 43.0557 - val_loss: 2455.8088 - val_mae: 45.1275\n",
      "Epoch 430/500\n",
      "6/6 [==============================] - 0s 53ms/step - loss: 2849.9143 - mae: 43.2240 - val_loss: 2463.5415 - val_mae: 45.2135\n",
      "Epoch 431/500\n",
      "6/6 [==============================] - 0s 54ms/step - loss: 2847.2251 - mae: 43.2281 - val_loss: 2445.7544 - val_mae: 45.0213\n",
      "Epoch 432/500\n",
      "6/6 [==============================] - 0s 56ms/step - loss: 2863.9224 - mae: 43.3759 - val_loss: 2114.8667 - val_mae: 41.2562\n",
      "Epoch 433/500\n",
      "6/6 [==============================] - 0s 53ms/step - loss: 2885.1838 - mae: 43.5603 - val_loss: 2177.9614 - val_mae: 42.0017\n",
      "Epoch 434/500\n",
      "6/6 [==============================] - 0s 54ms/step - loss: 2817.5735 - mae: 43.0165 - val_loss: 2410.9434 - val_mae: 44.6434\n",
      "Epoch 435/500\n",
      "6/6 [==============================] - 0s 56ms/step - loss: 2828.9253 - mae: 43.0847 - val_loss: 2397.4028 - val_mae: 44.4960\n",
      "Epoch 436/500\n",
      "6/6 [==============================] - 0s 56ms/step - loss: 2855.3586 - mae: 43.2642 - val_loss: 2466.2092 - val_mae: 45.2547\n",
      "Epoch 437/500\n",
      "6/6 [==============================] - 0s 55ms/step - loss: 2850.3723 - mae: 43.2314 - val_loss: 2298.7866 - val_mae: 43.4013\n",
      "Epoch 438/500\n",
      "6/6 [==============================] - 0s 56ms/step - loss: 2825.8093 - mae: 43.0704 - val_loss: 2122.9473 - val_mae: 41.3653\n",
      "Epoch 439/500\n",
      "6/6 [==============================] - 0s 55ms/step - loss: 2816.0896 - mae: 43.0191 - val_loss: 2073.6631 - val_mae: 40.7798\n",
      "Epoch 440/500\n",
      "6/6 [==============================] - 0s 54ms/step - loss: 2857.7358 - mae: 43.2449 - val_loss: 2466.9180 - val_mae: 45.2688\n",
      "Epoch 441/500\n",
      "6/6 [==============================] - 0s 53ms/step - loss: 2855.5737 - mae: 43.3461 - val_loss: 2561.7786 - val_mae: 46.2889\n",
      "Epoch 442/500\n",
      "6/6 [==============================] - 0s 55ms/step - loss: 2874.5530 - mae: 43.4766 - val_loss: 2638.8318 - val_mae: 47.1092\n",
      "Epoch 443/500\n",
      "6/6 [==============================] - 0s 54ms/step - loss: 2851.4702 - mae: 43.2465 - val_loss: 2234.9775 - val_mae: 42.6929\n",
      "Epoch 444/500\n",
      "6/6 [==============================] - 0s 55ms/step - loss: 2832.2153 - mae: 43.2259 - val_loss: 2136.1472 - val_mae: 41.5420\n",
      "Epoch 445/500\n",
      "6/6 [==============================] - 0s 55ms/step - loss: 2826.5923 - mae: 43.2386 - val_loss: 2254.0337 - val_mae: 42.9147\n",
      "Epoch 446/500\n",
      "6/6 [==============================] - 0s 56ms/step - loss: 2829.1702 - mae: 43.1078 - val_loss: 2300.4495 - val_mae: 43.4435\n",
      "Epoch 447/500\n",
      "6/6 [==============================] - 0s 55ms/step - loss: 2826.8071 - mae: 43.1134 - val_loss: 2152.4170 - val_mae: 41.7325\n",
      "Epoch 448/500\n",
      "6/6 [==============================] - 0s 53ms/step - loss: 2826.7515 - mae: 43.2133 - val_loss: 2193.2576 - val_mae: 42.2077\n",
      "Epoch 449/500\n",
      "6/6 [==============================] - 0s 53ms/step - loss: 2846.8706 - mae: 43.3924 - val_loss: 2083.3979 - val_mae: 40.9065\n",
      "Epoch 450/500\n",
      "6/6 [==============================] - 0s 54ms/step - loss: 2824.3269 - mae: 43.2239 - val_loss: 2276.0281 - val_mae: 43.1589\n",
      "Epoch 451/500\n",
      "6/6 [==============================] - 0s 53ms/step - loss: 2806.5256 - mae: 42.9971 - val_loss: 2431.7661 - val_mae: 44.9026\n",
      "Epoch 452/500\n",
      "6/6 [==============================] - 0s 53ms/step - loss: 2816.7705 - mae: 42.9823 - val_loss: 2145.1472 - val_mae: 41.6342\n",
      "Epoch 453/500\n",
      "6/6 [==============================] - 0s 54ms/step - loss: 2811.6160 - mae: 43.0872 - val_loss: 2237.1709 - val_mae: 42.6993\n",
      "Epoch 454/500\n",
      "6/6 [==============================] - 0s 53ms/step - loss: 2833.4819 - mae: 43.2277 - val_loss: 2482.9485 - val_mae: 45.4384\n",
      "Epoch 455/500\n",
      "6/6 [==============================] - 0s 53ms/step - loss: 2810.1316 - mae: 42.9618 - val_loss: 2271.3511 - val_mae: 43.0907\n",
      "Epoch 456/500\n",
      "6/6 [==============================] - 0s 55ms/step - loss: 2803.9783 - mae: 42.8430 - val_loss: 2379.2883 - val_mae: 44.3049\n",
      "Epoch 457/500\n",
      "6/6 [==============================] - 0s 55ms/step - loss: 2846.1941 - mae: 43.1570 - val_loss: 2763.6484 - val_mae: 48.3931\n",
      "Epoch 458/500\n",
      "6/6 [==============================] - 0s 55ms/step - loss: 2862.1616 - mae: 43.3701 - val_loss: 2165.8198 - val_mae: 41.9103\n",
      "Epoch 459/500\n",
      "6/6 [==============================] - 0s 54ms/step - loss: 2841.9714 - mae: 43.1651 - val_loss: 2044.6694 - val_mae: 40.4672\n",
      "Epoch 460/500\n",
      "6/6 [==============================] - 0s 55ms/step - loss: 2788.1704 - mae: 42.6700 - val_loss: 2356.1277 - val_mae: 44.0850\n",
      "Epoch 461/500\n",
      "6/6 [==============================] - 0s 55ms/step - loss: 2802.8081 - mae: 42.8594 - val_loss: 2308.5010 - val_mae: 43.5509\n",
      "Epoch 462/500\n",
      "6/6 [==============================] - 0s 54ms/step - loss: 2801.7839 - mae: 42.8926 - val_loss: 2317.3508 - val_mae: 43.6341\n",
      "Epoch 463/500\n",
      "6/6 [==============================] - 0s 55ms/step - loss: 2794.1636 - mae: 42.7959 - val_loss: 2305.2654 - val_mae: 43.4838\n",
      "Epoch 464/500\n",
      "6/6 [==============================] - 0s 55ms/step - loss: 2816.7612 - mae: 42.9857 - val_loss: 2299.8181 - val_mae: 43.4252\n",
      "Epoch 465/500\n",
      "6/6 [==============================] - 0s 54ms/step - loss: 2812.2456 - mae: 42.9981 - val_loss: 2332.6924 - val_mae: 43.7969\n",
      "Epoch 466/500\n",
      "6/6 [==============================] - 0s 53ms/step - loss: 2777.0452 - mae: 42.6333 - val_loss: 2480.1814 - val_mae: 45.4190\n",
      "Epoch 467/500\n"
     ]
    },
    {
     "name": "stdout",
     "output_type": "stream",
     "text": [
      "6/6 [==============================] - 0s 56ms/step - loss: 2848.9919 - mae: 43.2677 - val_loss: 2485.8101 - val_mae: 45.4810\n",
      "Epoch 468/500\n",
      "6/6 [==============================] - 0s 55ms/step - loss: 2808.7061 - mae: 42.9444 - val_loss: 2054.8591 - val_mae: 40.5660\n",
      "Epoch 469/500\n",
      "6/6 [==============================] - 0s 53ms/step - loss: 2833.2708 - mae: 43.1065 - val_loss: 2408.9727 - val_mae: 44.6457\n",
      "Epoch 470/500\n",
      "6/6 [==============================] - 0s 54ms/step - loss: 2794.2561 - mae: 42.8029 - val_loss: 2126.3049 - val_mae: 41.4206\n",
      "Epoch 471/500\n",
      "6/6 [==============================] - 0s 54ms/step - loss: 2821.6797 - mae: 43.1323 - val_loss: 2077.3501 - val_mae: 40.8390\n",
      "Epoch 472/500\n",
      "6/6 [==============================] - ETA: 0s - loss: 2804.0037 - mae: 42.941 - 0s 54ms/step - loss: 2804.1460 - mae: 42.9426 - val_loss: 2206.2551 - val_mae: 42.3665\n",
      "Epoch 473/500\n",
      "6/6 [==============================] - 0s 54ms/step - loss: 2786.5002 - mae: 42.7104 - val_loss: 2251.4443 - val_mae: 42.8827\n",
      "Epoch 474/500\n",
      "6/6 [==============================] - 0s 53ms/step - loss: 2774.8403 - mae: 42.6924 - val_loss: 2152.2209 - val_mae: 41.7564\n",
      "Epoch 475/500\n",
      "6/6 [==============================] - 0s 53ms/step - loss: 2813.2686 - mae: 42.9929 - val_loss: 2227.0510 - val_mae: 42.6348\n",
      "Epoch 476/500\n",
      "6/6 [==============================] - 0s 54ms/step - loss: 2791.7234 - mae: 42.7921 - val_loss: 2554.8384 - val_mae: 46.2361\n",
      "Epoch 477/500\n",
      "6/6 [==============================] - 0s 55ms/step - loss: 2818.4658 - mae: 42.9617 - val_loss: 2526.8022 - val_mae: 45.9325\n",
      "Epoch 478/500\n",
      "6/6 [==============================] - 0s 54ms/step - loss: 2799.7861 - mae: 42.8663 - val_loss: 2266.6875 - val_mae: 43.0903\n",
      "Epoch 479/500\n",
      "6/6 [==============================] - 0s 55ms/step - loss: 2819.4871 - mae: 42.9238 - val_loss: 2609.8994 - val_mae: 46.8458\n",
      "Epoch 480/500\n",
      "6/6 [==============================] - 0s 55ms/step - loss: 2809.0369 - mae: 42.9191 - val_loss: 2264.8137 - val_mae: 43.0738\n",
      "Epoch 481/500\n",
      "6/6 [==============================] - 0s 54ms/step - loss: 2798.8328 - mae: 42.8071 - val_loss: 2168.0200 - val_mae: 41.9549\n",
      "Epoch 482/500\n",
      "6/6 [==============================] - 0s 55ms/step - loss: 2807.7004 - mae: 42.8486 - val_loss: 2523.0352 - val_mae: 45.9247\n",
      "Epoch 483/500\n",
      "6/6 [==============================] - 0s 55ms/step - loss: 2852.4766 - mae: 43.3490 - val_loss: 2661.4211 - val_mae: 47.3798\n",
      "Epoch 484/500\n",
      "6/6 [==============================] - 0s 55ms/step - loss: 2789.6863 - mae: 42.7600 - val_loss: 2137.8125 - val_mae: 41.5817\n",
      "Epoch 485/500\n",
      "6/6 [==============================] - 0s 55ms/step - loss: 2820.4492 - mae: 43.1078 - val_loss: 1917.3812 - val_mae: 38.8719\n",
      "Epoch 486/500\n",
      "6/6 [==============================] - 0s 55ms/step - loss: 2849.2959 - mae: 43.4310 - val_loss: 2113.5618 - val_mae: 41.2737\n",
      "Epoch 487/500\n",
      "6/6 [==============================] - 0s 55ms/step - loss: 2783.1326 - mae: 42.6692 - val_loss: 2400.7607 - val_mae: 44.5565\n",
      "Epoch 488/500\n",
      "6/6 [==============================] - 0s 55ms/step - loss: 2769.9250 - mae: 42.5218 - val_loss: 2446.6287 - val_mae: 45.0568\n",
      "Epoch 489/500\n",
      "6/6 [==============================] - 0s 55ms/step - loss: 2798.2144 - mae: 42.8675 - val_loss: 2569.3472 - val_mae: 46.3691\n",
      "Epoch 490/500\n",
      "6/6 [==============================] - 0s 54ms/step - loss: 2782.0491 - mae: 42.7255 - val_loss: 2369.0444 - val_mae: 44.1798\n",
      "Epoch 491/500\n",
      "6/6 [==============================] - 0s 54ms/step - loss: 2778.0759 - mae: 42.7339 - val_loss: 2648.2400 - val_mae: 47.1762\n",
      "Epoch 492/500\n",
      "6/6 [==============================] - 0s 55ms/step - loss: 2804.9285 - mae: 42.9421 - val_loss: 2294.4797 - val_mae: 43.3664\n",
      "Epoch 493/500\n",
      "6/6 [==============================] - 0s 55ms/step - loss: 2812.5532 - mae: 43.0188 - val_loss: 2078.0144 - val_mae: 40.8597\n",
      "Epoch 494/500\n",
      "6/6 [==============================] - 0s 54ms/step - loss: 2790.6582 - mae: 42.9293 - val_loss: 2213.1821 - val_mae: 42.4485\n",
      "Epoch 495/500\n",
      "6/6 [==============================] - 0s 54ms/step - loss: 2790.2349 - mae: 42.8703 - val_loss: 2277.8188 - val_mae: 43.1772\n",
      "Epoch 496/500\n",
      "6/6 [==============================] - 0s 54ms/step - loss: 2774.2659 - mae: 42.6755 - val_loss: 2485.1545 - val_mae: 45.4720\n",
      "Epoch 497/500\n",
      "6/6 [==============================] - 0s 54ms/step - loss: 2795.4556 - mae: 42.7978 - val_loss: 2344.3918 - val_mae: 43.9353\n",
      "Epoch 498/500\n",
      "6/6 [==============================] - 0s 54ms/step - loss: 2745.9326 - mae: 42.3856 - val_loss: 1900.0873 - val_mae: 38.6665\n",
      "Epoch 499/500\n",
      "6/6 [==============================] - 0s 53ms/step - loss: 2835.1023 - mae: 43.3653 - val_loss: 1992.5963 - val_mae: 39.8255\n",
      "Epoch 500/500\n",
      "6/6 [==============================] - 0s 52ms/step - loss: 2777.2971 - mae: 42.6653 - val_loss: 2294.7288 - val_mae: 43.3896\n"
     ]
    }
   ],
   "source": [
    "history = model.fit(X_learn_in, y_learn, epochs=500, validation_data=(X_val_in, y_val), batch_size = X_learn_in.shape[0]//5 )"
   ]
  },
  {
   "cell_type": "code",
   "execution_count": 149,
   "id": "5ab6a7e2",
   "metadata": {},
   "outputs": [
    {
     "name": "stdout",
     "output_type": "stream",
     "text": [
      "\r",
      "  1/304 [..............................] - ETA: 0s - loss: 1308.1411 - mae: 30.8056"
     ]
    },
    {
     "name": "stderr",
     "output_type": "stream",
     "text": [
      "C:\\Users\\PFCva\\anaconda3\\envs\\ppg_model\\lib\\site-packages\\tensorflow\\python\\data\\ops\\dataset_ops.py:3349: UserWarning: Even though the tf.config.experimental_run_functions_eagerly option is set, this option does not apply to tf.data functions. tf.data functions are still traced and executed as graphs.\n",
      "  warnings.warn(\n"
     ]
    },
    {
     "name": "stdout",
     "output_type": "stream",
     "text": [
      "304/304 [==============================] - 2s 5ms/step - loss: 1096.1628 - mae: 27.4610\n"
     ]
    },
    {
     "data": {
      "text/plain": [
       "[1096.162841796875, 27.461029052734375]"
      ]
     },
     "execution_count": 149,
     "metadata": {},
     "output_type": "execute_result"
    }
   ],
   "source": [
    "model.evaluate(X_test_in, y_test)"
   ]
  },
  {
   "cell_type": "code",
   "execution_count": null,
   "id": "500a25a0",
   "metadata": {},
   "outputs": [],
   "source": []
  }
 ],
 "metadata": {
  "kernelspec": {
   "display_name": "Python 3 (ipykernel)",
   "language": "python",
   "name": "python3"
  },
  "language_info": {
   "codemirror_mode": {
    "name": "ipython",
    "version": 3
   },
   "file_extension": ".py",
   "mimetype": "text/x-python",
   "name": "python",
   "nbconvert_exporter": "python",
   "pygments_lexer": "ipython3",
   "version": "3.8.13"
  }
 },
 "nbformat": 4,
 "nbformat_minor": 5
}
