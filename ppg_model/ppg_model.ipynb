{
 "cells": [
  {
   "cell_type": "markdown",
   "id": "11b4d781",
   "metadata": {},
   "source": [
    "# Install packages needed\n",
    "\n",
    "https://docs.conda.io/projects/conda/en/latest/user-guide/tasks/manage-environments.html#deactivating-an-environment\n",
    "\n",
    "https://stackoverflow.com/questions/41402409/tensorflow-doesnt-seem-to-see-my-gpu/71809780#71809780\n",
    "\n",
    "https://stackoverflow.com/questions/65273118/why-is-tensorflow-not-recognizing-my-gpu-after-conda-install\n",
    "\n",
    "https://jakevdp.github.io/blog/2017/12/05/installing-python-packages-from-jupyter/\n",
    "\n",
    "https://discuss.tensorflow.org/t/found-conflicts-when-installing-spyder-in-an-environment-with-tensorflow-2-5/2718/3\n",
    "\n",
    "\n",
    "https://docs.anaconda.com/anaconda/user-guide/tasks/tensorflow/"
   ]
  },
  {
   "cell_type": "code",
   "execution_count": 1,
   "id": "a4a76c28",
   "metadata": {},
   "outputs": [
    {
     "name": "stdout",
     "output_type": "stream",
     "text": [
      "# packages in environment at C:\\Users\\PFCva\\anaconda3\\envs\\ppg_model:\n",
      "#\n",
      "# Name                    Version                   Build  Channel\n",
      "_tflow_select             2.3.0                       gpu  \n",
      "absl-py                   0.15.0             pyhd3eb1b0_0  \n",
      "aiohttp                   3.8.1            py38h2bbff1b_1  \n",
      "aiosignal                 1.2.0              pyhd3eb1b0_0  \n",
      "argon2-cffi               21.3.0             pyhd3eb1b0_0  \n",
      "argon2-cffi-bindings      21.2.0           py38h2bbff1b_0  \n",
      "astor                     0.8.1            py38haa95532_0  \n",
      "asttokens                 2.0.5              pyhd3eb1b0_0  \n",
      "astunparse                1.6.3                      py_0  \n",
      "async-timeout             4.0.1              pyhd3eb1b0_0  \n",
      "attrs                     21.4.0             pyhd3eb1b0_0  \n",
      "backcall                  0.2.0              pyhd3eb1b0_0  \n",
      "blas                      1.0                         mkl  \n",
      "bleach                    4.1.0              pyhd3eb1b0_0  \n",
      "blinker                   1.4              py38haa95532_0  \n",
      "bottleneck                1.3.4            py38h080aedc_0  \n",
      "brotli                    1.0.9                ha925a31_2  \n",
      "brotlipy                  0.7.0           py38h2bbff1b_1003  \n",
      "ca-certificates           2022.3.29            haa95532_0  \n",
      "cachetools                4.2.2              pyhd3eb1b0_0  \n",
      "certifi                   2021.10.8        py38haa95532_2  \n",
      "cffi                      1.15.0           py38h2bbff1b_1  \n",
      "charset-normalizer        2.0.4              pyhd3eb1b0_0  \n",
      "click                     8.0.4            py38haa95532_0  \n",
      "colorama                  0.4.4              pyhd3eb1b0_0  \n",
      "cryptography              3.4.8            py38h71e12ea_0  \n",
      "cudatoolkit               10.1.243             h74a9793_0  \n",
      "cudnn                     7.6.5                cuda10.1_0  \n",
      "cycler                    0.11.0             pyhd3eb1b0_0  \n",
      "dataclasses               0.8                pyh6d0b6a4_7  \n",
      "debugpy                   1.5.1            py38hd77b12b_0  \n",
      "decorator                 5.1.1              pyhd3eb1b0_0  \n",
      "defusedxml                0.7.1              pyhd3eb1b0_0  \n",
      "entrypoints               0.3                      py38_0  \n",
      "executing                 0.8.3              pyhd3eb1b0_0  \n",
      "fonttools                 4.25.0             pyhd3eb1b0_0  \n",
      "freetype                  2.10.4               hd328e21_0  \n",
      "frozenlist                1.2.0            py38h2bbff1b_0  \n",
      "gast                      0.4.0              pyhd3eb1b0_0  \n",
      "google-auth               2.6.0              pyhd3eb1b0_0  \n",
      "google-auth-oauthlib      0.4.4              pyhd3eb1b0_0  \n",
      "google-pasta              0.2.0              pyhd3eb1b0_0  \n",
      "grpcio                    1.42.0           py38hc60d5dd_0  \n",
      "h5py                      2.10.0           py38h5e291fa_0  \n",
      "hdf5                      1.10.4               h7ebc959_0  \n",
      "icc_rt                    2019.0.0             h0cc432a_1  \n",
      "icu                       58.2                 ha925a31_3  \n",
      "idna                      3.3                pyhd3eb1b0_0  \n",
      "importlib-metadata        4.11.3           py38haa95532_0  \n",
      "importlib_metadata        4.11.3               hd3eb1b0_0  \n",
      "intel-openmp              2021.4.0          haa95532_3556  \n",
      "ipykernel                 6.9.1            py38haa95532_0  \n",
      "ipython                   8.2.0            py38haa95532_0  \n",
      "ipython_genutils          0.2.0              pyhd3eb1b0_1  \n",
      "ipywidgets                7.6.5              pyhd3eb1b0_1  \n",
      "jedi                      0.18.1           py38haa95532_1  \n",
      "jinja2                    3.0.3              pyhd3eb1b0_0  \n",
      "jpeg                      9d                   h2bbff1b_0  \n",
      "jsonschema                3.2.0              pyhd3eb1b0_2  \n",
      "jupyter                   1.0.0                    py38_7  \n",
      "jupyter_client            7.1.2              pyhd3eb1b0_0  \n",
      "jupyter_console           6.4.3              pyhd3eb1b0_0  \n",
      "jupyter_core              4.9.2            py38haa95532_0  \n",
      "jupyterlab_pygments       0.1.2                      py_0  \n",
      "jupyterlab_widgets        1.0.0              pyhd3eb1b0_1  \n",
      "keras-applications        1.0.8                      py_1  \n",
      "keras-preprocessing       1.1.2              pyhd3eb1b0_0  \n",
      "kiwisolver                1.3.2            py38hd77b12b_0  \n",
      "libpng                    1.6.37               h2a8f88b_0  \n",
      "libprotobuf               3.19.1               h23ce68f_0  \n",
      "libtiff                   4.2.0                hd0e1b90_0  \n",
      "libwebp                   1.2.2                h2bbff1b_0  \n",
      "lz4-c                     1.9.3                h2bbff1b_1  \n",
      "markdown                  3.3.4            py38haa95532_0  \n",
      "markupsafe                2.0.1            py38h2bbff1b_0  \n",
      "matplotlib                3.5.1            py38haa95532_1  \n",
      "matplotlib-base           3.5.1            py38hd77b12b_1  \n",
      "matplotlib-inline         0.1.2              pyhd3eb1b0_2  \n",
      "mistune                   0.8.4           py38he774522_1000  \n",
      "mkl                       2021.4.0           haa95532_640  \n",
      "mkl-service               2.4.0            py38h2bbff1b_0  \n",
      "mkl_fft                   1.3.1            py38h277e83a_0  \n",
      "mkl_random                1.2.2            py38hf11a4ad_0  \n",
      "multidict                 5.1.0            py38h2bbff1b_2  \n",
      "munkres                   1.1.4                      py_0  \n",
      "nbclient                  0.5.11             pyhd3eb1b0_0  \n",
      "nbconvert                 6.1.0            py38haa95532_0  \n",
      "nbformat                  5.1.3              pyhd3eb1b0_0  \n",
      "nest-asyncio              1.5.1              pyhd3eb1b0_0  \n",
      "notebook                  6.4.8            py38haa95532_0  \n",
      "numexpr                   2.8.1            py38hb80d3ca_0  \n",
      "numpy                     1.21.5           py38ha4e8547_0  \n",
      "numpy-base                1.21.5           py38hc2deb75_0  \n",
      "oauthlib                  3.2.0              pyhd3eb1b0_0  \n",
      "openssl                   1.1.1n               h2bbff1b_0  \n",
      "opt_einsum                3.3.0              pyhd3eb1b0_1  \n",
      "packaging                 21.3               pyhd3eb1b0_0  \n",
      "pandas                    1.4.1            py38hd77b12b_1  \n",
      "pandocfilters             1.5.0              pyhd3eb1b0_0  \n",
      "parso                     0.8.3              pyhd3eb1b0_0  \n",
      "pickleshare               0.7.5           pyhd3eb1b0_1003  \n",
      "pillow                    9.0.1            py38hdc2b20a_0  \n",
      "pip                       21.2.2           py38haa95532_0  \n",
      "prometheus_client         0.13.1             pyhd3eb1b0_0  \n",
      "prompt-toolkit            3.0.20             pyhd3eb1b0_0  \n",
      "prompt_toolkit            3.0.20               hd3eb1b0_0  \n",
      "protobuf                  3.19.1           py38hd77b12b_0  \n",
      "pure_eval                 0.2.2              pyhd3eb1b0_0  \n",
      "pyasn1                    0.4.8              pyhd3eb1b0_0  \n",
      "pyasn1-modules            0.2.8                      py_0  \n",
      "pycparser                 2.21               pyhd3eb1b0_0  \n",
      "pygments                  2.11.2             pyhd3eb1b0_0  \n",
      "pyjwt                     2.1.0            py38haa95532_0  \n",
      "pyopenssl                 21.0.0             pyhd3eb1b0_1  \n",
      "pyparsing                 3.0.4              pyhd3eb1b0_0  \n",
      "pyqt                      5.9.2            py38hd77b12b_6  \n",
      "pyreadline                2.1                      py38_1  \n",
      "pyrsistent                0.18.0           py38h196d8e1_0  \n",
      "pysocks                   1.7.1            py38haa95532_0  \n",
      "python                    3.8.13               h6244533_0  \n",
      "python-dateutil           2.8.2              pyhd3eb1b0_0  \n",
      "pytz                      2021.3             pyhd3eb1b0_0  \n",
      "pywin32                   302              py38h827c3e9_1  \n",
      "pywinpty                  2.0.2            py38h5da7b33_0  \n",
      "pyzmq                     22.3.0           py38hd77b12b_2  \n",
      "qt                        5.9.7            vc14h73c81de_0  \n",
      "qtconsole                 5.3.0              pyhd3eb1b0_0  \n",
      "qtpy                      2.0.1              pyhd3eb1b0_0  \n",
      "requests                  2.27.1             pyhd3eb1b0_0  \n",
      "requests-oauthlib         1.3.0                      py_0  \n",
      "rsa                       4.7.2              pyhd3eb1b0_1  \n",
      "scipy                     1.7.3            py38h0a974cb_0  \n",
      "seaborn                   0.11.2             pyhd3eb1b0_0  \n",
      "send2trash                1.8.0              pyhd3eb1b0_1  \n",
      "setuptools                58.0.4           py38haa95532_0  \n",
      "sip                       4.19.13          py38hd77b12b_0  \n",
      "six                       1.16.0             pyhd3eb1b0_1  \n",
      "sqlite                    3.38.2               h2bbff1b_0  \n",
      "stack_data                0.2.0              pyhd3eb1b0_0  \n",
      "tensorboard               2.4.0              pyhc547734_0  \n",
      "tensorboard-plugin-wit    1.6.0                      py_0  \n",
      "tensorflow                2.3.0           mkl_py38h1fcfbd6_0  \n",
      "tensorflow-base           2.3.0           gpu_py38h7339f5a_0  \n",
      "tensorflow-estimator      2.6.0              pyh7b7c402_0  \n",
      "tensorflow-gpu            2.3.0                he13fc11_0  \n",
      "termcolor                 1.1.0            py38haa95532_1  \n",
      "terminado                 0.13.1           py38haa95532_0  \n",
      "testpath                  0.5.0              pyhd3eb1b0_0  \n",
      "tk                        8.6.11               h2bbff1b_0  \n",
      "tornado                   6.1              py38h2bbff1b_0  \n",
      "traitlets                 5.1.1              pyhd3eb1b0_0  \n",
      "typing-extensions         4.1.1                hd3eb1b0_0  \n",
      "typing_extensions         4.1.1              pyh06a4308_0  \n",
      "urllib3                   1.26.8             pyhd3eb1b0_0  \n",
      "vc                        14.2                 h21ff451_1  \n",
      "vs2015_runtime            14.27.29016          h5e58377_2  \n",
      "wcwidth                   0.2.5              pyhd3eb1b0_0  \n",
      "webencodings              0.5.1                    py38_1  \n",
      "werkzeug                  2.0.3              pyhd3eb1b0_0  \n",
      "wheel                     0.37.1             pyhd3eb1b0_0  \n",
      "widgetsnbextension        3.5.2            py38haa95532_0  \n",
      "win_inet_pton             1.1.0            py38haa95532_0  \n",
      "wincertstore              0.2              py38haa95532_2  \n",
      "winpty                    0.4.3                         4  \n",
      "wrapt                     1.13.3           py38h2bbff1b_2  \n",
      "xz                        5.2.5                h62dcd97_0  \n",
      "yarl                      1.6.3            py38h2bbff1b_0  \n",
      "zipp                      3.7.0              pyhd3eb1b0_0  \n",
      "zlib                      1.2.11               hbd8134f_5  \n",
      "zstd                      1.4.9                h19a0ad4_0  \n"
     ]
    }
   ],
   "source": [
    "!conda list"
   ]
  },
  {
   "cell_type": "code",
   "execution_count": 2,
   "id": "18fbf1b1",
   "metadata": {},
   "outputs": [
    {
     "name": "stdout",
     "output_type": "stream",
     "text": [
      "Num GPUs Available:  1\n"
     ]
    }
   ],
   "source": [
    "import tensorflow as tf\n",
    "print(\"Num GPUs Available: \", len(tf.config.list_physical_devices('GPU')))"
   ]
  },
  {
   "cell_type": "markdown",
   "id": "2375239d",
   "metadata": {},
   "source": [
    "# Load data "
   ]
  },
  {
   "cell_type": "code",
   "execution_count": 3,
   "id": "2cb68e59",
   "metadata": {},
   "outputs": [],
   "source": [
    "import pickle"
   ]
  },
  {
   "cell_type": "code",
   "execution_count": 4,
   "id": "9aa443ca",
   "metadata": {},
   "outputs": [],
   "source": [
    "import pandas as pd"
   ]
  },
  {
   "cell_type": "code",
   "execution_count": 5,
   "id": "8e8ee8af",
   "metadata": {},
   "outputs": [],
   "source": [
    "data = pd.read_pickle('E:/data_files/ppg_data/PPG_FieldStudy/S1/S1.pkl')"
   ]
  },
  {
   "cell_type": "code",
   "execution_count": 6,
   "id": "571c2ef7",
   "metadata": {
    "scrolled": true
   },
   "outputs": [
    {
     "data": {
      "text/plain": [
       "{'rpeaks': array([    240,    1174,    2128, ..., 6447292, 6447748, 6448224]),\n",
       " 'signal': {'chest': {'ACC': array([[ 0.85640001, -0.06779999, -0.36559999],\n",
       "          [ 0.8556    , -0.06900001, -0.3646    ],\n",
       "          [ 0.852     , -0.07020003, -0.3642    ],\n",
       "          ...,\n",
       "          [ 0.88759995, -0.1038    , -0.27920002],\n",
       "          [ 0.88619995, -0.10159999, -0.27819997],\n",
       "          [ 0.88680005, -0.10140002, -0.27380002]]),\n",
       "   'ECG': array([[0.01560974],\n",
       "          [0.01812744],\n",
       "          [0.01753235],\n",
       "          ...,\n",
       "          [0.21368408],\n",
       "          [0.21556091],\n",
       "          [0.21702576]]),\n",
       "   'EMG': array([[-1.5],\n",
       "          [-1.5],\n",
       "          [-1.5],\n",
       "          ...,\n",
       "          [-1.5],\n",
       "          [-1.5],\n",
       "          [-1.5]]),\n",
       "   'EDA': array([[0.],\n",
       "          [0.],\n",
       "          [0.],\n",
       "          ...,\n",
       "          [0.],\n",
       "          [0.],\n",
       "          [0.]]),\n",
       "   'Temp': array([[-273.15],\n",
       "          [-273.15],\n",
       "          [-273.15],\n",
       "          ...,\n",
       "          [-273.15],\n",
       "          [-273.15],\n",
       "          [-273.15]], dtype=float32),\n",
       "   'Resp': array([[ 4.4418335 ],\n",
       "          [ 4.45098877],\n",
       "          [ 4.47387695],\n",
       "          ...,\n",
       "          [-3.05023193],\n",
       "          [-3.05328369],\n",
       "          [-3.05633545]])},\n",
       "  'wrist': {'ACC': array([[-0.765625, -0.078125,  0.671875],\n",
       "          [-0.765625, -0.078125,  0.65625 ],\n",
       "          [-0.765625, -0.078125,  0.671875],\n",
       "          ...,\n",
       "          [-0.375   , -0.015625,  0.9375  ],\n",
       "          [-0.390625,  0.      ,  0.9375  ],\n",
       "          [-0.375   ,  0.      ,  0.9375  ]]),\n",
       "   'BVP': array([[  7.28],\n",
       "          [  6.33],\n",
       "          [  5.46],\n",
       "          ...,\n",
       "          [105.02],\n",
       "          [109.44],\n",
       "          [111.06]]),\n",
       "   'EDA': array([[4.722437],\n",
       "          [4.728843],\n",
       "          [4.718594],\n",
       "          ...,\n",
       "          [3.170867],\n",
       "          [3.159336],\n",
       "          [3.151649]]),\n",
       "   'TEMP': array([[32.13],\n",
       "          [32.16],\n",
       "          [32.16],\n",
       "          ...,\n",
       "          [34.37],\n",
       "          [34.37],\n",
       "          [34.37]])}},\n",
       " 'label': array([49.61136908, 50.32399248, 52.70833578, ..., 84.004991  ,\n",
       "        85.79625673, 87.4113988 ]),\n",
       " 'activity': array([[0.],\n",
       "        [0.],\n",
       "        [0.],\n",
       "        ...,\n",
       "        [0.],\n",
       "        [0.],\n",
       "        [0.]]),\n",
       " 'questionnaire': {'WEIGHT': 78.0,\n",
       "  'Gender': ' m',\n",
       "  'AGE': 34,\n",
       "  'HEIGHT': 182.0,\n",
       "  'SKIN': 3,\n",
       "  'SPORT': 6},\n",
       " 'subject': 'S1'}"
      ]
     },
     "execution_count": 6,
     "metadata": {},
     "output_type": "execute_result"
    }
   ],
   "source": [
    "data"
   ]
  },
  {
   "cell_type": "code",
   "execution_count": 7,
   "id": "7c17d8ae",
   "metadata": {},
   "outputs": [
    {
     "data": {
      "text/plain": [
       "dict_keys(['rpeaks', 'signal', 'label', 'activity', 'questionnaire', 'subject'])"
      ]
     },
     "execution_count": 7,
     "metadata": {},
     "output_type": "execute_result"
    }
   ],
   "source": [
    "data.keys()"
   ]
  },
  {
   "cell_type": "code",
   "execution_count": 8,
   "id": "3463c508",
   "metadata": {},
   "outputs": [
    {
     "data": {
      "text/plain": [
       "{'chest': {'ACC': array([[ 0.85640001, -0.06779999, -0.36559999],\n",
       "         [ 0.8556    , -0.06900001, -0.3646    ],\n",
       "         [ 0.852     , -0.07020003, -0.3642    ],\n",
       "         ...,\n",
       "         [ 0.88759995, -0.1038    , -0.27920002],\n",
       "         [ 0.88619995, -0.10159999, -0.27819997],\n",
       "         [ 0.88680005, -0.10140002, -0.27380002]]),\n",
       "  'ECG': array([[0.01560974],\n",
       "         [0.01812744],\n",
       "         [0.01753235],\n",
       "         ...,\n",
       "         [0.21368408],\n",
       "         [0.21556091],\n",
       "         [0.21702576]]),\n",
       "  'EMG': array([[-1.5],\n",
       "         [-1.5],\n",
       "         [-1.5],\n",
       "         ...,\n",
       "         [-1.5],\n",
       "         [-1.5],\n",
       "         [-1.5]]),\n",
       "  'EDA': array([[0.],\n",
       "         [0.],\n",
       "         [0.],\n",
       "         ...,\n",
       "         [0.],\n",
       "         [0.],\n",
       "         [0.]]),\n",
       "  'Temp': array([[-273.15],\n",
       "         [-273.15],\n",
       "         [-273.15],\n",
       "         ...,\n",
       "         [-273.15],\n",
       "         [-273.15],\n",
       "         [-273.15]], dtype=float32),\n",
       "  'Resp': array([[ 4.4418335 ],\n",
       "         [ 4.45098877],\n",
       "         [ 4.47387695],\n",
       "         ...,\n",
       "         [-3.05023193],\n",
       "         [-3.05328369],\n",
       "         [-3.05633545]])},\n",
       " 'wrist': {'ACC': array([[-0.765625, -0.078125,  0.671875],\n",
       "         [-0.765625, -0.078125,  0.65625 ],\n",
       "         [-0.765625, -0.078125,  0.671875],\n",
       "         ...,\n",
       "         [-0.375   , -0.015625,  0.9375  ],\n",
       "         [-0.390625,  0.      ,  0.9375  ],\n",
       "         [-0.375   ,  0.      ,  0.9375  ]]),\n",
       "  'BVP': array([[  7.28],\n",
       "         [  6.33],\n",
       "         [  5.46],\n",
       "         ...,\n",
       "         [105.02],\n",
       "         [109.44],\n",
       "         [111.06]]),\n",
       "  'EDA': array([[4.722437],\n",
       "         [4.728843],\n",
       "         [4.718594],\n",
       "         ...,\n",
       "         [3.170867],\n",
       "         [3.159336],\n",
       "         [3.151649]]),\n",
       "  'TEMP': array([[32.13],\n",
       "         [32.16],\n",
       "         [32.16],\n",
       "         ...,\n",
       "         [34.37],\n",
       "         [34.37],\n",
       "         [34.37]])}}"
      ]
     },
     "execution_count": 8,
     "metadata": {},
     "output_type": "execute_result"
    }
   ],
   "source": [
    "data['signal']"
   ]
  },
  {
   "cell_type": "code",
   "execution_count": 9,
   "id": "ab7c4be2",
   "metadata": {},
   "outputs": [
    {
     "data": {
      "text/plain": [
       "9212.0"
      ]
     },
     "execution_count": 9,
     "metadata": {},
     "output_type": "execute_result"
    }
   ],
   "source": [
    "data['signal']['wrist']['TEMP'].shape[0]/4"
   ]
  },
  {
   "cell_type": "code",
   "execution_count": 10,
   "id": "de2774cd",
   "metadata": {},
   "outputs": [
    {
     "data": {
      "text/plain": [
       "9212.0"
      ]
     },
     "execution_count": 10,
     "metadata": {},
     "output_type": "execute_result"
    }
   ],
   "source": [
    "data['signal']['wrist']['EDA'].shape[0]/4"
   ]
  },
  {
   "cell_type": "code",
   "execution_count": 11,
   "id": "ceaf859d",
   "metadata": {},
   "outputs": [
    {
     "data": {
      "text/plain": [
       "9212.0"
      ]
     },
     "execution_count": 11,
     "metadata": {},
     "output_type": "execute_result"
    }
   ],
   "source": [
    "data['signal']['wrist']['BVP'].shape[0]/64"
   ]
  },
  {
   "cell_type": "code",
   "execution_count": 12,
   "id": "63350467",
   "metadata": {},
   "outputs": [
    {
     "data": {
      "text/plain": [
       "9212.0"
      ]
     },
     "execution_count": 12,
     "metadata": {},
     "output_type": "execute_result"
    }
   ],
   "source": [
    "data['signal']['wrist']['ACC'].shape[0]/32"
   ]
  },
  {
   "cell_type": "code",
   "execution_count": 13,
   "id": "59d88f94",
   "metadata": {},
   "outputs": [
    {
     "data": {
      "text/plain": [
       "9206.0"
      ]
     },
     "execution_count": 13,
     "metadata": {},
     "output_type": "execute_result"
    }
   ],
   "source": [
    "data['label'].shape[0]/.5"
   ]
  },
  {
   "cell_type": "code",
   "execution_count": 14,
   "id": "46835769",
   "metadata": {},
   "outputs": [
    {
     "data": {
      "text/plain": [
       "9212.0"
      ]
     },
     "execution_count": 14,
     "metadata": {},
     "output_type": "execute_result"
    }
   ],
   "source": [
    "data['activity'].shape[0]/4"
   ]
  },
  {
   "cell_type": "code",
   "execution_count": 15,
   "id": "79186b06",
   "metadata": {},
   "outputs": [
    {
     "data": {
      "text/plain": [
       "(11431,)"
      ]
     },
     "execution_count": 15,
     "metadata": {},
     "output_type": "execute_result"
    }
   ],
   "source": [
    "data['rpeaks'].shape"
   ]
  },
  {
   "cell_type": "code",
   "execution_count": null,
   "id": "af5badbb",
   "metadata": {},
   "outputs": [],
   "source": []
  },
  {
   "cell_type": "code",
   "execution_count": null,
   "id": "e1048030",
   "metadata": {},
   "outputs": [],
   "source": []
  },
  {
   "cell_type": "code",
   "execution_count": null,
   "id": "b5a96064",
   "metadata": {},
   "outputs": [],
   "source": []
  },
  {
   "cell_type": "code",
   "execution_count": null,
   "id": "ddfdd9ed",
   "metadata": {},
   "outputs": [],
   "source": []
  },
  {
   "cell_type": "code",
   "execution_count": null,
   "id": "319c9873",
   "metadata": {},
   "outputs": [],
   "source": []
  },
  {
   "cell_type": "code",
   "execution_count": null,
   "id": "5264e02e",
   "metadata": {},
   "outputs": [],
   "source": []
  },
  {
   "cell_type": "code",
   "execution_count": null,
   "id": "d1fdd589",
   "metadata": {},
   "outputs": [],
   "source": []
  },
  {
   "cell_type": "code",
   "execution_count": null,
   "id": "2197bd75",
   "metadata": {},
   "outputs": [],
   "source": []
  },
  {
   "cell_type": "code",
   "execution_count": null,
   "id": "3249f58b",
   "metadata": {},
   "outputs": [],
   "source": []
  }
 ],
 "metadata": {
  "kernelspec": {
   "display_name": "Python 3 (ipykernel)",
   "language": "python",
   "name": "python3"
  },
  "language_info": {
   "codemirror_mode": {
    "name": "ipython",
    "version": 3
   },
   "file_extension": ".py",
   "mimetype": "text/x-python",
   "name": "python",
   "nbconvert_exporter": "python",
   "pygments_lexer": "ipython3",
   "version": "3.8.13"
  }
 },
 "nbformat": 4,
 "nbformat_minor": 5
}
